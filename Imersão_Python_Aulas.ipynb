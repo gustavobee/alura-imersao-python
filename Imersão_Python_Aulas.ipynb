{
  "cells": [
    {
      "cell_type": "markdown",
      "metadata": {
        "id": "2Qdq-GHHODnB"
      },
      "source": [
        "Aula 2 - Importação"
      ]
    },
    {
      "cell_type": "code",
      "execution_count": 2,
      "metadata": {
        "id": "nAv2LXDMN3xg"
      },
      "outputs": [],
      "source": [
        "import pandas as pd\n",
        "import plotly.express as px"
      ]
    },
    {
      "cell_type": "code",
      "execution_count": 3,
      "metadata": {
        "colab": {
          "base_uri": "https://localhost:8080/",
          "height": 621
        },
        "id": "WBcvjazgPx_-",
        "outputId": "4c7a6c66-392d-4fae-91e1-675d48f4d85b"
      },
      "outputs": [
        {
          "data": {
            "text/html": [
              "<div>\n",
              "<style scoped>\n",
              "    .dataframe tbody tr th:only-of-type {\n",
              "        vertical-align: middle;\n",
              "    }\n",
              "\n",
              "    .dataframe tbody tr th {\n",
              "        vertical-align: top;\n",
              "    }\n",
              "\n",
              "    .dataframe thead th {\n",
              "        text-align: right;\n",
              "    }\n",
              "</style>\n",
              "<table border=\"1\" class=\"dataframe\">\n",
              "  <thead>\n",
              "    <tr style=\"text-align: right;\">\n",
              "      <th></th>\n",
              "      <th>Ativo</th>\n",
              "      <th>Data</th>\n",
              "      <th>Último (R$)</th>\n",
              "      <th>Var. Dia (%)</th>\n",
              "      <th>Var. Sem. (%)</th>\n",
              "      <th>Var. Mês (%)</th>\n",
              "      <th>Var. Ano (%)</th>\n",
              "      <th>Var. 12M (%)</th>\n",
              "      <th>Val. Mín</th>\n",
              "      <th>Val. Máx</th>\n",
              "      <th>...</th>\n",
              "      <th>Variação Men. $</th>\n",
              "      <th>Resultado Men.</th>\n",
              "      <th>Variação Anual %</th>\n",
              "      <th>Valor Inicial (R$).1</th>\n",
              "      <th>Variação $.1</th>\n",
              "      <th>Resultado.1</th>\n",
              "      <th>Variação 12M %</th>\n",
              "      <th>Valor Inicial (R$).2</th>\n",
              "      <th>Variação $.2</th>\n",
              "      <th>Resultado.2</th>\n",
              "    </tr>\n",
              "  </thead>\n",
              "  <tbody>\n",
              "    <tr>\n",
              "      <th>0</th>\n",
              "      <td>USIM5</td>\n",
              "      <td>2024-01-26</td>\n",
              "      <td>9.50</td>\n",
              "      <td>5.20</td>\n",
              "      <td>11.76</td>\n",
              "      <td>2.26</td>\n",
              "      <td>2.26</td>\n",
              "      <td>15.97</td>\n",
              "      <td>9.18</td>\n",
              "      <td>9.56</td>\n",
              "      <td>...</td>\n",
              "      <td>1.081515e+08</td>\n",
              "      <td>Subiu</td>\n",
              "      <td>0.0226</td>\n",
              "      <td>9.290045</td>\n",
              "      <td>1.081515e+08</td>\n",
              "      <td>Subiu</td>\n",
              "      <td>0.1597</td>\n",
              "      <td>8.191774</td>\n",
              "      <td>6.738901e+08</td>\n",
              "      <td>Subiu</td>\n",
              "    </tr>\n",
              "    <tr>\n",
              "      <th>1</th>\n",
              "      <td>CMIN3</td>\n",
              "      <td>2024-01-26</td>\n",
              "      <td>6.82</td>\n",
              "      <td>2.40</td>\n",
              "      <td>2.40</td>\n",
              "      <td>-12.11</td>\n",
              "      <td>-12.11</td>\n",
              "      <td>50.56</td>\n",
              "      <td>6.66</td>\n",
              "      <td>6.86</td>\n",
              "      <td>...</td>\n",
              "      <td>-1.043592e+09</td>\n",
              "      <td>Desceu</td>\n",
              "      <td>-0.1211</td>\n",
              "      <td>7.759700</td>\n",
              "      <td>-1.043592e+09</td>\n",
              "      <td>Desceu</td>\n",
              "      <td>0.5056</td>\n",
              "      <td>4.529756</td>\n",
              "      <td>2.543452e+09</td>\n",
              "      <td>Subiu</td>\n",
              "    </tr>\n",
              "    <tr>\n",
              "      <th>2</th>\n",
              "      <td>PETR3</td>\n",
              "      <td>2024-01-26</td>\n",
              "      <td>41.96</td>\n",
              "      <td>2.19</td>\n",
              "      <td>7.73</td>\n",
              "      <td>7.64</td>\n",
              "      <td>7.64</td>\n",
              "      <td>77.55</td>\n",
              "      <td>40.81</td>\n",
              "      <td>42.34</td>\n",
              "      <td>...</td>\n",
              "      <td>7.087773e+09</td>\n",
              "      <td>Subiu</td>\n",
              "      <td>0.0764</td>\n",
              "      <td>38.981791</td>\n",
              "      <td>7.087773e+09</td>\n",
              "      <td>Subiu</td>\n",
              "      <td>0.7755</td>\n",
              "      <td>23.632780</td>\n",
              "      <td>4.361654e+10</td>\n",
              "      <td>Subiu</td>\n",
              "    </tr>\n",
              "    <tr>\n",
              "      <th>3</th>\n",
              "      <td>SUZB3</td>\n",
              "      <td>2024-01-26</td>\n",
              "      <td>52.91</td>\n",
              "      <td>2.04</td>\n",
              "      <td>2.14</td>\n",
              "      <td>-4.89</td>\n",
              "      <td>-4.89</td>\n",
              "      <td>18.85</td>\n",
              "      <td>51.89</td>\n",
              "      <td>53.17</td>\n",
              "      <td>...</td>\n",
              "      <td>-1.859212e+09</td>\n",
              "      <td>Desceu</td>\n",
              "      <td>-0.0489</td>\n",
              "      <td>55.630323</td>\n",
              "      <td>-1.859212e+09</td>\n",
              "      <td>Desceu</td>\n",
              "      <td>0.1885</td>\n",
              "      <td>44.518300</td>\n",
              "      <td>5.735331e+09</td>\n",
              "      <td>Subiu</td>\n",
              "    </tr>\n",
              "    <tr>\n",
              "      <th>4</th>\n",
              "      <td>CPFE3</td>\n",
              "      <td>2024-01-26</td>\n",
              "      <td>37.10</td>\n",
              "      <td>2.03</td>\n",
              "      <td>2.49</td>\n",
              "      <td>-3.66</td>\n",
              "      <td>-3.66</td>\n",
              "      <td>20.70</td>\n",
              "      <td>36.37</td>\n",
              "      <td>37.32</td>\n",
              "      <td>...</td>\n",
              "      <td>-2.645988e+08</td>\n",
              "      <td>Desceu</td>\n",
              "      <td>-0.0366</td>\n",
              "      <td>38.509446</td>\n",
              "      <td>-2.645988e+08</td>\n",
              "      <td>Desceu</td>\n",
              "      <td>0.2070</td>\n",
              "      <td>30.737365</td>\n",
              "      <td>1.194474e+09</td>\n",
              "      <td>Subiu</td>\n",
              "    </tr>\n",
              "    <tr>\n",
              "      <th>5</th>\n",
              "      <td>PRIO3</td>\n",
              "      <td>2024-01-26</td>\n",
              "      <td>45.69</td>\n",
              "      <td>1.98</td>\n",
              "      <td>2.42</td>\n",
              "      <td>-0.78</td>\n",
              "      <td>-0.78</td>\n",
              "      <td>8.08</td>\n",
              "      <td>44.25</td>\n",
              "      <td>45.69</td>\n",
              "      <td>...</td>\n",
              "      <td>-2.873508e+08</td>\n",
              "      <td>Desceu</td>\n",
              "      <td>-0.0078</td>\n",
              "      <td>46.049184</td>\n",
              "      <td>-2.873508e+08</td>\n",
              "      <td>Desceu</td>\n",
              "      <td>0.0808</td>\n",
              "      <td>42.274241</td>\n",
              "      <td>2.732644e+09</td>\n",
              "      <td>Subiu</td>\n",
              "    </tr>\n",
              "    <tr>\n",
              "      <th>6</th>\n",
              "      <td>PETR4</td>\n",
              "      <td>2024-01-26</td>\n",
              "      <td>39.96</td>\n",
              "      <td>1.73</td>\n",
              "      <td>6.47</td>\n",
              "      <td>7.30</td>\n",
              "      <td>7.30</td>\n",
              "      <td>95.01</td>\n",
              "      <td>38.91</td>\n",
              "      <td>40.09</td>\n",
              "      <td>...</td>\n",
              "      <td>1.241443e+10</td>\n",
              "      <td>Subiu</td>\n",
              "      <td>0.0730</td>\n",
              "      <td>37.241379</td>\n",
              "      <td>1.241443e+10</td>\n",
              "      <td>Subiu</td>\n",
              "      <td>0.9501</td>\n",
              "      <td>20.491257</td>\n",
              "      <td>8.890296e+10</td>\n",
              "      <td>Subiu</td>\n",
              "    </tr>\n",
              "    <tr>\n",
              "      <th>7</th>\n",
              "      <td>VALE3</td>\n",
              "      <td>2024-01-26</td>\n",
              "      <td>69.50</td>\n",
              "      <td>1.66</td>\n",
              "      <td>2.06</td>\n",
              "      <td>-9.97</td>\n",
              "      <td>-9.97</td>\n",
              "      <td>-23.49</td>\n",
              "      <td>67.50</td>\n",
              "      <td>69.81</td>\n",
              "      <td>...</td>\n",
              "      <td>-3.230159e+10</td>\n",
              "      <td>Desceu</td>\n",
              "      <td>-0.0997</td>\n",
              "      <td>77.196490</td>\n",
              "      <td>-3.230159e+10</td>\n",
              "      <td>Desceu</td>\n",
              "      <td>-0.2349</td>\n",
              "      <td>90.837799</td>\n",
              "      <td>-8.955313e+10</td>\n",
              "      <td>Desceu</td>\n",
              "    </tr>\n",
              "    <tr>\n",
              "      <th>8</th>\n",
              "      <td>MULT3</td>\n",
              "      <td>2024-01-26</td>\n",
              "      <td>28.19</td>\n",
              "      <td>1.58</td>\n",
              "      <td>2.03</td>\n",
              "      <td>-0.81</td>\n",
              "      <td>-0.81</td>\n",
              "      <td>24.02</td>\n",
              "      <td>27.71</td>\n",
              "      <td>28.36</td>\n",
              "      <td>...</td>\n",
              "      <td>-6.181093e+07</td>\n",
              "      <td>Desceu</td>\n",
              "      <td>-0.0081</td>\n",
              "      <td>28.420204</td>\n",
              "      <td>-6.181093e+07</td>\n",
              "      <td>Desceu</td>\n",
              "      <td>0.2402</td>\n",
              "      <td>22.730205</td>\n",
              "      <td>1.465985e+09</td>\n",
              "      <td>Subiu</td>\n",
              "    </tr>\n",
              "    <tr>\n",
              "      <th>9</th>\n",
              "      <td>ITUB4</td>\n",
              "      <td>2024-01-26</td>\n",
              "      <td>32.81</td>\n",
              "      <td>1.48</td>\n",
              "      <td>-0.39</td>\n",
              "      <td>-3.36</td>\n",
              "      <td>-3.36</td>\n",
              "      <td>34.25</td>\n",
              "      <td>32.35</td>\n",
              "      <td>32.91</td>\n",
              "      <td>...</td>\n",
              "      <td>-5.477394e+09</td>\n",
              "      <td>Desceu</td>\n",
              "      <td>-0.0336</td>\n",
              "      <td>33.950745</td>\n",
              "      <td>-5.477394e+09</td>\n",
              "      <td>Desceu</td>\n",
              "      <td>0.3425</td>\n",
              "      <td>24.439479</td>\n",
              "      <td>4.019184e+10</td>\n",
              "      <td>Subiu</td>\n",
              "    </tr>\n",
              "  </tbody>\n",
              "</table>\n",
              "<p>10 rows × 37 columns</p>\n",
              "</div>"
            ],
            "text/plain": [
              "   Ativo       Data  Último (R$)  Var. Dia (%)  Var. Sem. (%)  Var. Mês (%)  \\\n",
              "0  USIM5 2024-01-26         9.50          5.20          11.76          2.26   \n",
              "1  CMIN3 2024-01-26         6.82          2.40           2.40        -12.11   \n",
              "2  PETR3 2024-01-26        41.96          2.19           7.73          7.64   \n",
              "3  SUZB3 2024-01-26        52.91          2.04           2.14         -4.89   \n",
              "4  CPFE3 2024-01-26        37.10          2.03           2.49         -3.66   \n",
              "5  PRIO3 2024-01-26        45.69          1.98           2.42         -0.78   \n",
              "6  PETR4 2024-01-26        39.96          1.73           6.47          7.30   \n",
              "7  VALE3 2024-01-26        69.50          1.66           2.06         -9.97   \n",
              "8  MULT3 2024-01-26        28.19          1.58           2.03         -0.81   \n",
              "9  ITUB4 2024-01-26        32.81          1.48          -0.39         -3.36   \n",
              "\n",
              "   Var. Ano (%)  Var. 12M (%)  Val. Mín  Val. Máx  ... Variação Men. $  \\\n",
              "0          2.26         15.97      9.18      9.56  ...    1.081515e+08   \n",
              "1        -12.11         50.56      6.66      6.86  ...   -1.043592e+09   \n",
              "2          7.64         77.55     40.81     42.34  ...    7.087773e+09   \n",
              "3         -4.89         18.85     51.89     53.17  ...   -1.859212e+09   \n",
              "4         -3.66         20.70     36.37     37.32  ...   -2.645988e+08   \n",
              "5         -0.78          8.08     44.25     45.69  ...   -2.873508e+08   \n",
              "6          7.30         95.01     38.91     40.09  ...    1.241443e+10   \n",
              "7         -9.97        -23.49     67.50     69.81  ...   -3.230159e+10   \n",
              "8         -0.81         24.02     27.71     28.36  ...   -6.181093e+07   \n",
              "9         -3.36         34.25     32.35     32.91  ...   -5.477394e+09   \n",
              "\n",
              "   Resultado Men.  Variação Anual %  Valor Inicial (R$).1  Variação $.1  \\\n",
              "0           Subiu            0.0226              9.290045  1.081515e+08   \n",
              "1          Desceu           -0.1211              7.759700 -1.043592e+09   \n",
              "2           Subiu            0.0764             38.981791  7.087773e+09   \n",
              "3          Desceu           -0.0489             55.630323 -1.859212e+09   \n",
              "4          Desceu           -0.0366             38.509446 -2.645988e+08   \n",
              "5          Desceu           -0.0078             46.049184 -2.873508e+08   \n",
              "6           Subiu            0.0730             37.241379  1.241443e+10   \n",
              "7          Desceu           -0.0997             77.196490 -3.230159e+10   \n",
              "8          Desceu           -0.0081             28.420204 -6.181093e+07   \n",
              "9          Desceu           -0.0336             33.950745 -5.477394e+09   \n",
              "\n",
              "  Resultado.1 Variação 12M % Valor Inicial (R$).2  Variação $.2 Resultado.2  \n",
              "0       Subiu         0.1597             8.191774  6.738901e+08       Subiu  \n",
              "1      Desceu         0.5056             4.529756  2.543452e+09       Subiu  \n",
              "2       Subiu         0.7755            23.632780  4.361654e+10       Subiu  \n",
              "3      Desceu         0.1885            44.518300  5.735331e+09       Subiu  \n",
              "4      Desceu         0.2070            30.737365  1.194474e+09       Subiu  \n",
              "5      Desceu         0.0808            42.274241  2.732644e+09       Subiu  \n",
              "6       Subiu         0.9501            20.491257  8.890296e+10       Subiu  \n",
              "7      Desceu        -0.2349            90.837799 -8.955313e+10      Desceu  \n",
              "8      Desceu         0.2402            22.730205  1.465985e+09       Subiu  \n",
              "9      Desceu         0.3425            24.439479  4.019184e+10       Subiu  \n",
              "\n",
              "[10 rows x 37 columns]"
            ]
          },
          "execution_count": 3,
          "metadata": {},
          "output_type": "execute_result"
        }
      ],
      "source": [
        "df_principal = pd.read_excel(\"/home/gustavo/Imersão Python Alura/Imersão Python - Tabela de ações.xlsx\", sheet_name=\"Principal\")\n",
        "df_principal.head(10)"
      ]
    },
    {
      "cell_type": "code",
      "execution_count": 4,
      "metadata": {
        "colab": {
          "base_uri": "https://localhost:8080/",
          "height": 424
        },
        "id": "8vZEbDxsRQiR",
        "outputId": "b5576d83-e441-4799-9608-c201bddb2a07"
      },
      "outputs": [
        {
          "data": {
            "text/html": [
              "<div>\n",
              "<style scoped>\n",
              "    .dataframe tbody tr th:only-of-type {\n",
              "        vertical-align: middle;\n",
              "    }\n",
              "\n",
              "    .dataframe tbody tr th {\n",
              "        vertical-align: top;\n",
              "    }\n",
              "\n",
              "    .dataframe thead th {\n",
              "        text-align: right;\n",
              "    }\n",
              "</style>\n",
              "<table border=\"1\" class=\"dataframe\">\n",
              "  <thead>\n",
              "    <tr style=\"text-align: right;\">\n",
              "      <th></th>\n",
              "      <th>Código</th>\n",
              "      <th>Qtde. Teórica</th>\n",
              "    </tr>\n",
              "  </thead>\n",
              "  <tbody>\n",
              "    <tr>\n",
              "      <th>0</th>\n",
              "      <td>RRRP3</td>\n",
              "      <td>2.356656e+08</td>\n",
              "    </tr>\n",
              "    <tr>\n",
              "      <th>1</th>\n",
              "      <td>ALOS3</td>\n",
              "      <td>5.326166e+08</td>\n",
              "    </tr>\n",
              "    <tr>\n",
              "      <th>2</th>\n",
              "      <td>ALPA4</td>\n",
              "      <td>1.767340e+08</td>\n",
              "    </tr>\n",
              "    <tr>\n",
              "      <th>3</th>\n",
              "      <td>ABEV3</td>\n",
              "      <td>4.394246e+09</td>\n",
              "    </tr>\n",
              "    <tr>\n",
              "      <th>4</th>\n",
              "      <td>ARZZ3</td>\n",
              "      <td>6.230589e+07</td>\n",
              "    </tr>\n",
              "    <tr>\n",
              "      <th>...</th>\n",
              "      <td>...</td>\n",
              "      <td>...</td>\n",
              "    </tr>\n",
              "    <tr>\n",
              "      <th>84</th>\n",
              "      <td>VBBR3</td>\n",
              "      <td>1.114413e+09</td>\n",
              "    </tr>\n",
              "    <tr>\n",
              "      <th>85</th>\n",
              "      <td>WEGE3</td>\n",
              "      <td>1.481593e+09</td>\n",
              "    </tr>\n",
              "    <tr>\n",
              "      <th>86</th>\n",
              "      <td>YDUQ3</td>\n",
              "      <td>2.893479e+08</td>\n",
              "    </tr>\n",
              "    <tr>\n",
              "      <th>87</th>\n",
              "      <td>Quantidade Teórica Total</td>\n",
              "      <td>9.637210e+10</td>\n",
              "    </tr>\n",
              "    <tr>\n",
              "      <th>88</th>\n",
              "      <td>Redutor</td>\n",
              "      <td>1.704785e+07</td>\n",
              "    </tr>\n",
              "  </tbody>\n",
              "</table>\n",
              "<p>89 rows × 2 columns</p>\n",
              "</div>"
            ],
            "text/plain": [
              "                      Código  Qtde. Teórica\n",
              "0                      RRRP3   2.356656e+08\n",
              "1                      ALOS3   5.326166e+08\n",
              "2                      ALPA4   1.767340e+08\n",
              "3                      ABEV3   4.394246e+09\n",
              "4                      ARZZ3   6.230589e+07\n",
              "..                       ...            ...\n",
              "84                     VBBR3   1.114413e+09\n",
              "85                     WEGE3   1.481593e+09\n",
              "86                     YDUQ3   2.893479e+08\n",
              "87  Quantidade Teórica Total   9.637210e+10\n",
              "88                   Redutor   1.704785e+07\n",
              "\n",
              "[89 rows x 2 columns]"
            ]
          },
          "execution_count": 4,
          "metadata": {},
          "output_type": "execute_result"
        }
      ],
      "source": [
        "df_total_acoes = pd.read_excel(\"/home/gustavo/Imersão Python Alura/Imersão Python - Tabela de ações.xlsx\", sheet_name=\"Total_de_acoes\")\n",
        "df_total_acoes"
      ]
    },
    {
      "cell_type": "code",
      "execution_count": 5,
      "metadata": {
        "colab": {
          "base_uri": "https://localhost:8080/",
          "height": 424
        },
        "id": "AzckvXHoRuqV",
        "outputId": "34b5d101-1861-4488-dd3c-bd9111d3868b"
      },
      "outputs": [
        {
          "data": {
            "text/html": [
              "<div>\n",
              "<style scoped>\n",
              "    .dataframe tbody tr th:only-of-type {\n",
              "        vertical-align: middle;\n",
              "    }\n",
              "\n",
              "    .dataframe tbody tr th {\n",
              "        vertical-align: top;\n",
              "    }\n",
              "\n",
              "    .dataframe thead th {\n",
              "        text-align: right;\n",
              "    }\n",
              "</style>\n",
              "<table border=\"1\" class=\"dataframe\">\n",
              "  <thead>\n",
              "    <tr style=\"text-align: right;\">\n",
              "      <th></th>\n",
              "      <th>Ticker</th>\n",
              "      <th>Nome</th>\n",
              "    </tr>\n",
              "  </thead>\n",
              "  <tbody>\n",
              "    <tr>\n",
              "      <th>0</th>\n",
              "      <td>MGLU3</td>\n",
              "      <td>Magazine Luiza</td>\n",
              "    </tr>\n",
              "    <tr>\n",
              "      <th>1</th>\n",
              "      <td>HAPV3</td>\n",
              "      <td>Hapvida</td>\n",
              "    </tr>\n",
              "    <tr>\n",
              "      <th>2</th>\n",
              "      <td>PETR4</td>\n",
              "      <td>Petrobras</td>\n",
              "    </tr>\n",
              "    <tr>\n",
              "      <th>3</th>\n",
              "      <td>B3SA3</td>\n",
              "      <td>B3</td>\n",
              "    </tr>\n",
              "    <tr>\n",
              "      <th>4</th>\n",
              "      <td>USIM5</td>\n",
              "      <td>Usiminas</td>\n",
              "    </tr>\n",
              "    <tr>\n",
              "      <th>...</th>\n",
              "      <td>...</td>\n",
              "      <td>...</td>\n",
              "    </tr>\n",
              "    <tr>\n",
              "      <th>530</th>\n",
              "      <td>TKNO3</td>\n",
              "      <td>Tekno</td>\n",
              "    </tr>\n",
              "    <tr>\n",
              "      <th>531</th>\n",
              "      <td>COCE6</td>\n",
              "      <td>Coelce</td>\n",
              "    </tr>\n",
              "    <tr>\n",
              "      <th>532</th>\n",
              "      <td>MGEL3</td>\n",
              "      <td>Mangels</td>\n",
              "    </tr>\n",
              "    <tr>\n",
              "      <th>533</th>\n",
              "      <td>CTSA8</td>\n",
              "      <td>Santanense</td>\n",
              "    </tr>\n",
              "    <tr>\n",
              "      <th>534</th>\n",
              "      <td>MMAQ4</td>\n",
              "      <td>Minasmáquinas</td>\n",
              "    </tr>\n",
              "  </tbody>\n",
              "</table>\n",
              "<p>535 rows × 2 columns</p>\n",
              "</div>"
            ],
            "text/plain": [
              "    Ticker            Nome\n",
              "0    MGLU3  Magazine Luiza\n",
              "1    HAPV3         Hapvida\n",
              "2    PETR4       Petrobras\n",
              "3    B3SA3              B3\n",
              "4    USIM5        Usiminas\n",
              "..     ...             ...\n",
              "530  TKNO3           Tekno\n",
              "531  COCE6          Coelce\n",
              "532  MGEL3         Mangels\n",
              "533  CTSA8      Santanense\n",
              "534  MMAQ4   Minasmáquinas\n",
              "\n",
              "[535 rows x 2 columns]"
            ]
          },
          "execution_count": 5,
          "metadata": {},
          "output_type": "execute_result"
        }
      ],
      "source": [
        "df_ticker = pd.read_excel(\"/home/gustavo/Imersão Python Alura/Imersão Python - Tabela de ações.xlsx\", sheet_name=\"Ticker\")\n",
        "df_ticker"
      ]
    },
    {
      "cell_type": "code",
      "execution_count": 6,
      "metadata": {
        "colab": {
          "base_uri": "https://localhost:8080/",
          "height": 424
        },
        "id": "2USDVWwLR3uK",
        "outputId": "827ed6e4-76b8-4846-ed03-1b6b5cb51a99"
      },
      "outputs": [
        {
          "data": {
            "text/html": [
              "<div>\n",
              "<style scoped>\n",
              "    .dataframe tbody tr th:only-of-type {\n",
              "        vertical-align: middle;\n",
              "    }\n",
              "\n",
              "    .dataframe tbody tr th {\n",
              "        vertical-align: top;\n",
              "    }\n",
              "\n",
              "    .dataframe thead th {\n",
              "        text-align: right;\n",
              "    }\n",
              "</style>\n",
              "<table border=\"1\" class=\"dataframe\">\n",
              "  <thead>\n",
              "    <tr style=\"text-align: right;\">\n",
              "      <th></th>\n",
              "      <th>Nome da Empresa</th>\n",
              "      <th>Segmento</th>\n",
              "      <th>Idade em anos</th>\n",
              "    </tr>\n",
              "  </thead>\n",
              "  <tbody>\n",
              "    <tr>\n",
              "      <th>0</th>\n",
              "      <td>Usiminas</td>\n",
              "      <td>Siderurgia</td>\n",
              "      <td>59</td>\n",
              "    </tr>\n",
              "    <tr>\n",
              "      <th>1</th>\n",
              "      <td>CSN Mineração</td>\n",
              "      <td>Mineração</td>\n",
              "      <td>6</td>\n",
              "    </tr>\n",
              "    <tr>\n",
              "      <th>2</th>\n",
              "      <td>Petrobras</td>\n",
              "      <td>Petróleo e Gás</td>\n",
              "      <td>69</td>\n",
              "    </tr>\n",
              "    <tr>\n",
              "      <th>3</th>\n",
              "      <td>Suzano</td>\n",
              "      <td>Papel e Celulose</td>\n",
              "      <td>96</td>\n",
              "    </tr>\n",
              "    <tr>\n",
              "      <th>4</th>\n",
              "      <td>CPFL Energia</td>\n",
              "      <td>Energia</td>\n",
              "      <td>109</td>\n",
              "    </tr>\n",
              "    <tr>\n",
              "      <th>...</th>\n",
              "      <td>...</td>\n",
              "      <td>...</td>\n",
              "      <td>...</td>\n",
              "    </tr>\n",
              "    <tr>\n",
              "      <th>73</th>\n",
              "      <td>Carrefour Brasil</td>\n",
              "      <td>Varejo</td>\n",
              "      <td>36</td>\n",
              "    </tr>\n",
              "    <tr>\n",
              "      <th>74</th>\n",
              "      <td>Casas Bahia</td>\n",
              "      <td>Varejo</td>\n",
              "      <td>71</td>\n",
              "    </tr>\n",
              "    <tr>\n",
              "      <th>75</th>\n",
              "      <td>Localiza</td>\n",
              "      <td>Aluguel de Carros</td>\n",
              "      <td>48</td>\n",
              "    </tr>\n",
              "    <tr>\n",
              "      <th>76</th>\n",
              "      <td>CVC</td>\n",
              "      <td>Turismo</td>\n",
              "      <td>49</td>\n",
              "    </tr>\n",
              "    <tr>\n",
              "      <th>77</th>\n",
              "      <td>GOL</td>\n",
              "      <td>Aviação</td>\n",
              "      <td>21</td>\n",
              "    </tr>\n",
              "  </tbody>\n",
              "</table>\n",
              "<p>78 rows × 3 columns</p>\n",
              "</div>"
            ],
            "text/plain": [
              "     Nome da Empresa           Segmento  Idade em anos\n",
              "0           Usiminas         Siderurgia             59\n",
              "1      CSN Mineração          Mineração              6\n",
              "2          Petrobras     Petróleo e Gás             69\n",
              "3             Suzano   Papel e Celulose             96\n",
              "4       CPFL Energia            Energia            109\n",
              "..               ...                ...            ...\n",
              "73  Carrefour Brasil             Varejo             36\n",
              "74       Casas Bahia             Varejo             71\n",
              "75          Localiza  Aluguel de Carros             48\n",
              "76               CVC            Turismo             49\n",
              "77               GOL            Aviação             21\n",
              "\n",
              "[78 rows x 3 columns]"
            ]
          },
          "execution_count": 6,
          "metadata": {},
          "output_type": "execute_result"
        }
      ],
      "source": [
        "df_chatgpt = pd.read_excel(\"/home/gustavo/Imersão Python Alura/Imersão Python - Tabela de ações.xlsx\", sheet_name=\"Chatgpt\")\n",
        "df_chatgpt"
      ]
    },
    {
      "cell_type": "code",
      "execution_count": 7,
      "metadata": {},
      "outputs": [
        {
          "data": {
            "text/html": [
              "<div>\n",
              "<style scoped>\n",
              "    .dataframe tbody tr th:only-of-type {\n",
              "        vertical-align: middle;\n",
              "    }\n",
              "\n",
              "    .dataframe tbody tr th {\n",
              "        vertical-align: top;\n",
              "    }\n",
              "\n",
              "    .dataframe thead th {\n",
              "        text-align: right;\n",
              "    }\n",
              "</style>\n",
              "<table border=\"1\" class=\"dataframe\">\n",
              "  <thead>\n",
              "    <tr style=\"text-align: right;\">\n",
              "      <th></th>\n",
              "      <th>Ativo</th>\n",
              "      <th>Data</th>\n",
              "      <th>Último (R$)</th>\n",
              "      <th>Var. Dia (%)</th>\n",
              "    </tr>\n",
              "  </thead>\n",
              "  <tbody>\n",
              "    <tr>\n",
              "      <th>0</th>\n",
              "      <td>USIM5</td>\n",
              "      <td>2024-01-26</td>\n",
              "      <td>9.50</td>\n",
              "      <td>5.20</td>\n",
              "    </tr>\n",
              "    <tr>\n",
              "      <th>1</th>\n",
              "      <td>CMIN3</td>\n",
              "      <td>2024-01-26</td>\n",
              "      <td>6.82</td>\n",
              "      <td>2.40</td>\n",
              "    </tr>\n",
              "    <tr>\n",
              "      <th>2</th>\n",
              "      <td>PETR3</td>\n",
              "      <td>2024-01-26</td>\n",
              "      <td>41.96</td>\n",
              "      <td>2.19</td>\n",
              "    </tr>\n",
              "    <tr>\n",
              "      <th>3</th>\n",
              "      <td>SUZB3</td>\n",
              "      <td>2024-01-26</td>\n",
              "      <td>52.91</td>\n",
              "      <td>2.04</td>\n",
              "    </tr>\n",
              "    <tr>\n",
              "      <th>4</th>\n",
              "      <td>CPFE3</td>\n",
              "      <td>2024-01-26</td>\n",
              "      <td>37.10</td>\n",
              "      <td>2.03</td>\n",
              "    </tr>\n",
              "    <tr>\n",
              "      <th>...</th>\n",
              "      <td>...</td>\n",
              "      <td>...</td>\n",
              "      <td>...</td>\n",
              "      <td>...</td>\n",
              "    </tr>\n",
              "    <tr>\n",
              "      <th>76</th>\n",
              "      <td>CRFB3</td>\n",
              "      <td>2024-01-26</td>\n",
              "      <td>10.71</td>\n",
              "      <td>-2.45</td>\n",
              "    </tr>\n",
              "    <tr>\n",
              "      <th>77</th>\n",
              "      <td>BHIA3</td>\n",
              "      <td>2024-01-26</td>\n",
              "      <td>8.70</td>\n",
              "      <td>-2.46</td>\n",
              "    </tr>\n",
              "    <tr>\n",
              "      <th>78</th>\n",
              "      <td>RENT3</td>\n",
              "      <td>2024-01-26</td>\n",
              "      <td>56.24</td>\n",
              "      <td>-3.63</td>\n",
              "    </tr>\n",
              "    <tr>\n",
              "      <th>79</th>\n",
              "      <td>CVCB3</td>\n",
              "      <td>2024-01-26</td>\n",
              "      <td>3.07</td>\n",
              "      <td>-4.36</td>\n",
              "    </tr>\n",
              "    <tr>\n",
              "      <th>80</th>\n",
              "      <td>GOLL4</td>\n",
              "      <td>2024-01-26</td>\n",
              "      <td>5.92</td>\n",
              "      <td>-8.07</td>\n",
              "    </tr>\n",
              "  </tbody>\n",
              "</table>\n",
              "<p>81 rows × 4 columns</p>\n",
              "</div>"
            ],
            "text/plain": [
              "    Ativo       Data  Último (R$)  Var. Dia (%)\n",
              "0   USIM5 2024-01-26         9.50          5.20\n",
              "1   CMIN3 2024-01-26         6.82          2.40\n",
              "2   PETR3 2024-01-26        41.96          2.19\n",
              "3   SUZB3 2024-01-26        52.91          2.04\n",
              "4   CPFE3 2024-01-26        37.10          2.03\n",
              "..    ...        ...          ...           ...\n",
              "76  CRFB3 2024-01-26        10.71         -2.45\n",
              "77  BHIA3 2024-01-26         8.70         -2.46\n",
              "78  RENT3 2024-01-26        56.24         -3.63\n",
              "79  CVCB3 2024-01-26         3.07         -4.36\n",
              "80  GOLL4 2024-01-26         5.92         -8.07\n",
              "\n",
              "[81 rows x 4 columns]"
            ]
          },
          "execution_count": 7,
          "metadata": {},
          "output_type": "execute_result"
        }
      ],
      "source": [
        "df_principal = df_principal[['Ativo','Data','Último (R$)', 'Var. Dia (%)']].copy()\n",
        "df_principal"
      ]
    },
    {
      "cell_type": "code",
      "execution_count": 8,
      "metadata": {},
      "outputs": [
        {
          "data": {
            "text/html": [
              "<div>\n",
              "<style scoped>\n",
              "    .dataframe tbody tr th:only-of-type {\n",
              "        vertical-align: middle;\n",
              "    }\n",
              "\n",
              "    .dataframe tbody tr th {\n",
              "        vertical-align: top;\n",
              "    }\n",
              "\n",
              "    .dataframe thead th {\n",
              "        text-align: right;\n",
              "    }\n",
              "</style>\n",
              "<table border=\"1\" class=\"dataframe\">\n",
              "  <thead>\n",
              "    <tr style=\"text-align: right;\">\n",
              "      <th></th>\n",
              "      <th>Ativo</th>\n",
              "      <th>Data</th>\n",
              "      <th>Valor_Final</th>\n",
              "      <th>Var_dia_pct</th>\n",
              "    </tr>\n",
              "  </thead>\n",
              "  <tbody>\n",
              "    <tr>\n",
              "      <th>0</th>\n",
              "      <td>USIM5</td>\n",
              "      <td>2024-01-26</td>\n",
              "      <td>9.50</td>\n",
              "      <td>5.20</td>\n",
              "    </tr>\n",
              "    <tr>\n",
              "      <th>1</th>\n",
              "      <td>CMIN3</td>\n",
              "      <td>2024-01-26</td>\n",
              "      <td>6.82</td>\n",
              "      <td>2.40</td>\n",
              "    </tr>\n",
              "    <tr>\n",
              "      <th>2</th>\n",
              "      <td>PETR3</td>\n",
              "      <td>2024-01-26</td>\n",
              "      <td>41.96</td>\n",
              "      <td>2.19</td>\n",
              "    </tr>\n",
              "    <tr>\n",
              "      <th>3</th>\n",
              "      <td>SUZB3</td>\n",
              "      <td>2024-01-26</td>\n",
              "      <td>52.91</td>\n",
              "      <td>2.04</td>\n",
              "    </tr>\n",
              "    <tr>\n",
              "      <th>4</th>\n",
              "      <td>CPFE3</td>\n",
              "      <td>2024-01-26</td>\n",
              "      <td>37.10</td>\n",
              "      <td>2.03</td>\n",
              "    </tr>\n",
              "    <tr>\n",
              "      <th>...</th>\n",
              "      <td>...</td>\n",
              "      <td>...</td>\n",
              "      <td>...</td>\n",
              "      <td>...</td>\n",
              "    </tr>\n",
              "    <tr>\n",
              "      <th>76</th>\n",
              "      <td>CRFB3</td>\n",
              "      <td>2024-01-26</td>\n",
              "      <td>10.71</td>\n",
              "      <td>-2.45</td>\n",
              "    </tr>\n",
              "    <tr>\n",
              "      <th>77</th>\n",
              "      <td>BHIA3</td>\n",
              "      <td>2024-01-26</td>\n",
              "      <td>8.70</td>\n",
              "      <td>-2.46</td>\n",
              "    </tr>\n",
              "    <tr>\n",
              "      <th>78</th>\n",
              "      <td>RENT3</td>\n",
              "      <td>2024-01-26</td>\n",
              "      <td>56.24</td>\n",
              "      <td>-3.63</td>\n",
              "    </tr>\n",
              "    <tr>\n",
              "      <th>79</th>\n",
              "      <td>CVCB3</td>\n",
              "      <td>2024-01-26</td>\n",
              "      <td>3.07</td>\n",
              "      <td>-4.36</td>\n",
              "    </tr>\n",
              "    <tr>\n",
              "      <th>80</th>\n",
              "      <td>GOLL4</td>\n",
              "      <td>2024-01-26</td>\n",
              "      <td>5.92</td>\n",
              "      <td>-8.07</td>\n",
              "    </tr>\n",
              "  </tbody>\n",
              "</table>\n",
              "<p>81 rows × 4 columns</p>\n",
              "</div>"
            ],
            "text/plain": [
              "    Ativo       Data  Valor_Final  Var_dia_pct\n",
              "0   USIM5 2024-01-26         9.50         5.20\n",
              "1   CMIN3 2024-01-26         6.82         2.40\n",
              "2   PETR3 2024-01-26        41.96         2.19\n",
              "3   SUZB3 2024-01-26        52.91         2.04\n",
              "4   CPFE3 2024-01-26        37.10         2.03\n",
              "..    ...        ...          ...          ...\n",
              "76  CRFB3 2024-01-26        10.71        -2.45\n",
              "77  BHIA3 2024-01-26         8.70        -2.46\n",
              "78  RENT3 2024-01-26        56.24        -3.63\n",
              "79  CVCB3 2024-01-26         3.07        -4.36\n",
              "80  GOLL4 2024-01-26         5.92        -8.07\n",
              "\n",
              "[81 rows x 4 columns]"
            ]
          },
          "execution_count": 8,
          "metadata": {},
          "output_type": "execute_result"
        }
      ],
      "source": [
        "df_principal = df_principal.rename(columns={'Último (R$)': 'Valor_Final', 'Var. Dia (%)': 'Var_dia_pct'}).copy()\n",
        "df_principal"
      ]
    },
    {
      "cell_type": "code",
      "execution_count": 9,
      "metadata": {},
      "outputs": [
        {
          "data": {
            "text/html": [
              "<div>\n",
              "<style scoped>\n",
              "    .dataframe tbody tr th:only-of-type {\n",
              "        vertical-align: middle;\n",
              "    }\n",
              "\n",
              "    .dataframe tbody tr th {\n",
              "        vertical-align: top;\n",
              "    }\n",
              "\n",
              "    .dataframe thead th {\n",
              "        text-align: right;\n",
              "    }\n",
              "</style>\n",
              "<table border=\"1\" class=\"dataframe\">\n",
              "  <thead>\n",
              "    <tr style=\"text-align: right;\">\n",
              "      <th></th>\n",
              "      <th>Ativo</th>\n",
              "      <th>Data</th>\n",
              "      <th>Valor_Final</th>\n",
              "      <th>Var_dia_pct</th>\n",
              "      <th>Var_pct</th>\n",
              "      <th>Valor_Inicial</th>\n",
              "    </tr>\n",
              "  </thead>\n",
              "  <tbody>\n",
              "    <tr>\n",
              "      <th>0</th>\n",
              "      <td>USIM5</td>\n",
              "      <td>2024-01-26</td>\n",
              "      <td>9.50</td>\n",
              "      <td>5.20</td>\n",
              "      <td>0.0520</td>\n",
              "      <td>9.030418</td>\n",
              "    </tr>\n",
              "    <tr>\n",
              "      <th>1</th>\n",
              "      <td>CMIN3</td>\n",
              "      <td>2024-01-26</td>\n",
              "      <td>6.82</td>\n",
              "      <td>2.40</td>\n",
              "      <td>0.0240</td>\n",
              "      <td>6.660156</td>\n",
              "    </tr>\n",
              "    <tr>\n",
              "      <th>2</th>\n",
              "      <td>PETR3</td>\n",
              "      <td>2024-01-26</td>\n",
              "      <td>41.96</td>\n",
              "      <td>2.19</td>\n",
              "      <td>0.0219</td>\n",
              "      <td>41.060769</td>\n",
              "    </tr>\n",
              "    <tr>\n",
              "      <th>3</th>\n",
              "      <td>SUZB3</td>\n",
              "      <td>2024-01-26</td>\n",
              "      <td>52.91</td>\n",
              "      <td>2.04</td>\n",
              "      <td>0.0204</td>\n",
              "      <td>51.852215</td>\n",
              "    </tr>\n",
              "    <tr>\n",
              "      <th>4</th>\n",
              "      <td>CPFE3</td>\n",
              "      <td>2024-01-26</td>\n",
              "      <td>37.10</td>\n",
              "      <td>2.03</td>\n",
              "      <td>0.0203</td>\n",
              "      <td>36.361854</td>\n",
              "    </tr>\n",
              "    <tr>\n",
              "      <th>...</th>\n",
              "      <td>...</td>\n",
              "      <td>...</td>\n",
              "      <td>...</td>\n",
              "      <td>...</td>\n",
              "      <td>...</td>\n",
              "      <td>...</td>\n",
              "    </tr>\n",
              "    <tr>\n",
              "      <th>76</th>\n",
              "      <td>CRFB3</td>\n",
              "      <td>2024-01-26</td>\n",
              "      <td>10.71</td>\n",
              "      <td>-2.45</td>\n",
              "      <td>-0.0245</td>\n",
              "      <td>10.978985</td>\n",
              "    </tr>\n",
              "    <tr>\n",
              "      <th>77</th>\n",
              "      <td>BHIA3</td>\n",
              "      <td>2024-01-26</td>\n",
              "      <td>8.70</td>\n",
              "      <td>-2.46</td>\n",
              "      <td>-0.0246</td>\n",
              "      <td>8.919418</td>\n",
              "    </tr>\n",
              "    <tr>\n",
              "      <th>78</th>\n",
              "      <td>RENT3</td>\n",
              "      <td>2024-01-26</td>\n",
              "      <td>56.24</td>\n",
              "      <td>-3.63</td>\n",
              "      <td>-0.0363</td>\n",
              "      <td>58.358410</td>\n",
              "    </tr>\n",
              "    <tr>\n",
              "      <th>79</th>\n",
              "      <td>CVCB3</td>\n",
              "      <td>2024-01-26</td>\n",
              "      <td>3.07</td>\n",
              "      <td>-4.36</td>\n",
              "      <td>-0.0436</td>\n",
              "      <td>3.209954</td>\n",
              "    </tr>\n",
              "    <tr>\n",
              "      <th>80</th>\n",
              "      <td>GOLL4</td>\n",
              "      <td>2024-01-26</td>\n",
              "      <td>5.92</td>\n",
              "      <td>-8.07</td>\n",
              "      <td>-0.0807</td>\n",
              "      <td>6.439682</td>\n",
              "    </tr>\n",
              "  </tbody>\n",
              "</table>\n",
              "<p>81 rows × 6 columns</p>\n",
              "</div>"
            ],
            "text/plain": [
              "    Ativo       Data  Valor_Final  Var_dia_pct  Var_pct  Valor_Inicial\n",
              "0   USIM5 2024-01-26         9.50         5.20   0.0520       9.030418\n",
              "1   CMIN3 2024-01-26         6.82         2.40   0.0240       6.660156\n",
              "2   PETR3 2024-01-26        41.96         2.19   0.0219      41.060769\n",
              "3   SUZB3 2024-01-26        52.91         2.04   0.0204      51.852215\n",
              "4   CPFE3 2024-01-26        37.10         2.03   0.0203      36.361854\n",
              "..    ...        ...          ...          ...      ...            ...\n",
              "76  CRFB3 2024-01-26        10.71        -2.45  -0.0245      10.978985\n",
              "77  BHIA3 2024-01-26         8.70        -2.46  -0.0246       8.919418\n",
              "78  RENT3 2024-01-26        56.24        -3.63  -0.0363      58.358410\n",
              "79  CVCB3 2024-01-26         3.07        -4.36  -0.0436       3.209954\n",
              "80  GOLL4 2024-01-26         5.92        -8.07  -0.0807       6.439682\n",
              "\n",
              "[81 rows x 6 columns]"
            ]
          },
          "execution_count": 9,
          "metadata": {},
          "output_type": "execute_result"
        }
      ],
      "source": [
        "df_principal['Var_pct'] = df_principal['Var_dia_pct'] / 100\n",
        "df_principal['Valor_Inicial'] = df_principal['Valor_Final'] / (df_principal['Var_pct'] + 1)\n",
        "df_principal"
      ]
    },
    {
      "cell_type": "code",
      "execution_count": 10,
      "metadata": {},
      "outputs": [
        {
          "data": {
            "text/html": [
              "<div>\n",
              "<style scoped>\n",
              "    .dataframe tbody tr th:only-of-type {\n",
              "        vertical-align: middle;\n",
              "    }\n",
              "\n",
              "    .dataframe tbody tr th {\n",
              "        vertical-align: top;\n",
              "    }\n",
              "\n",
              "    .dataframe thead th {\n",
              "        text-align: right;\n",
              "    }\n",
              "</style>\n",
              "<table border=\"1\" class=\"dataframe\">\n",
              "  <thead>\n",
              "    <tr style=\"text-align: right;\">\n",
              "      <th></th>\n",
              "      <th>Ativo</th>\n",
              "      <th>Data</th>\n",
              "      <th>Valor_Final</th>\n",
              "      <th>Var_dia_pct</th>\n",
              "      <th>Var_pct</th>\n",
              "      <th>Valor_Inicial</th>\n",
              "      <th>Código</th>\n",
              "      <th>Qtde. Teórica</th>\n",
              "    </tr>\n",
              "  </thead>\n",
              "  <tbody>\n",
              "    <tr>\n",
              "      <th>0</th>\n",
              "      <td>USIM5</td>\n",
              "      <td>2024-01-26</td>\n",
              "      <td>9.50</td>\n",
              "      <td>5.20</td>\n",
              "      <td>0.0520</td>\n",
              "      <td>9.030418</td>\n",
              "      <td>USIM5</td>\n",
              "      <td>5.151174e+08</td>\n",
              "    </tr>\n",
              "    <tr>\n",
              "      <th>1</th>\n",
              "      <td>CMIN3</td>\n",
              "      <td>2024-01-26</td>\n",
              "      <td>6.82</td>\n",
              "      <td>2.40</td>\n",
              "      <td>0.0240</td>\n",
              "      <td>6.660156</td>\n",
              "      <td>CMIN3</td>\n",
              "      <td>1.110559e+09</td>\n",
              "    </tr>\n",
              "    <tr>\n",
              "      <th>2</th>\n",
              "      <td>PETR3</td>\n",
              "      <td>2024-01-26</td>\n",
              "      <td>41.96</td>\n",
              "      <td>2.19</td>\n",
              "      <td>0.0219</td>\n",
              "      <td>41.060769</td>\n",
              "      <td>PETR3</td>\n",
              "      <td>2.379878e+09</td>\n",
              "    </tr>\n",
              "    <tr>\n",
              "      <th>3</th>\n",
              "      <td>SUZB3</td>\n",
              "      <td>2024-01-26</td>\n",
              "      <td>52.91</td>\n",
              "      <td>2.04</td>\n",
              "      <td>0.0204</td>\n",
              "      <td>51.852215</td>\n",
              "      <td>SUZB3</td>\n",
              "      <td>6.834528e+08</td>\n",
              "    </tr>\n",
              "    <tr>\n",
              "      <th>4</th>\n",
              "      <td>CPFE3</td>\n",
              "      <td>2024-01-26</td>\n",
              "      <td>37.10</td>\n",
              "      <td>2.03</td>\n",
              "      <td>0.0203</td>\n",
              "      <td>36.361854</td>\n",
              "      <td>CPFE3</td>\n",
              "      <td>1.877325e+08</td>\n",
              "    </tr>\n",
              "    <tr>\n",
              "      <th>...</th>\n",
              "      <td>...</td>\n",
              "      <td>...</td>\n",
              "      <td>...</td>\n",
              "      <td>...</td>\n",
              "      <td>...</td>\n",
              "      <td>...</td>\n",
              "      <td>...</td>\n",
              "      <td>...</td>\n",
              "    </tr>\n",
              "    <tr>\n",
              "      <th>76</th>\n",
              "      <td>CRFB3</td>\n",
              "      <td>2024-01-26</td>\n",
              "      <td>10.71</td>\n",
              "      <td>-2.45</td>\n",
              "      <td>-0.0245</td>\n",
              "      <td>10.978985</td>\n",
              "      <td>CRFB3</td>\n",
              "      <td>5.339906e+08</td>\n",
              "    </tr>\n",
              "    <tr>\n",
              "      <th>77</th>\n",
              "      <td>BHIA3</td>\n",
              "      <td>2024-01-26</td>\n",
              "      <td>8.70</td>\n",
              "      <td>-2.46</td>\n",
              "      <td>-0.0246</td>\n",
              "      <td>8.919418</td>\n",
              "      <td>BHIA3</td>\n",
              "      <td>9.484305e+07</td>\n",
              "    </tr>\n",
              "    <tr>\n",
              "      <th>78</th>\n",
              "      <td>RENT3</td>\n",
              "      <td>2024-01-26</td>\n",
              "      <td>56.24</td>\n",
              "      <td>-3.63</td>\n",
              "      <td>-0.0363</td>\n",
              "      <td>58.358410</td>\n",
              "      <td>RENT3</td>\n",
              "      <td>8.532023e+08</td>\n",
              "    </tr>\n",
              "    <tr>\n",
              "      <th>79</th>\n",
              "      <td>CVCB3</td>\n",
              "      <td>2024-01-26</td>\n",
              "      <td>3.07</td>\n",
              "      <td>-4.36</td>\n",
              "      <td>-0.0436</td>\n",
              "      <td>3.209954</td>\n",
              "      <td>CVCB3</td>\n",
              "      <td>5.255828e+08</td>\n",
              "    </tr>\n",
              "    <tr>\n",
              "      <th>80</th>\n",
              "      <td>GOLL4</td>\n",
              "      <td>2024-01-26</td>\n",
              "      <td>5.92</td>\n",
              "      <td>-8.07</td>\n",
              "      <td>-0.0807</td>\n",
              "      <td>6.439682</td>\n",
              "      <td>GOLL4</td>\n",
              "      <td>1.981849e+08</td>\n",
              "    </tr>\n",
              "  </tbody>\n",
              "</table>\n",
              "<p>81 rows × 8 columns</p>\n",
              "</div>"
            ],
            "text/plain": [
              "    Ativo       Data  Valor_Final  Var_dia_pct  Var_pct  Valor_Inicial Código  \\\n",
              "0   USIM5 2024-01-26         9.50         5.20   0.0520       9.030418  USIM5   \n",
              "1   CMIN3 2024-01-26         6.82         2.40   0.0240       6.660156  CMIN3   \n",
              "2   PETR3 2024-01-26        41.96         2.19   0.0219      41.060769  PETR3   \n",
              "3   SUZB3 2024-01-26        52.91         2.04   0.0204      51.852215  SUZB3   \n",
              "4   CPFE3 2024-01-26        37.10         2.03   0.0203      36.361854  CPFE3   \n",
              "..    ...        ...          ...          ...      ...            ...    ...   \n",
              "76  CRFB3 2024-01-26        10.71        -2.45  -0.0245      10.978985  CRFB3   \n",
              "77  BHIA3 2024-01-26         8.70        -2.46  -0.0246       8.919418  BHIA3   \n",
              "78  RENT3 2024-01-26        56.24        -3.63  -0.0363      58.358410  RENT3   \n",
              "79  CVCB3 2024-01-26         3.07        -4.36  -0.0436       3.209954  CVCB3   \n",
              "80  GOLL4 2024-01-26         5.92        -8.07  -0.0807       6.439682  GOLL4   \n",
              "\n",
              "    Qtde. Teórica  \n",
              "0    5.151174e+08  \n",
              "1    1.110559e+09  \n",
              "2    2.379878e+09  \n",
              "3    6.834528e+08  \n",
              "4    1.877325e+08  \n",
              "..            ...  \n",
              "76   5.339906e+08  \n",
              "77   9.484305e+07  \n",
              "78   8.532023e+08  \n",
              "79   5.255828e+08  \n",
              "80   1.981849e+08  \n",
              "\n",
              "[81 rows x 8 columns]"
            ]
          },
          "execution_count": 10,
          "metadata": {},
          "output_type": "execute_result"
        }
      ],
      "source": [
        "df_principal = df_principal.merge(df_total_acoes, left_on='Ativo', right_on='Código', how='left')\n",
        "df_principal"
      ]
    },
    {
      "cell_type": "code",
      "execution_count": 11,
      "metadata": {},
      "outputs": [
        {
          "data": {
            "text/html": [
              "<div>\n",
              "<style scoped>\n",
              "    .dataframe tbody tr th:only-of-type {\n",
              "        vertical-align: middle;\n",
              "    }\n",
              "\n",
              "    .dataframe tbody tr th {\n",
              "        vertical-align: top;\n",
              "    }\n",
              "\n",
              "    .dataframe thead th {\n",
              "        text-align: right;\n",
              "    }\n",
              "</style>\n",
              "<table border=\"1\" class=\"dataframe\">\n",
              "  <thead>\n",
              "    <tr style=\"text-align: right;\">\n",
              "      <th></th>\n",
              "      <th>Ativo</th>\n",
              "      <th>Data</th>\n",
              "      <th>Valor_Final</th>\n",
              "      <th>Var_dia_pct</th>\n",
              "      <th>Var_pct</th>\n",
              "      <th>Valor_Inicial</th>\n",
              "      <th>Qtde. Teórica</th>\n",
              "    </tr>\n",
              "  </thead>\n",
              "  <tbody>\n",
              "    <tr>\n",
              "      <th>0</th>\n",
              "      <td>USIM5</td>\n",
              "      <td>2024-01-26</td>\n",
              "      <td>9.50</td>\n",
              "      <td>5.20</td>\n",
              "      <td>0.0520</td>\n",
              "      <td>9.030418</td>\n",
              "      <td>5.151174e+08</td>\n",
              "    </tr>\n",
              "    <tr>\n",
              "      <th>1</th>\n",
              "      <td>CMIN3</td>\n",
              "      <td>2024-01-26</td>\n",
              "      <td>6.82</td>\n",
              "      <td>2.40</td>\n",
              "      <td>0.0240</td>\n",
              "      <td>6.660156</td>\n",
              "      <td>1.110559e+09</td>\n",
              "    </tr>\n",
              "    <tr>\n",
              "      <th>2</th>\n",
              "      <td>PETR3</td>\n",
              "      <td>2024-01-26</td>\n",
              "      <td>41.96</td>\n",
              "      <td>2.19</td>\n",
              "      <td>0.0219</td>\n",
              "      <td>41.060769</td>\n",
              "      <td>2.379878e+09</td>\n",
              "    </tr>\n",
              "    <tr>\n",
              "      <th>3</th>\n",
              "      <td>SUZB3</td>\n",
              "      <td>2024-01-26</td>\n",
              "      <td>52.91</td>\n",
              "      <td>2.04</td>\n",
              "      <td>0.0204</td>\n",
              "      <td>51.852215</td>\n",
              "      <td>6.834528e+08</td>\n",
              "    </tr>\n",
              "    <tr>\n",
              "      <th>4</th>\n",
              "      <td>CPFE3</td>\n",
              "      <td>2024-01-26</td>\n",
              "      <td>37.10</td>\n",
              "      <td>2.03</td>\n",
              "      <td>0.0203</td>\n",
              "      <td>36.361854</td>\n",
              "      <td>1.877325e+08</td>\n",
              "    </tr>\n",
              "    <tr>\n",
              "      <th>...</th>\n",
              "      <td>...</td>\n",
              "      <td>...</td>\n",
              "      <td>...</td>\n",
              "      <td>...</td>\n",
              "      <td>...</td>\n",
              "      <td>...</td>\n",
              "      <td>...</td>\n",
              "    </tr>\n",
              "    <tr>\n",
              "      <th>76</th>\n",
              "      <td>CRFB3</td>\n",
              "      <td>2024-01-26</td>\n",
              "      <td>10.71</td>\n",
              "      <td>-2.45</td>\n",
              "      <td>-0.0245</td>\n",
              "      <td>10.978985</td>\n",
              "      <td>5.339906e+08</td>\n",
              "    </tr>\n",
              "    <tr>\n",
              "      <th>77</th>\n",
              "      <td>BHIA3</td>\n",
              "      <td>2024-01-26</td>\n",
              "      <td>8.70</td>\n",
              "      <td>-2.46</td>\n",
              "      <td>-0.0246</td>\n",
              "      <td>8.919418</td>\n",
              "      <td>9.484305e+07</td>\n",
              "    </tr>\n",
              "    <tr>\n",
              "      <th>78</th>\n",
              "      <td>RENT3</td>\n",
              "      <td>2024-01-26</td>\n",
              "      <td>56.24</td>\n",
              "      <td>-3.63</td>\n",
              "      <td>-0.0363</td>\n",
              "      <td>58.358410</td>\n",
              "      <td>8.532023e+08</td>\n",
              "    </tr>\n",
              "    <tr>\n",
              "      <th>79</th>\n",
              "      <td>CVCB3</td>\n",
              "      <td>2024-01-26</td>\n",
              "      <td>3.07</td>\n",
              "      <td>-4.36</td>\n",
              "      <td>-0.0436</td>\n",
              "      <td>3.209954</td>\n",
              "      <td>5.255828e+08</td>\n",
              "    </tr>\n",
              "    <tr>\n",
              "      <th>80</th>\n",
              "      <td>GOLL4</td>\n",
              "      <td>2024-01-26</td>\n",
              "      <td>5.92</td>\n",
              "      <td>-8.07</td>\n",
              "      <td>-0.0807</td>\n",
              "      <td>6.439682</td>\n",
              "      <td>1.981849e+08</td>\n",
              "    </tr>\n",
              "  </tbody>\n",
              "</table>\n",
              "<p>81 rows × 7 columns</p>\n",
              "</div>"
            ],
            "text/plain": [
              "    Ativo       Data  Valor_Final  Var_dia_pct  Var_pct  Valor_Inicial  \\\n",
              "0   USIM5 2024-01-26         9.50         5.20   0.0520       9.030418   \n",
              "1   CMIN3 2024-01-26         6.82         2.40   0.0240       6.660156   \n",
              "2   PETR3 2024-01-26        41.96         2.19   0.0219      41.060769   \n",
              "3   SUZB3 2024-01-26        52.91         2.04   0.0204      51.852215   \n",
              "4   CPFE3 2024-01-26        37.10         2.03   0.0203      36.361854   \n",
              "..    ...        ...          ...          ...      ...            ...   \n",
              "76  CRFB3 2024-01-26        10.71        -2.45  -0.0245      10.978985   \n",
              "77  BHIA3 2024-01-26         8.70        -2.46  -0.0246       8.919418   \n",
              "78  RENT3 2024-01-26        56.24        -3.63  -0.0363      58.358410   \n",
              "79  CVCB3 2024-01-26         3.07        -4.36  -0.0436       3.209954   \n",
              "80  GOLL4 2024-01-26         5.92        -8.07  -0.0807       6.439682   \n",
              "\n",
              "    Qtde. Teórica  \n",
              "0    5.151174e+08  \n",
              "1    1.110559e+09  \n",
              "2    2.379878e+09  \n",
              "3    6.834528e+08  \n",
              "4    1.877325e+08  \n",
              "..            ...  \n",
              "76   5.339906e+08  \n",
              "77   9.484305e+07  \n",
              "78   8.532023e+08  \n",
              "79   5.255828e+08  \n",
              "80   1.981849e+08  \n",
              "\n",
              "[81 rows x 7 columns]"
            ]
          },
          "execution_count": 11,
          "metadata": {},
          "output_type": "execute_result"
        }
      ],
      "source": [
        "df_principal = df_principal.drop(columns={'Código'})\n",
        "df_principal"
      ]
    },
    {
      "cell_type": "code",
      "execution_count": 12,
      "metadata": {},
      "outputs": [
        {
          "data": {
            "text/html": [
              "<div>\n",
              "<style scoped>\n",
              "    .dataframe tbody tr th:only-of-type {\n",
              "        vertical-align: middle;\n",
              "    }\n",
              "\n",
              "    .dataframe tbody tr th {\n",
              "        vertical-align: top;\n",
              "    }\n",
              "\n",
              "    .dataframe thead th {\n",
              "        text-align: right;\n",
              "    }\n",
              "</style>\n",
              "<table border=\"1\" class=\"dataframe\">\n",
              "  <thead>\n",
              "    <tr style=\"text-align: right;\">\n",
              "      <th></th>\n",
              "      <th>Ativo</th>\n",
              "      <th>Data</th>\n",
              "      <th>Valor_Final</th>\n",
              "      <th>Var_dia_pct</th>\n",
              "      <th>Var_pct</th>\n",
              "      <th>Valor_Inicial</th>\n",
              "      <th>Qtde. Teórica</th>\n",
              "      <th>Variacao_rs</th>\n",
              "    </tr>\n",
              "  </thead>\n",
              "  <tbody>\n",
              "    <tr>\n",
              "      <th>0</th>\n",
              "      <td>USIM5</td>\n",
              "      <td>2024-01-26</td>\n",
              "      <td>9.50</td>\n",
              "      <td>5.20</td>\n",
              "      <td>0.0520</td>\n",
              "      <td>9.030418</td>\n",
              "      <td>5.151174e+08</td>\n",
              "      <td>2.418897e+08</td>\n",
              "    </tr>\n",
              "    <tr>\n",
              "      <th>1</th>\n",
              "      <td>CMIN3</td>\n",
              "      <td>2024-01-26</td>\n",
              "      <td>6.82</td>\n",
              "      <td>2.40</td>\n",
              "      <td>0.0240</td>\n",
              "      <td>6.660156</td>\n",
              "      <td>1.110559e+09</td>\n",
              "      <td>1.775160e+08</td>\n",
              "    </tr>\n",
              "    <tr>\n",
              "      <th>2</th>\n",
              "      <td>PETR3</td>\n",
              "      <td>2024-01-26</td>\n",
              "      <td>41.96</td>\n",
              "      <td>2.19</td>\n",
              "      <td>0.0219</td>\n",
              "      <td>41.060769</td>\n",
              "      <td>2.379878e+09</td>\n",
              "      <td>2.140059e+09</td>\n",
              "    </tr>\n",
              "    <tr>\n",
              "      <th>3</th>\n",
              "      <td>SUZB3</td>\n",
              "      <td>2024-01-26</td>\n",
              "      <td>52.91</td>\n",
              "      <td>2.04</td>\n",
              "      <td>0.0204</td>\n",
              "      <td>51.852215</td>\n",
              "      <td>6.834528e+08</td>\n",
              "      <td>7.229463e+08</td>\n",
              "    </tr>\n",
              "    <tr>\n",
              "      <th>4</th>\n",
              "      <td>CPFE3</td>\n",
              "      <td>2024-01-26</td>\n",
              "      <td>37.10</td>\n",
              "      <td>2.03</td>\n",
              "      <td>0.0203</td>\n",
              "      <td>36.361854</td>\n",
              "      <td>1.877325e+08</td>\n",
              "      <td>1.385740e+08</td>\n",
              "    </tr>\n",
              "    <tr>\n",
              "      <th>...</th>\n",
              "      <td>...</td>\n",
              "      <td>...</td>\n",
              "      <td>...</td>\n",
              "      <td>...</td>\n",
              "      <td>...</td>\n",
              "      <td>...</td>\n",
              "      <td>...</td>\n",
              "      <td>...</td>\n",
              "    </tr>\n",
              "    <tr>\n",
              "      <th>76</th>\n",
              "      <td>CRFB3</td>\n",
              "      <td>2024-01-26</td>\n",
              "      <td>10.71</td>\n",
              "      <td>-2.45</td>\n",
              "      <td>-0.0245</td>\n",
              "      <td>10.978985</td>\n",
              "      <td>5.339906e+08</td>\n",
              "      <td>-1.436355e+08</td>\n",
              "    </tr>\n",
              "    <tr>\n",
              "      <th>77</th>\n",
              "      <td>BHIA3</td>\n",
              "      <td>2024-01-26</td>\n",
              "      <td>8.70</td>\n",
              "      <td>-2.46</td>\n",
              "      <td>-0.0246</td>\n",
              "      <td>8.919418</td>\n",
              "      <td>9.484305e+07</td>\n",
              "      <td>-2.081024e+07</td>\n",
              "    </tr>\n",
              "    <tr>\n",
              "      <th>78</th>\n",
              "      <td>RENT3</td>\n",
              "      <td>2024-01-26</td>\n",
              "      <td>56.24</td>\n",
              "      <td>-3.63</td>\n",
              "      <td>-0.0363</td>\n",
              "      <td>58.358410</td>\n",
              "      <td>8.532023e+08</td>\n",
              "      <td>-1.807433e+09</td>\n",
              "    </tr>\n",
              "    <tr>\n",
              "      <th>79</th>\n",
              "      <td>CVCB3</td>\n",
              "      <td>2024-01-26</td>\n",
              "      <td>3.07</td>\n",
              "      <td>-4.36</td>\n",
              "      <td>-0.0436</td>\n",
              "      <td>3.209954</td>\n",
              "      <td>5.255828e+08</td>\n",
              "      <td>-7.355741e+07</td>\n",
              "    </tr>\n",
              "    <tr>\n",
              "      <th>80</th>\n",
              "      <td>GOLL4</td>\n",
              "      <td>2024-01-26</td>\n",
              "      <td>5.92</td>\n",
              "      <td>-8.07</td>\n",
              "      <td>-0.0807</td>\n",
              "      <td>6.439682</td>\n",
              "      <td>1.981849e+08</td>\n",
              "      <td>-1.029932e+08</td>\n",
              "    </tr>\n",
              "  </tbody>\n",
              "</table>\n",
              "<p>81 rows × 8 columns</p>\n",
              "</div>"
            ],
            "text/plain": [
              "    Ativo       Data  Valor_Final  Var_dia_pct  Var_pct  Valor_Inicial  \\\n",
              "0   USIM5 2024-01-26         9.50         5.20   0.0520       9.030418   \n",
              "1   CMIN3 2024-01-26         6.82         2.40   0.0240       6.660156   \n",
              "2   PETR3 2024-01-26        41.96         2.19   0.0219      41.060769   \n",
              "3   SUZB3 2024-01-26        52.91         2.04   0.0204      51.852215   \n",
              "4   CPFE3 2024-01-26        37.10         2.03   0.0203      36.361854   \n",
              "..    ...        ...          ...          ...      ...            ...   \n",
              "76  CRFB3 2024-01-26        10.71        -2.45  -0.0245      10.978985   \n",
              "77  BHIA3 2024-01-26         8.70        -2.46  -0.0246       8.919418   \n",
              "78  RENT3 2024-01-26        56.24        -3.63  -0.0363      58.358410   \n",
              "79  CVCB3 2024-01-26         3.07        -4.36  -0.0436       3.209954   \n",
              "80  GOLL4 2024-01-26         5.92        -8.07  -0.0807       6.439682   \n",
              "\n",
              "    Qtde. Teórica   Variacao_rs  \n",
              "0    5.151174e+08  2.418897e+08  \n",
              "1    1.110559e+09  1.775160e+08  \n",
              "2    2.379878e+09  2.140059e+09  \n",
              "3    6.834528e+08  7.229463e+08  \n",
              "4    1.877325e+08  1.385740e+08  \n",
              "..            ...           ...  \n",
              "76   5.339906e+08 -1.436355e+08  \n",
              "77   9.484305e+07 -2.081024e+07  \n",
              "78   8.532023e+08 -1.807433e+09  \n",
              "79   5.255828e+08 -7.355741e+07  \n",
              "80   1.981849e+08 -1.029932e+08  \n",
              "\n",
              "[81 rows x 8 columns]"
            ]
          },
          "execution_count": 12,
          "metadata": {},
          "output_type": "execute_result"
        }
      ],
      "source": [
        "df_principal['Variacao_rs'] = (df_principal['Valor_Final'] - df_principal['Valor_Inicial']) * df_principal['Qtde. Teórica']\n",
        "df_principal"
      ]
    },
    {
      "cell_type": "code",
      "execution_count": 13,
      "metadata": {},
      "outputs": [],
      "source": [
        "pd.options.display.float_format = '{:.2f}'.format"
      ]
    },
    {
      "cell_type": "code",
      "execution_count": 14,
      "metadata": {},
      "outputs": [
        {
          "data": {
            "text/html": [
              "<div>\n",
              "<style scoped>\n",
              "    .dataframe tbody tr th:only-of-type {\n",
              "        vertical-align: middle;\n",
              "    }\n",
              "\n",
              "    .dataframe tbody tr th {\n",
              "        vertical-align: top;\n",
              "    }\n",
              "\n",
              "    .dataframe thead th {\n",
              "        text-align: right;\n",
              "    }\n",
              "</style>\n",
              "<table border=\"1\" class=\"dataframe\">\n",
              "  <thead>\n",
              "    <tr style=\"text-align: right;\">\n",
              "      <th></th>\n",
              "      <th>Ativo</th>\n",
              "      <th>Data</th>\n",
              "      <th>Valor_Final</th>\n",
              "      <th>Var_dia_pct</th>\n",
              "      <th>Var_pct</th>\n",
              "      <th>Valor_Inicial</th>\n",
              "      <th>Qtde. Teórica</th>\n",
              "      <th>Variacao_rs</th>\n",
              "    </tr>\n",
              "  </thead>\n",
              "  <tbody>\n",
              "    <tr>\n",
              "      <th>0</th>\n",
              "      <td>USIM5</td>\n",
              "      <td>2024-01-26</td>\n",
              "      <td>9.50</td>\n",
              "      <td>5.20</td>\n",
              "      <td>0.05</td>\n",
              "      <td>9.03</td>\n",
              "      <td>515117391.00</td>\n",
              "      <td>241889725.43</td>\n",
              "    </tr>\n",
              "    <tr>\n",
              "      <th>1</th>\n",
              "      <td>CMIN3</td>\n",
              "      <td>2024-01-26</td>\n",
              "      <td>6.82</td>\n",
              "      <td>2.40</td>\n",
              "      <td>0.02</td>\n",
              "      <td>6.66</td>\n",
              "      <td>1110559345.00</td>\n",
              "      <td>177515970.30</td>\n",
              "    </tr>\n",
              "    <tr>\n",
              "      <th>2</th>\n",
              "      <td>PETR3</td>\n",
              "      <td>2024-01-26</td>\n",
              "      <td>41.96</td>\n",
              "      <td>2.19</td>\n",
              "      <td>0.02</td>\n",
              "      <td>41.06</td>\n",
              "      <td>2379877655.00</td>\n",
              "      <td>2140059393.53</td>\n",
              "    </tr>\n",
              "    <tr>\n",
              "      <th>3</th>\n",
              "      <td>SUZB3</td>\n",
              "      <td>2024-01-26</td>\n",
              "      <td>52.91</td>\n",
              "      <td>2.04</td>\n",
              "      <td>0.02</td>\n",
              "      <td>51.85</td>\n",
              "      <td>683452836.00</td>\n",
              "      <td>722946282.71</td>\n",
              "    </tr>\n",
              "    <tr>\n",
              "      <th>4</th>\n",
              "      <td>CPFE3</td>\n",
              "      <td>2024-01-26</td>\n",
              "      <td>37.10</td>\n",
              "      <td>2.03</td>\n",
              "      <td>0.02</td>\n",
              "      <td>36.36</td>\n",
              "      <td>187732538.00</td>\n",
              "      <td>138573955.06</td>\n",
              "    </tr>\n",
              "    <tr>\n",
              "      <th>...</th>\n",
              "      <td>...</td>\n",
              "      <td>...</td>\n",
              "      <td>...</td>\n",
              "      <td>...</td>\n",
              "      <td>...</td>\n",
              "      <td>...</td>\n",
              "      <td>...</td>\n",
              "      <td>...</td>\n",
              "    </tr>\n",
              "    <tr>\n",
              "      <th>76</th>\n",
              "      <td>CRFB3</td>\n",
              "      <td>2024-01-26</td>\n",
              "      <td>10.71</td>\n",
              "      <td>-2.45</td>\n",
              "      <td>-0.02</td>\n",
              "      <td>10.98</td>\n",
              "      <td>533990587.00</td>\n",
              "      <td>-143635530.57</td>\n",
              "    </tr>\n",
              "    <tr>\n",
              "      <th>77</th>\n",
              "      <td>BHIA3</td>\n",
              "      <td>2024-01-26</td>\n",
              "      <td>8.70</td>\n",
              "      <td>-2.46</td>\n",
              "      <td>-0.02</td>\n",
              "      <td>8.92</td>\n",
              "      <td>94843047.00</td>\n",
              "      <td>-20810240.84</td>\n",
              "    </tr>\n",
              "    <tr>\n",
              "      <th>78</th>\n",
              "      <td>RENT3</td>\n",
              "      <td>2024-01-26</td>\n",
              "      <td>56.24</td>\n",
              "      <td>-3.63</td>\n",
              "      <td>-0.04</td>\n",
              "      <td>58.36</td>\n",
              "      <td>853202347.00</td>\n",
              "      <td>-1807432634.46</td>\n",
              "    </tr>\n",
              "    <tr>\n",
              "      <th>79</th>\n",
              "      <td>CVCB3</td>\n",
              "      <td>2024-01-26</td>\n",
              "      <td>3.07</td>\n",
              "      <td>-4.36</td>\n",
              "      <td>-0.04</td>\n",
              "      <td>3.21</td>\n",
              "      <td>525582771.00</td>\n",
              "      <td>-73557408.06</td>\n",
              "    </tr>\n",
              "    <tr>\n",
              "      <th>80</th>\n",
              "      <td>GOLL4</td>\n",
              "      <td>2024-01-26</td>\n",
              "      <td>5.92</td>\n",
              "      <td>-8.07</td>\n",
              "      <td>-0.08</td>\n",
              "      <td>6.44</td>\n",
              "      <td>198184909.00</td>\n",
              "      <td>-102993202.62</td>\n",
              "    </tr>\n",
              "  </tbody>\n",
              "</table>\n",
              "<p>81 rows × 8 columns</p>\n",
              "</div>"
            ],
            "text/plain": [
              "    Ativo       Data  Valor_Final  Var_dia_pct  Var_pct  Valor_Inicial  \\\n",
              "0   USIM5 2024-01-26         9.50         5.20     0.05           9.03   \n",
              "1   CMIN3 2024-01-26         6.82         2.40     0.02           6.66   \n",
              "2   PETR3 2024-01-26        41.96         2.19     0.02          41.06   \n",
              "3   SUZB3 2024-01-26        52.91         2.04     0.02          51.85   \n",
              "4   CPFE3 2024-01-26        37.10         2.03     0.02          36.36   \n",
              "..    ...        ...          ...          ...      ...            ...   \n",
              "76  CRFB3 2024-01-26        10.71        -2.45    -0.02          10.98   \n",
              "77  BHIA3 2024-01-26         8.70        -2.46    -0.02           8.92   \n",
              "78  RENT3 2024-01-26        56.24        -3.63    -0.04          58.36   \n",
              "79  CVCB3 2024-01-26         3.07        -4.36    -0.04           3.21   \n",
              "80  GOLL4 2024-01-26         5.92        -8.07    -0.08           6.44   \n",
              "\n",
              "    Qtde. Teórica    Variacao_rs  \n",
              "0    515117391.00   241889725.43  \n",
              "1   1110559345.00   177515970.30  \n",
              "2   2379877655.00  2140059393.53  \n",
              "3    683452836.00   722946282.71  \n",
              "4    187732538.00   138573955.06  \n",
              "..            ...            ...  \n",
              "76   533990587.00  -143635530.57  \n",
              "77    94843047.00   -20810240.84  \n",
              "78   853202347.00 -1807432634.46  \n",
              "79   525582771.00   -73557408.06  \n",
              "80   198184909.00  -102993202.62  \n",
              "\n",
              "[81 rows x 8 columns]"
            ]
          },
          "execution_count": 14,
          "metadata": {},
          "output_type": "execute_result"
        }
      ],
      "source": [
        "df_principal"
      ]
    },
    {
      "cell_type": "code",
      "execution_count": 15,
      "metadata": {},
      "outputs": [
        {
          "data": {
            "text/html": [
              "<div>\n",
              "<style scoped>\n",
              "    .dataframe tbody tr th:only-of-type {\n",
              "        vertical-align: middle;\n",
              "    }\n",
              "\n",
              "    .dataframe tbody tr th {\n",
              "        vertical-align: top;\n",
              "    }\n",
              "\n",
              "    .dataframe thead th {\n",
              "        text-align: right;\n",
              "    }\n",
              "</style>\n",
              "<table border=\"1\" class=\"dataframe\">\n",
              "  <thead>\n",
              "    <tr style=\"text-align: right;\">\n",
              "      <th></th>\n",
              "      <th>Ativo</th>\n",
              "      <th>Data</th>\n",
              "      <th>Valor_Final</th>\n",
              "      <th>Var_dia_pct</th>\n",
              "      <th>Var_pct</th>\n",
              "      <th>Valor_Inicial</th>\n",
              "      <th>Qtde. Teórica</th>\n",
              "      <th>Variacao_rs</th>\n",
              "    </tr>\n",
              "  </thead>\n",
              "  <tbody>\n",
              "    <tr>\n",
              "      <th>0</th>\n",
              "      <td>USIM5</td>\n",
              "      <td>2024-01-26</td>\n",
              "      <td>9.50</td>\n",
              "      <td>5.20</td>\n",
              "      <td>0.05</td>\n",
              "      <td>9.03</td>\n",
              "      <td>515117391</td>\n",
              "      <td>241889725.43</td>\n",
              "    </tr>\n",
              "    <tr>\n",
              "      <th>1</th>\n",
              "      <td>CMIN3</td>\n",
              "      <td>2024-01-26</td>\n",
              "      <td>6.82</td>\n",
              "      <td>2.40</td>\n",
              "      <td>0.02</td>\n",
              "      <td>6.66</td>\n",
              "      <td>1110559345</td>\n",
              "      <td>177515970.30</td>\n",
              "    </tr>\n",
              "    <tr>\n",
              "      <th>2</th>\n",
              "      <td>PETR3</td>\n",
              "      <td>2024-01-26</td>\n",
              "      <td>41.96</td>\n",
              "      <td>2.19</td>\n",
              "      <td>0.02</td>\n",
              "      <td>41.06</td>\n",
              "      <td>2379877655</td>\n",
              "      <td>2140059393.53</td>\n",
              "    </tr>\n",
              "    <tr>\n",
              "      <th>3</th>\n",
              "      <td>SUZB3</td>\n",
              "      <td>2024-01-26</td>\n",
              "      <td>52.91</td>\n",
              "      <td>2.04</td>\n",
              "      <td>0.02</td>\n",
              "      <td>51.85</td>\n",
              "      <td>683452836</td>\n",
              "      <td>722946282.71</td>\n",
              "    </tr>\n",
              "    <tr>\n",
              "      <th>4</th>\n",
              "      <td>CPFE3</td>\n",
              "      <td>2024-01-26</td>\n",
              "      <td>37.10</td>\n",
              "      <td>2.03</td>\n",
              "      <td>0.02</td>\n",
              "      <td>36.36</td>\n",
              "      <td>187732538</td>\n",
              "      <td>138573955.06</td>\n",
              "    </tr>\n",
              "    <tr>\n",
              "      <th>...</th>\n",
              "      <td>...</td>\n",
              "      <td>...</td>\n",
              "      <td>...</td>\n",
              "      <td>...</td>\n",
              "      <td>...</td>\n",
              "      <td>...</td>\n",
              "      <td>...</td>\n",
              "      <td>...</td>\n",
              "    </tr>\n",
              "    <tr>\n",
              "      <th>76</th>\n",
              "      <td>CRFB3</td>\n",
              "      <td>2024-01-26</td>\n",
              "      <td>10.71</td>\n",
              "      <td>-2.45</td>\n",
              "      <td>-0.02</td>\n",
              "      <td>10.98</td>\n",
              "      <td>533990587</td>\n",
              "      <td>-143635530.57</td>\n",
              "    </tr>\n",
              "    <tr>\n",
              "      <th>77</th>\n",
              "      <td>BHIA3</td>\n",
              "      <td>2024-01-26</td>\n",
              "      <td>8.70</td>\n",
              "      <td>-2.46</td>\n",
              "      <td>-0.02</td>\n",
              "      <td>8.92</td>\n",
              "      <td>94843047</td>\n",
              "      <td>-20810240.84</td>\n",
              "    </tr>\n",
              "    <tr>\n",
              "      <th>78</th>\n",
              "      <td>RENT3</td>\n",
              "      <td>2024-01-26</td>\n",
              "      <td>56.24</td>\n",
              "      <td>-3.63</td>\n",
              "      <td>-0.04</td>\n",
              "      <td>58.36</td>\n",
              "      <td>853202347</td>\n",
              "      <td>-1807432634.46</td>\n",
              "    </tr>\n",
              "    <tr>\n",
              "      <th>79</th>\n",
              "      <td>CVCB3</td>\n",
              "      <td>2024-01-26</td>\n",
              "      <td>3.07</td>\n",
              "      <td>-4.36</td>\n",
              "      <td>-0.04</td>\n",
              "      <td>3.21</td>\n",
              "      <td>525582771</td>\n",
              "      <td>-73557408.06</td>\n",
              "    </tr>\n",
              "    <tr>\n",
              "      <th>80</th>\n",
              "      <td>GOLL4</td>\n",
              "      <td>2024-01-26</td>\n",
              "      <td>5.92</td>\n",
              "      <td>-8.07</td>\n",
              "      <td>-0.08</td>\n",
              "      <td>6.44</td>\n",
              "      <td>198184909</td>\n",
              "      <td>-102993202.62</td>\n",
              "    </tr>\n",
              "  </tbody>\n",
              "</table>\n",
              "<p>81 rows × 8 columns</p>\n",
              "</div>"
            ],
            "text/plain": [
              "    Ativo       Data  Valor_Final  Var_dia_pct  Var_pct  Valor_Inicial  \\\n",
              "0   USIM5 2024-01-26         9.50         5.20     0.05           9.03   \n",
              "1   CMIN3 2024-01-26         6.82         2.40     0.02           6.66   \n",
              "2   PETR3 2024-01-26        41.96         2.19     0.02          41.06   \n",
              "3   SUZB3 2024-01-26        52.91         2.04     0.02          51.85   \n",
              "4   CPFE3 2024-01-26        37.10         2.03     0.02          36.36   \n",
              "..    ...        ...          ...          ...      ...            ...   \n",
              "76  CRFB3 2024-01-26        10.71        -2.45    -0.02          10.98   \n",
              "77  BHIA3 2024-01-26         8.70        -2.46    -0.02           8.92   \n",
              "78  RENT3 2024-01-26        56.24        -3.63    -0.04          58.36   \n",
              "79  CVCB3 2024-01-26         3.07        -4.36    -0.04           3.21   \n",
              "80  GOLL4 2024-01-26         5.92        -8.07    -0.08           6.44   \n",
              "\n",
              "    Qtde. Teórica    Variacao_rs  \n",
              "0       515117391   241889725.43  \n",
              "1      1110559345   177515970.30  \n",
              "2      2379877655  2140059393.53  \n",
              "3       683452836   722946282.71  \n",
              "4       187732538   138573955.06  \n",
              "..            ...            ...  \n",
              "76      533990587  -143635530.57  \n",
              "77       94843047   -20810240.84  \n",
              "78      853202347 -1807432634.46  \n",
              "79      525582771   -73557408.06  \n",
              "80      198184909  -102993202.62  \n",
              "\n",
              "[81 rows x 8 columns]"
            ]
          },
          "execution_count": 15,
          "metadata": {},
          "output_type": "execute_result"
        }
      ],
      "source": [
        "df_principal['Qtde. Teórica'] = df_principal['Qtde. Teórica'].astype(int)\n",
        "df_principal"
      ]
    },
    {
      "cell_type": "code",
      "execution_count": 16,
      "metadata": {},
      "outputs": [
        {
          "data": {
            "text/html": [
              "<div>\n",
              "<style scoped>\n",
              "    .dataframe tbody tr th:only-of-type {\n",
              "        vertical-align: middle;\n",
              "    }\n",
              "\n",
              "    .dataframe tbody tr th {\n",
              "        vertical-align: top;\n",
              "    }\n",
              "\n",
              "    .dataframe thead th {\n",
              "        text-align: right;\n",
              "    }\n",
              "</style>\n",
              "<table border=\"1\" class=\"dataframe\">\n",
              "  <thead>\n",
              "    <tr style=\"text-align: right;\">\n",
              "      <th></th>\n",
              "      <th>Ativo</th>\n",
              "      <th>Data</th>\n",
              "      <th>Valor_Final</th>\n",
              "      <th>Var_dia_pct</th>\n",
              "      <th>Var_pct</th>\n",
              "      <th>Valor_Inicial</th>\n",
              "      <th>Qtd_teorica</th>\n",
              "      <th>Variacao_rs</th>\n",
              "    </tr>\n",
              "  </thead>\n",
              "  <tbody>\n",
              "    <tr>\n",
              "      <th>0</th>\n",
              "      <td>USIM5</td>\n",
              "      <td>2024-01-26</td>\n",
              "      <td>9.50</td>\n",
              "      <td>5.20</td>\n",
              "      <td>0.05</td>\n",
              "      <td>9.03</td>\n",
              "      <td>515117391</td>\n",
              "      <td>241889725.43</td>\n",
              "    </tr>\n",
              "    <tr>\n",
              "      <th>1</th>\n",
              "      <td>CMIN3</td>\n",
              "      <td>2024-01-26</td>\n",
              "      <td>6.82</td>\n",
              "      <td>2.40</td>\n",
              "      <td>0.02</td>\n",
              "      <td>6.66</td>\n",
              "      <td>1110559345</td>\n",
              "      <td>177515970.30</td>\n",
              "    </tr>\n",
              "    <tr>\n",
              "      <th>2</th>\n",
              "      <td>PETR3</td>\n",
              "      <td>2024-01-26</td>\n",
              "      <td>41.96</td>\n",
              "      <td>2.19</td>\n",
              "      <td>0.02</td>\n",
              "      <td>41.06</td>\n",
              "      <td>2379877655</td>\n",
              "      <td>2140059393.53</td>\n",
              "    </tr>\n",
              "    <tr>\n",
              "      <th>3</th>\n",
              "      <td>SUZB3</td>\n",
              "      <td>2024-01-26</td>\n",
              "      <td>52.91</td>\n",
              "      <td>2.04</td>\n",
              "      <td>0.02</td>\n",
              "      <td>51.85</td>\n",
              "      <td>683452836</td>\n",
              "      <td>722946282.71</td>\n",
              "    </tr>\n",
              "    <tr>\n",
              "      <th>4</th>\n",
              "      <td>CPFE3</td>\n",
              "      <td>2024-01-26</td>\n",
              "      <td>37.10</td>\n",
              "      <td>2.03</td>\n",
              "      <td>0.02</td>\n",
              "      <td>36.36</td>\n",
              "      <td>187732538</td>\n",
              "      <td>138573955.06</td>\n",
              "    </tr>\n",
              "    <tr>\n",
              "      <th>...</th>\n",
              "      <td>...</td>\n",
              "      <td>...</td>\n",
              "      <td>...</td>\n",
              "      <td>...</td>\n",
              "      <td>...</td>\n",
              "      <td>...</td>\n",
              "      <td>...</td>\n",
              "      <td>...</td>\n",
              "    </tr>\n",
              "    <tr>\n",
              "      <th>76</th>\n",
              "      <td>CRFB3</td>\n",
              "      <td>2024-01-26</td>\n",
              "      <td>10.71</td>\n",
              "      <td>-2.45</td>\n",
              "      <td>-0.02</td>\n",
              "      <td>10.98</td>\n",
              "      <td>533990587</td>\n",
              "      <td>-143635530.57</td>\n",
              "    </tr>\n",
              "    <tr>\n",
              "      <th>77</th>\n",
              "      <td>BHIA3</td>\n",
              "      <td>2024-01-26</td>\n",
              "      <td>8.70</td>\n",
              "      <td>-2.46</td>\n",
              "      <td>-0.02</td>\n",
              "      <td>8.92</td>\n",
              "      <td>94843047</td>\n",
              "      <td>-20810240.84</td>\n",
              "    </tr>\n",
              "    <tr>\n",
              "      <th>78</th>\n",
              "      <td>RENT3</td>\n",
              "      <td>2024-01-26</td>\n",
              "      <td>56.24</td>\n",
              "      <td>-3.63</td>\n",
              "      <td>-0.04</td>\n",
              "      <td>58.36</td>\n",
              "      <td>853202347</td>\n",
              "      <td>-1807432634.46</td>\n",
              "    </tr>\n",
              "    <tr>\n",
              "      <th>79</th>\n",
              "      <td>CVCB3</td>\n",
              "      <td>2024-01-26</td>\n",
              "      <td>3.07</td>\n",
              "      <td>-4.36</td>\n",
              "      <td>-0.04</td>\n",
              "      <td>3.21</td>\n",
              "      <td>525582771</td>\n",
              "      <td>-73557408.06</td>\n",
              "    </tr>\n",
              "    <tr>\n",
              "      <th>80</th>\n",
              "      <td>GOLL4</td>\n",
              "      <td>2024-01-26</td>\n",
              "      <td>5.92</td>\n",
              "      <td>-8.07</td>\n",
              "      <td>-0.08</td>\n",
              "      <td>6.44</td>\n",
              "      <td>198184909</td>\n",
              "      <td>-102993202.62</td>\n",
              "    </tr>\n",
              "  </tbody>\n",
              "</table>\n",
              "<p>81 rows × 8 columns</p>\n",
              "</div>"
            ],
            "text/plain": [
              "    Ativo       Data  Valor_Final  Var_dia_pct  Var_pct  Valor_Inicial  \\\n",
              "0   USIM5 2024-01-26         9.50         5.20     0.05           9.03   \n",
              "1   CMIN3 2024-01-26         6.82         2.40     0.02           6.66   \n",
              "2   PETR3 2024-01-26        41.96         2.19     0.02          41.06   \n",
              "3   SUZB3 2024-01-26        52.91         2.04     0.02          51.85   \n",
              "4   CPFE3 2024-01-26        37.10         2.03     0.02          36.36   \n",
              "..    ...        ...          ...          ...      ...            ...   \n",
              "76  CRFB3 2024-01-26        10.71        -2.45    -0.02          10.98   \n",
              "77  BHIA3 2024-01-26         8.70        -2.46    -0.02           8.92   \n",
              "78  RENT3 2024-01-26        56.24        -3.63    -0.04          58.36   \n",
              "79  CVCB3 2024-01-26         3.07        -4.36    -0.04           3.21   \n",
              "80  GOLL4 2024-01-26         5.92        -8.07    -0.08           6.44   \n",
              "\n",
              "    Qtd_teorica    Variacao_rs  \n",
              "0     515117391   241889725.43  \n",
              "1    1110559345   177515970.30  \n",
              "2    2379877655  2140059393.53  \n",
              "3     683452836   722946282.71  \n",
              "4     187732538   138573955.06  \n",
              "..          ...            ...  \n",
              "76    533990587  -143635530.57  \n",
              "77     94843047   -20810240.84  \n",
              "78    853202347 -1807432634.46  \n",
              "79    525582771   -73557408.06  \n",
              "80    198184909  -102993202.62  \n",
              "\n",
              "[81 rows x 8 columns]"
            ]
          },
          "execution_count": 16,
          "metadata": {},
          "output_type": "execute_result"
        }
      ],
      "source": [
        "df_principal = df_principal.rename(columns={'Qtde. Teórica': 'Qtd_teorica'}).copy()\n",
        "df_principal"
      ]
    },
    {
      "cell_type": "code",
      "execution_count": 17,
      "metadata": {},
      "outputs": [
        {
          "data": {
            "text/html": [
              "<div>\n",
              "<style scoped>\n",
              "    .dataframe tbody tr th:only-of-type {\n",
              "        vertical-align: middle;\n",
              "    }\n",
              "\n",
              "    .dataframe tbody tr th {\n",
              "        vertical-align: top;\n",
              "    }\n",
              "\n",
              "    .dataframe thead th {\n",
              "        text-align: right;\n",
              "    }\n",
              "</style>\n",
              "<table border=\"1\" class=\"dataframe\">\n",
              "  <thead>\n",
              "    <tr style=\"text-align: right;\">\n",
              "      <th></th>\n",
              "      <th>Ativo</th>\n",
              "      <th>Data</th>\n",
              "      <th>Valor_Final</th>\n",
              "      <th>Var_dia_pct</th>\n",
              "      <th>Var_pct</th>\n",
              "      <th>Valor_Inicial</th>\n",
              "      <th>Qtd_teorica</th>\n",
              "      <th>Variacao_rs</th>\n",
              "      <th>Resultado</th>\n",
              "    </tr>\n",
              "  </thead>\n",
              "  <tbody>\n",
              "    <tr>\n",
              "      <th>0</th>\n",
              "      <td>USIM5</td>\n",
              "      <td>2024-01-26</td>\n",
              "      <td>9.50</td>\n",
              "      <td>5.20</td>\n",
              "      <td>0.05</td>\n",
              "      <td>9.03</td>\n",
              "      <td>515117391</td>\n",
              "      <td>241889725.43</td>\n",
              "      <td>Subiu</td>\n",
              "    </tr>\n",
              "    <tr>\n",
              "      <th>1</th>\n",
              "      <td>CMIN3</td>\n",
              "      <td>2024-01-26</td>\n",
              "      <td>6.82</td>\n",
              "      <td>2.40</td>\n",
              "      <td>0.02</td>\n",
              "      <td>6.66</td>\n",
              "      <td>1110559345</td>\n",
              "      <td>177515970.30</td>\n",
              "      <td>Subiu</td>\n",
              "    </tr>\n",
              "    <tr>\n",
              "      <th>2</th>\n",
              "      <td>PETR3</td>\n",
              "      <td>2024-01-26</td>\n",
              "      <td>41.96</td>\n",
              "      <td>2.19</td>\n",
              "      <td>0.02</td>\n",
              "      <td>41.06</td>\n",
              "      <td>2379877655</td>\n",
              "      <td>2140059393.53</td>\n",
              "      <td>Subiu</td>\n",
              "    </tr>\n",
              "    <tr>\n",
              "      <th>3</th>\n",
              "      <td>SUZB3</td>\n",
              "      <td>2024-01-26</td>\n",
              "      <td>52.91</td>\n",
              "      <td>2.04</td>\n",
              "      <td>0.02</td>\n",
              "      <td>51.85</td>\n",
              "      <td>683452836</td>\n",
              "      <td>722946282.71</td>\n",
              "      <td>Subiu</td>\n",
              "    </tr>\n",
              "    <tr>\n",
              "      <th>4</th>\n",
              "      <td>CPFE3</td>\n",
              "      <td>2024-01-26</td>\n",
              "      <td>37.10</td>\n",
              "      <td>2.03</td>\n",
              "      <td>0.02</td>\n",
              "      <td>36.36</td>\n",
              "      <td>187732538</td>\n",
              "      <td>138573955.06</td>\n",
              "      <td>Subiu</td>\n",
              "    </tr>\n",
              "    <tr>\n",
              "      <th>...</th>\n",
              "      <td>...</td>\n",
              "      <td>...</td>\n",
              "      <td>...</td>\n",
              "      <td>...</td>\n",
              "      <td>...</td>\n",
              "      <td>...</td>\n",
              "      <td>...</td>\n",
              "      <td>...</td>\n",
              "      <td>...</td>\n",
              "    </tr>\n",
              "    <tr>\n",
              "      <th>76</th>\n",
              "      <td>CRFB3</td>\n",
              "      <td>2024-01-26</td>\n",
              "      <td>10.71</td>\n",
              "      <td>-2.45</td>\n",
              "      <td>-0.02</td>\n",
              "      <td>10.98</td>\n",
              "      <td>533990587</td>\n",
              "      <td>-143635530.57</td>\n",
              "      <td>Desceu</td>\n",
              "    </tr>\n",
              "    <tr>\n",
              "      <th>77</th>\n",
              "      <td>BHIA3</td>\n",
              "      <td>2024-01-26</td>\n",
              "      <td>8.70</td>\n",
              "      <td>-2.46</td>\n",
              "      <td>-0.02</td>\n",
              "      <td>8.92</td>\n",
              "      <td>94843047</td>\n",
              "      <td>-20810240.84</td>\n",
              "      <td>Desceu</td>\n",
              "    </tr>\n",
              "    <tr>\n",
              "      <th>78</th>\n",
              "      <td>RENT3</td>\n",
              "      <td>2024-01-26</td>\n",
              "      <td>56.24</td>\n",
              "      <td>-3.63</td>\n",
              "      <td>-0.04</td>\n",
              "      <td>58.36</td>\n",
              "      <td>853202347</td>\n",
              "      <td>-1807432634.46</td>\n",
              "      <td>Desceu</td>\n",
              "    </tr>\n",
              "    <tr>\n",
              "      <th>79</th>\n",
              "      <td>CVCB3</td>\n",
              "      <td>2024-01-26</td>\n",
              "      <td>3.07</td>\n",
              "      <td>-4.36</td>\n",
              "      <td>-0.04</td>\n",
              "      <td>3.21</td>\n",
              "      <td>525582771</td>\n",
              "      <td>-73557408.06</td>\n",
              "      <td>Desceu</td>\n",
              "    </tr>\n",
              "    <tr>\n",
              "      <th>80</th>\n",
              "      <td>GOLL4</td>\n",
              "      <td>2024-01-26</td>\n",
              "      <td>5.92</td>\n",
              "      <td>-8.07</td>\n",
              "      <td>-0.08</td>\n",
              "      <td>6.44</td>\n",
              "      <td>198184909</td>\n",
              "      <td>-102993202.62</td>\n",
              "      <td>Desceu</td>\n",
              "    </tr>\n",
              "  </tbody>\n",
              "</table>\n",
              "<p>81 rows × 9 columns</p>\n",
              "</div>"
            ],
            "text/plain": [
              "    Ativo       Data  Valor_Final  Var_dia_pct  Var_pct  Valor_Inicial  \\\n",
              "0   USIM5 2024-01-26         9.50         5.20     0.05           9.03   \n",
              "1   CMIN3 2024-01-26         6.82         2.40     0.02           6.66   \n",
              "2   PETR3 2024-01-26        41.96         2.19     0.02          41.06   \n",
              "3   SUZB3 2024-01-26        52.91         2.04     0.02          51.85   \n",
              "4   CPFE3 2024-01-26        37.10         2.03     0.02          36.36   \n",
              "..    ...        ...          ...          ...      ...            ...   \n",
              "76  CRFB3 2024-01-26        10.71        -2.45    -0.02          10.98   \n",
              "77  BHIA3 2024-01-26         8.70        -2.46    -0.02           8.92   \n",
              "78  RENT3 2024-01-26        56.24        -3.63    -0.04          58.36   \n",
              "79  CVCB3 2024-01-26         3.07        -4.36    -0.04           3.21   \n",
              "80  GOLL4 2024-01-26         5.92        -8.07    -0.08           6.44   \n",
              "\n",
              "    Qtd_teorica    Variacao_rs Resultado  \n",
              "0     515117391   241889725.43     Subiu  \n",
              "1    1110559345   177515970.30     Subiu  \n",
              "2    2379877655  2140059393.53     Subiu  \n",
              "3     683452836   722946282.71     Subiu  \n",
              "4     187732538   138573955.06     Subiu  \n",
              "..          ...            ...       ...  \n",
              "76    533990587  -143635530.57    Desceu  \n",
              "77     94843047   -20810240.84    Desceu  \n",
              "78    853202347 -1807432634.46    Desceu  \n",
              "79    525582771   -73557408.06    Desceu  \n",
              "80    198184909  -102993202.62    Desceu  \n",
              "\n",
              "[81 rows x 9 columns]"
            ]
          },
          "execution_count": 17,
          "metadata": {},
          "output_type": "execute_result"
        }
      ],
      "source": [
        "df_principal['Resultado'] = df_principal['Variacao_rs'].apply(lambda x: 'Subiu' if x > 0 else ('Desceu' if x < 0 else 'Estável'))\n",
        "df_principal\n"
      ]
    },
    {
      "cell_type": "code",
      "execution_count": 18,
      "metadata": {},
      "outputs": [
        {
          "data": {
            "text/html": [
              "<div>\n",
              "<style scoped>\n",
              "    .dataframe tbody tr th:only-of-type {\n",
              "        vertical-align: middle;\n",
              "    }\n",
              "\n",
              "    .dataframe tbody tr th {\n",
              "        vertical-align: top;\n",
              "    }\n",
              "\n",
              "    .dataframe thead th {\n",
              "        text-align: right;\n",
              "    }\n",
              "</style>\n",
              "<table border=\"1\" class=\"dataframe\">\n",
              "  <thead>\n",
              "    <tr style=\"text-align: right;\">\n",
              "      <th></th>\n",
              "      <th>Ativo</th>\n",
              "      <th>Data</th>\n",
              "      <th>Valor_Final</th>\n",
              "      <th>Var_dia_pct</th>\n",
              "      <th>Var_pct</th>\n",
              "      <th>Valor_Inicial</th>\n",
              "      <th>Qtd_teorica</th>\n",
              "      <th>Variacao_rs</th>\n",
              "      <th>Resultado</th>\n",
              "      <th>Nome</th>\n",
              "    </tr>\n",
              "  </thead>\n",
              "  <tbody>\n",
              "    <tr>\n",
              "      <th>0</th>\n",
              "      <td>USIM5</td>\n",
              "      <td>2024-01-26</td>\n",
              "      <td>9.50</td>\n",
              "      <td>5.20</td>\n",
              "      <td>0.05</td>\n",
              "      <td>9.03</td>\n",
              "      <td>515117391</td>\n",
              "      <td>241889725.43</td>\n",
              "      <td>Subiu</td>\n",
              "      <td>Usiminas</td>\n",
              "    </tr>\n",
              "    <tr>\n",
              "      <th>1</th>\n",
              "      <td>CMIN3</td>\n",
              "      <td>2024-01-26</td>\n",
              "      <td>6.82</td>\n",
              "      <td>2.40</td>\n",
              "      <td>0.02</td>\n",
              "      <td>6.66</td>\n",
              "      <td>1110559345</td>\n",
              "      <td>177515970.30</td>\n",
              "      <td>Subiu</td>\n",
              "      <td>CSN Mineração</td>\n",
              "    </tr>\n",
              "    <tr>\n",
              "      <th>2</th>\n",
              "      <td>PETR3</td>\n",
              "      <td>2024-01-26</td>\n",
              "      <td>41.96</td>\n",
              "      <td>2.19</td>\n",
              "      <td>0.02</td>\n",
              "      <td>41.06</td>\n",
              "      <td>2379877655</td>\n",
              "      <td>2140059393.53</td>\n",
              "      <td>Subiu</td>\n",
              "      <td>Petrobras</td>\n",
              "    </tr>\n",
              "    <tr>\n",
              "      <th>3</th>\n",
              "      <td>SUZB3</td>\n",
              "      <td>2024-01-26</td>\n",
              "      <td>52.91</td>\n",
              "      <td>2.04</td>\n",
              "      <td>0.02</td>\n",
              "      <td>51.85</td>\n",
              "      <td>683452836</td>\n",
              "      <td>722946282.71</td>\n",
              "      <td>Subiu</td>\n",
              "      <td>Suzano</td>\n",
              "    </tr>\n",
              "    <tr>\n",
              "      <th>4</th>\n",
              "      <td>CPFE3</td>\n",
              "      <td>2024-01-26</td>\n",
              "      <td>37.10</td>\n",
              "      <td>2.03</td>\n",
              "      <td>0.02</td>\n",
              "      <td>36.36</td>\n",
              "      <td>187732538</td>\n",
              "      <td>138573955.06</td>\n",
              "      <td>Subiu</td>\n",
              "      <td>CPFL Energia</td>\n",
              "    </tr>\n",
              "    <tr>\n",
              "      <th>...</th>\n",
              "      <td>...</td>\n",
              "      <td>...</td>\n",
              "      <td>...</td>\n",
              "      <td>...</td>\n",
              "      <td>...</td>\n",
              "      <td>...</td>\n",
              "      <td>...</td>\n",
              "      <td>...</td>\n",
              "      <td>...</td>\n",
              "      <td>...</td>\n",
              "    </tr>\n",
              "    <tr>\n",
              "      <th>76</th>\n",
              "      <td>CRFB3</td>\n",
              "      <td>2024-01-26</td>\n",
              "      <td>10.71</td>\n",
              "      <td>-2.45</td>\n",
              "      <td>-0.02</td>\n",
              "      <td>10.98</td>\n",
              "      <td>533990587</td>\n",
              "      <td>-143635530.57</td>\n",
              "      <td>Desceu</td>\n",
              "      <td>Carrefour Brasil</td>\n",
              "    </tr>\n",
              "    <tr>\n",
              "      <th>77</th>\n",
              "      <td>BHIA3</td>\n",
              "      <td>2024-01-26</td>\n",
              "      <td>8.70</td>\n",
              "      <td>-2.46</td>\n",
              "      <td>-0.02</td>\n",
              "      <td>8.92</td>\n",
              "      <td>94843047</td>\n",
              "      <td>-20810240.84</td>\n",
              "      <td>Desceu</td>\n",
              "      <td>Casas Bahia</td>\n",
              "    </tr>\n",
              "    <tr>\n",
              "      <th>78</th>\n",
              "      <td>RENT3</td>\n",
              "      <td>2024-01-26</td>\n",
              "      <td>56.24</td>\n",
              "      <td>-3.63</td>\n",
              "      <td>-0.04</td>\n",
              "      <td>58.36</td>\n",
              "      <td>853202347</td>\n",
              "      <td>-1807432634.46</td>\n",
              "      <td>Desceu</td>\n",
              "      <td>Localiza</td>\n",
              "    </tr>\n",
              "    <tr>\n",
              "      <th>79</th>\n",
              "      <td>CVCB3</td>\n",
              "      <td>2024-01-26</td>\n",
              "      <td>3.07</td>\n",
              "      <td>-4.36</td>\n",
              "      <td>-0.04</td>\n",
              "      <td>3.21</td>\n",
              "      <td>525582771</td>\n",
              "      <td>-73557408.06</td>\n",
              "      <td>Desceu</td>\n",
              "      <td>CVC</td>\n",
              "    </tr>\n",
              "    <tr>\n",
              "      <th>80</th>\n",
              "      <td>GOLL4</td>\n",
              "      <td>2024-01-26</td>\n",
              "      <td>5.92</td>\n",
              "      <td>-8.07</td>\n",
              "      <td>-0.08</td>\n",
              "      <td>6.44</td>\n",
              "      <td>198184909</td>\n",
              "      <td>-102993202.62</td>\n",
              "      <td>Desceu</td>\n",
              "      <td>GOL</td>\n",
              "    </tr>\n",
              "  </tbody>\n",
              "</table>\n",
              "<p>81 rows × 10 columns</p>\n",
              "</div>"
            ],
            "text/plain": [
              "    Ativo       Data  Valor_Final  Var_dia_pct  Var_pct  Valor_Inicial  \\\n",
              "0   USIM5 2024-01-26         9.50         5.20     0.05           9.03   \n",
              "1   CMIN3 2024-01-26         6.82         2.40     0.02           6.66   \n",
              "2   PETR3 2024-01-26        41.96         2.19     0.02          41.06   \n",
              "3   SUZB3 2024-01-26        52.91         2.04     0.02          51.85   \n",
              "4   CPFE3 2024-01-26        37.10         2.03     0.02          36.36   \n",
              "..    ...        ...          ...          ...      ...            ...   \n",
              "76  CRFB3 2024-01-26        10.71        -2.45    -0.02          10.98   \n",
              "77  BHIA3 2024-01-26         8.70        -2.46    -0.02           8.92   \n",
              "78  RENT3 2024-01-26        56.24        -3.63    -0.04          58.36   \n",
              "79  CVCB3 2024-01-26         3.07        -4.36    -0.04           3.21   \n",
              "80  GOLL4 2024-01-26         5.92        -8.07    -0.08           6.44   \n",
              "\n",
              "    Qtd_teorica    Variacao_rs Resultado              Nome  \n",
              "0     515117391   241889725.43     Subiu          Usiminas  \n",
              "1    1110559345   177515970.30     Subiu     CSN Mineração  \n",
              "2    2379877655  2140059393.53     Subiu         Petrobras  \n",
              "3     683452836   722946282.71     Subiu            Suzano  \n",
              "4     187732538   138573955.06     Subiu      CPFL Energia  \n",
              "..          ...            ...       ...               ...  \n",
              "76    533990587  -143635530.57    Desceu  Carrefour Brasil  \n",
              "77     94843047   -20810240.84    Desceu       Casas Bahia  \n",
              "78    853202347 -1807432634.46    Desceu          Localiza  \n",
              "79    525582771   -73557408.06    Desceu               CVC  \n",
              "80    198184909  -102993202.62    Desceu               GOL  \n",
              "\n",
              "[81 rows x 10 columns]"
            ]
          },
          "execution_count": 18,
          "metadata": {},
          "output_type": "execute_result"
        }
      ],
      "source": [
        "df_principal = df_principal.merge(df_ticker, left_on='Ativo', right_on='Ticker', how='left')\n",
        "df_principal = df_principal.drop(columns=['Ticker'])\n",
        "df_principal"
      ]
    },
    {
      "cell_type": "code",
      "execution_count": 19,
      "metadata": {},
      "outputs": [
        {
          "data": {
            "text/html": [
              "<div>\n",
              "<style scoped>\n",
              "    .dataframe tbody tr th:only-of-type {\n",
              "        vertical-align: middle;\n",
              "    }\n",
              "\n",
              "    .dataframe tbody tr th {\n",
              "        vertical-align: top;\n",
              "    }\n",
              "\n",
              "    .dataframe thead th {\n",
              "        text-align: right;\n",
              "    }\n",
              "</style>\n",
              "<table border=\"1\" class=\"dataframe\">\n",
              "  <thead>\n",
              "    <tr style=\"text-align: right;\">\n",
              "      <th></th>\n",
              "      <th>Ativo</th>\n",
              "      <th>Data</th>\n",
              "      <th>Valor_Final</th>\n",
              "      <th>Var_dia_pct</th>\n",
              "      <th>Var_pct</th>\n",
              "      <th>Valor_Inicial</th>\n",
              "      <th>Qtd_teorica</th>\n",
              "      <th>Variacao_rs</th>\n",
              "      <th>Resultado</th>\n",
              "      <th>Nome</th>\n",
              "      <th>Segmento</th>\n",
              "      <th>Idade em anos</th>\n",
              "    </tr>\n",
              "  </thead>\n",
              "  <tbody>\n",
              "    <tr>\n",
              "      <th>0</th>\n",
              "      <td>USIM5</td>\n",
              "      <td>2024-01-26</td>\n",
              "      <td>9.50</td>\n",
              "      <td>5.20</td>\n",
              "      <td>0.05</td>\n",
              "      <td>9.03</td>\n",
              "      <td>515117391</td>\n",
              "      <td>241889725.43</td>\n",
              "      <td>Subiu</td>\n",
              "      <td>Usiminas</td>\n",
              "      <td>Siderurgia</td>\n",
              "      <td>59</td>\n",
              "    </tr>\n",
              "    <tr>\n",
              "      <th>1</th>\n",
              "      <td>CMIN3</td>\n",
              "      <td>2024-01-26</td>\n",
              "      <td>6.82</td>\n",
              "      <td>2.40</td>\n",
              "      <td>0.02</td>\n",
              "      <td>6.66</td>\n",
              "      <td>1110559345</td>\n",
              "      <td>177515970.30</td>\n",
              "      <td>Subiu</td>\n",
              "      <td>CSN Mineração</td>\n",
              "      <td>Mineração</td>\n",
              "      <td>6</td>\n",
              "    </tr>\n",
              "    <tr>\n",
              "      <th>2</th>\n",
              "      <td>PETR3</td>\n",
              "      <td>2024-01-26</td>\n",
              "      <td>41.96</td>\n",
              "      <td>2.19</td>\n",
              "      <td>0.02</td>\n",
              "      <td>41.06</td>\n",
              "      <td>2379877655</td>\n",
              "      <td>2140059393.53</td>\n",
              "      <td>Subiu</td>\n",
              "      <td>Petrobras</td>\n",
              "      <td>Petróleo e Gás</td>\n",
              "      <td>69</td>\n",
              "    </tr>\n",
              "    <tr>\n",
              "      <th>3</th>\n",
              "      <td>SUZB3</td>\n",
              "      <td>2024-01-26</td>\n",
              "      <td>52.91</td>\n",
              "      <td>2.04</td>\n",
              "      <td>0.02</td>\n",
              "      <td>51.85</td>\n",
              "      <td>683452836</td>\n",
              "      <td>722946282.71</td>\n",
              "      <td>Subiu</td>\n",
              "      <td>Suzano</td>\n",
              "      <td>Papel e Celulose</td>\n",
              "      <td>96</td>\n",
              "    </tr>\n",
              "    <tr>\n",
              "      <th>4</th>\n",
              "      <td>CPFE3</td>\n",
              "      <td>2024-01-26</td>\n",
              "      <td>37.10</td>\n",
              "      <td>2.03</td>\n",
              "      <td>0.02</td>\n",
              "      <td>36.36</td>\n",
              "      <td>187732538</td>\n",
              "      <td>138573955.06</td>\n",
              "      <td>Subiu</td>\n",
              "      <td>CPFL Energia</td>\n",
              "      <td>Energia</td>\n",
              "      <td>109</td>\n",
              "    </tr>\n",
              "    <tr>\n",
              "      <th>...</th>\n",
              "      <td>...</td>\n",
              "      <td>...</td>\n",
              "      <td>...</td>\n",
              "      <td>...</td>\n",
              "      <td>...</td>\n",
              "      <td>...</td>\n",
              "      <td>...</td>\n",
              "      <td>...</td>\n",
              "      <td>...</td>\n",
              "      <td>...</td>\n",
              "      <td>...</td>\n",
              "      <td>...</td>\n",
              "    </tr>\n",
              "    <tr>\n",
              "      <th>76</th>\n",
              "      <td>CRFB3</td>\n",
              "      <td>2024-01-26</td>\n",
              "      <td>10.71</td>\n",
              "      <td>-2.45</td>\n",
              "      <td>-0.02</td>\n",
              "      <td>10.98</td>\n",
              "      <td>533990587</td>\n",
              "      <td>-143635530.57</td>\n",
              "      <td>Desceu</td>\n",
              "      <td>Carrefour Brasil</td>\n",
              "      <td>Varejo</td>\n",
              "      <td>36</td>\n",
              "    </tr>\n",
              "    <tr>\n",
              "      <th>77</th>\n",
              "      <td>BHIA3</td>\n",
              "      <td>2024-01-26</td>\n",
              "      <td>8.70</td>\n",
              "      <td>-2.46</td>\n",
              "      <td>-0.02</td>\n",
              "      <td>8.92</td>\n",
              "      <td>94843047</td>\n",
              "      <td>-20810240.84</td>\n",
              "      <td>Desceu</td>\n",
              "      <td>Casas Bahia</td>\n",
              "      <td>Varejo</td>\n",
              "      <td>71</td>\n",
              "    </tr>\n",
              "    <tr>\n",
              "      <th>78</th>\n",
              "      <td>RENT3</td>\n",
              "      <td>2024-01-26</td>\n",
              "      <td>56.24</td>\n",
              "      <td>-3.63</td>\n",
              "      <td>-0.04</td>\n",
              "      <td>58.36</td>\n",
              "      <td>853202347</td>\n",
              "      <td>-1807432634.46</td>\n",
              "      <td>Desceu</td>\n",
              "      <td>Localiza</td>\n",
              "      <td>Aluguel de Carros</td>\n",
              "      <td>48</td>\n",
              "    </tr>\n",
              "    <tr>\n",
              "      <th>79</th>\n",
              "      <td>CVCB3</td>\n",
              "      <td>2024-01-26</td>\n",
              "      <td>3.07</td>\n",
              "      <td>-4.36</td>\n",
              "      <td>-0.04</td>\n",
              "      <td>3.21</td>\n",
              "      <td>525582771</td>\n",
              "      <td>-73557408.06</td>\n",
              "      <td>Desceu</td>\n",
              "      <td>CVC</td>\n",
              "      <td>Turismo</td>\n",
              "      <td>49</td>\n",
              "    </tr>\n",
              "    <tr>\n",
              "      <th>80</th>\n",
              "      <td>GOLL4</td>\n",
              "      <td>2024-01-26</td>\n",
              "      <td>5.92</td>\n",
              "      <td>-8.07</td>\n",
              "      <td>-0.08</td>\n",
              "      <td>6.44</td>\n",
              "      <td>198184909</td>\n",
              "      <td>-102993202.62</td>\n",
              "      <td>Desceu</td>\n",
              "      <td>GOL</td>\n",
              "      <td>Aviação</td>\n",
              "      <td>21</td>\n",
              "    </tr>\n",
              "  </tbody>\n",
              "</table>\n",
              "<p>81 rows × 12 columns</p>\n",
              "</div>"
            ],
            "text/plain": [
              "    Ativo       Data  Valor_Final  Var_dia_pct  Var_pct  Valor_Inicial  \\\n",
              "0   USIM5 2024-01-26         9.50         5.20     0.05           9.03   \n",
              "1   CMIN3 2024-01-26         6.82         2.40     0.02           6.66   \n",
              "2   PETR3 2024-01-26        41.96         2.19     0.02          41.06   \n",
              "3   SUZB3 2024-01-26        52.91         2.04     0.02          51.85   \n",
              "4   CPFE3 2024-01-26        37.10         2.03     0.02          36.36   \n",
              "..    ...        ...          ...          ...      ...            ...   \n",
              "76  CRFB3 2024-01-26        10.71        -2.45    -0.02          10.98   \n",
              "77  BHIA3 2024-01-26         8.70        -2.46    -0.02           8.92   \n",
              "78  RENT3 2024-01-26        56.24        -3.63    -0.04          58.36   \n",
              "79  CVCB3 2024-01-26         3.07        -4.36    -0.04           3.21   \n",
              "80  GOLL4 2024-01-26         5.92        -8.07    -0.08           6.44   \n",
              "\n",
              "    Qtd_teorica    Variacao_rs Resultado              Nome           Segmento  \\\n",
              "0     515117391   241889725.43     Subiu          Usiminas         Siderurgia   \n",
              "1    1110559345   177515970.30     Subiu     CSN Mineração          Mineração   \n",
              "2    2379877655  2140059393.53     Subiu         Petrobras     Petróleo e Gás   \n",
              "3     683452836   722946282.71     Subiu            Suzano   Papel e Celulose   \n",
              "4     187732538   138573955.06     Subiu      CPFL Energia            Energia   \n",
              "..          ...            ...       ...               ...                ...   \n",
              "76    533990587  -143635530.57    Desceu  Carrefour Brasil             Varejo   \n",
              "77     94843047   -20810240.84    Desceu       Casas Bahia             Varejo   \n",
              "78    853202347 -1807432634.46    Desceu          Localiza  Aluguel de Carros   \n",
              "79    525582771   -73557408.06    Desceu               CVC            Turismo   \n",
              "80    198184909  -102993202.62    Desceu               GOL            Aviação   \n",
              "\n",
              "    Idade em anos  \n",
              "0              59  \n",
              "1               6  \n",
              "2              69  \n",
              "3              96  \n",
              "4             109  \n",
              "..            ...  \n",
              "76             36  \n",
              "77             71  \n",
              "78             48  \n",
              "79             49  \n",
              "80             21  \n",
              "\n",
              "[81 rows x 12 columns]"
            ]
          },
          "execution_count": 19,
          "metadata": {},
          "output_type": "execute_result"
        }
      ],
      "source": [
        "df_principal = df_principal.merge(df_chatgpt, left_on='Nome', right_on='Nome da Empresa', how='left')\n",
        "df_principal = df_principal.drop(columns=['Nome da Empresa'])\n",
        "df_principal"
      ]
    },
    {
      "cell_type": "code",
      "execution_count": 20,
      "metadata": {},
      "outputs": [
        {
          "data": {
            "text/html": [
              "<div>\n",
              "<style scoped>\n",
              "    .dataframe tbody tr th:only-of-type {\n",
              "        vertical-align: middle;\n",
              "    }\n",
              "\n",
              "    .dataframe tbody tr th {\n",
              "        vertical-align: top;\n",
              "    }\n",
              "\n",
              "    .dataframe thead th {\n",
              "        text-align: right;\n",
              "    }\n",
              "</style>\n",
              "<table border=\"1\" class=\"dataframe\">\n",
              "  <thead>\n",
              "    <tr style=\"text-align: right;\">\n",
              "      <th></th>\n",
              "      <th>Ativo</th>\n",
              "      <th>Data</th>\n",
              "      <th>Valor_Final</th>\n",
              "      <th>Var_dia_pct</th>\n",
              "      <th>Var_pct</th>\n",
              "      <th>Valor_Inicial</th>\n",
              "      <th>Qtd_teorica</th>\n",
              "      <th>Variacao_rs</th>\n",
              "      <th>Resultado</th>\n",
              "      <th>Nome</th>\n",
              "      <th>Segmento</th>\n",
              "      <th>Idade</th>\n",
              "    </tr>\n",
              "  </thead>\n",
              "  <tbody>\n",
              "    <tr>\n",
              "      <th>0</th>\n",
              "      <td>USIM5</td>\n",
              "      <td>2024-01-26</td>\n",
              "      <td>9.50</td>\n",
              "      <td>5.20</td>\n",
              "      <td>0.05</td>\n",
              "      <td>9.03</td>\n",
              "      <td>515117391</td>\n",
              "      <td>241889725.43</td>\n",
              "      <td>Subiu</td>\n",
              "      <td>Usiminas</td>\n",
              "      <td>Siderurgia</td>\n",
              "      <td>59</td>\n",
              "    </tr>\n",
              "    <tr>\n",
              "      <th>1</th>\n",
              "      <td>CMIN3</td>\n",
              "      <td>2024-01-26</td>\n",
              "      <td>6.82</td>\n",
              "      <td>2.40</td>\n",
              "      <td>0.02</td>\n",
              "      <td>6.66</td>\n",
              "      <td>1110559345</td>\n",
              "      <td>177515970.30</td>\n",
              "      <td>Subiu</td>\n",
              "      <td>CSN Mineração</td>\n",
              "      <td>Mineração</td>\n",
              "      <td>6</td>\n",
              "    </tr>\n",
              "    <tr>\n",
              "      <th>2</th>\n",
              "      <td>PETR3</td>\n",
              "      <td>2024-01-26</td>\n",
              "      <td>41.96</td>\n",
              "      <td>2.19</td>\n",
              "      <td>0.02</td>\n",
              "      <td>41.06</td>\n",
              "      <td>2379877655</td>\n",
              "      <td>2140059393.53</td>\n",
              "      <td>Subiu</td>\n",
              "      <td>Petrobras</td>\n",
              "      <td>Petróleo e Gás</td>\n",
              "      <td>69</td>\n",
              "    </tr>\n",
              "    <tr>\n",
              "      <th>3</th>\n",
              "      <td>SUZB3</td>\n",
              "      <td>2024-01-26</td>\n",
              "      <td>52.91</td>\n",
              "      <td>2.04</td>\n",
              "      <td>0.02</td>\n",
              "      <td>51.85</td>\n",
              "      <td>683452836</td>\n",
              "      <td>722946282.71</td>\n",
              "      <td>Subiu</td>\n",
              "      <td>Suzano</td>\n",
              "      <td>Papel e Celulose</td>\n",
              "      <td>96</td>\n",
              "    </tr>\n",
              "    <tr>\n",
              "      <th>4</th>\n",
              "      <td>CPFE3</td>\n",
              "      <td>2024-01-26</td>\n",
              "      <td>37.10</td>\n",
              "      <td>2.03</td>\n",
              "      <td>0.02</td>\n",
              "      <td>36.36</td>\n",
              "      <td>187732538</td>\n",
              "      <td>138573955.06</td>\n",
              "      <td>Subiu</td>\n",
              "      <td>CPFL Energia</td>\n",
              "      <td>Energia</td>\n",
              "      <td>109</td>\n",
              "    </tr>\n",
              "    <tr>\n",
              "      <th>...</th>\n",
              "      <td>...</td>\n",
              "      <td>...</td>\n",
              "      <td>...</td>\n",
              "      <td>...</td>\n",
              "      <td>...</td>\n",
              "      <td>...</td>\n",
              "      <td>...</td>\n",
              "      <td>...</td>\n",
              "      <td>...</td>\n",
              "      <td>...</td>\n",
              "      <td>...</td>\n",
              "      <td>...</td>\n",
              "    </tr>\n",
              "    <tr>\n",
              "      <th>76</th>\n",
              "      <td>CRFB3</td>\n",
              "      <td>2024-01-26</td>\n",
              "      <td>10.71</td>\n",
              "      <td>-2.45</td>\n",
              "      <td>-0.02</td>\n",
              "      <td>10.98</td>\n",
              "      <td>533990587</td>\n",
              "      <td>-143635530.57</td>\n",
              "      <td>Desceu</td>\n",
              "      <td>Carrefour Brasil</td>\n",
              "      <td>Varejo</td>\n",
              "      <td>36</td>\n",
              "    </tr>\n",
              "    <tr>\n",
              "      <th>77</th>\n",
              "      <td>BHIA3</td>\n",
              "      <td>2024-01-26</td>\n",
              "      <td>8.70</td>\n",
              "      <td>-2.46</td>\n",
              "      <td>-0.02</td>\n",
              "      <td>8.92</td>\n",
              "      <td>94843047</td>\n",
              "      <td>-20810240.84</td>\n",
              "      <td>Desceu</td>\n",
              "      <td>Casas Bahia</td>\n",
              "      <td>Varejo</td>\n",
              "      <td>71</td>\n",
              "    </tr>\n",
              "    <tr>\n",
              "      <th>78</th>\n",
              "      <td>RENT3</td>\n",
              "      <td>2024-01-26</td>\n",
              "      <td>56.24</td>\n",
              "      <td>-3.63</td>\n",
              "      <td>-0.04</td>\n",
              "      <td>58.36</td>\n",
              "      <td>853202347</td>\n",
              "      <td>-1807432634.46</td>\n",
              "      <td>Desceu</td>\n",
              "      <td>Localiza</td>\n",
              "      <td>Aluguel de Carros</td>\n",
              "      <td>48</td>\n",
              "    </tr>\n",
              "    <tr>\n",
              "      <th>79</th>\n",
              "      <td>CVCB3</td>\n",
              "      <td>2024-01-26</td>\n",
              "      <td>3.07</td>\n",
              "      <td>-4.36</td>\n",
              "      <td>-0.04</td>\n",
              "      <td>3.21</td>\n",
              "      <td>525582771</td>\n",
              "      <td>-73557408.06</td>\n",
              "      <td>Desceu</td>\n",
              "      <td>CVC</td>\n",
              "      <td>Turismo</td>\n",
              "      <td>49</td>\n",
              "    </tr>\n",
              "    <tr>\n",
              "      <th>80</th>\n",
              "      <td>GOLL4</td>\n",
              "      <td>2024-01-26</td>\n",
              "      <td>5.92</td>\n",
              "      <td>-8.07</td>\n",
              "      <td>-0.08</td>\n",
              "      <td>6.44</td>\n",
              "      <td>198184909</td>\n",
              "      <td>-102993202.62</td>\n",
              "      <td>Desceu</td>\n",
              "      <td>GOL</td>\n",
              "      <td>Aviação</td>\n",
              "      <td>21</td>\n",
              "    </tr>\n",
              "  </tbody>\n",
              "</table>\n",
              "<p>81 rows × 12 columns</p>\n",
              "</div>"
            ],
            "text/plain": [
              "    Ativo       Data  Valor_Final  Var_dia_pct  Var_pct  Valor_Inicial  \\\n",
              "0   USIM5 2024-01-26         9.50         5.20     0.05           9.03   \n",
              "1   CMIN3 2024-01-26         6.82         2.40     0.02           6.66   \n",
              "2   PETR3 2024-01-26        41.96         2.19     0.02          41.06   \n",
              "3   SUZB3 2024-01-26        52.91         2.04     0.02          51.85   \n",
              "4   CPFE3 2024-01-26        37.10         2.03     0.02          36.36   \n",
              "..    ...        ...          ...          ...      ...            ...   \n",
              "76  CRFB3 2024-01-26        10.71        -2.45    -0.02          10.98   \n",
              "77  BHIA3 2024-01-26         8.70        -2.46    -0.02           8.92   \n",
              "78  RENT3 2024-01-26        56.24        -3.63    -0.04          58.36   \n",
              "79  CVCB3 2024-01-26         3.07        -4.36    -0.04           3.21   \n",
              "80  GOLL4 2024-01-26         5.92        -8.07    -0.08           6.44   \n",
              "\n",
              "    Qtd_teorica    Variacao_rs Resultado              Nome           Segmento  \\\n",
              "0     515117391   241889725.43     Subiu          Usiminas         Siderurgia   \n",
              "1    1110559345   177515970.30     Subiu     CSN Mineração          Mineração   \n",
              "2    2379877655  2140059393.53     Subiu         Petrobras     Petróleo e Gás   \n",
              "3     683452836   722946282.71     Subiu            Suzano   Papel e Celulose   \n",
              "4     187732538   138573955.06     Subiu      CPFL Energia            Energia   \n",
              "..          ...            ...       ...               ...                ...   \n",
              "76    533990587  -143635530.57    Desceu  Carrefour Brasil             Varejo   \n",
              "77     94843047   -20810240.84    Desceu       Casas Bahia             Varejo   \n",
              "78    853202347 -1807432634.46    Desceu          Localiza  Aluguel de Carros   \n",
              "79    525582771   -73557408.06    Desceu               CVC            Turismo   \n",
              "80    198184909  -102993202.62    Desceu               GOL            Aviação   \n",
              "\n",
              "    Idade  \n",
              "0      59  \n",
              "1       6  \n",
              "2      69  \n",
              "3      96  \n",
              "4     109  \n",
              "..    ...  \n",
              "76     36  \n",
              "77     71  \n",
              "78     48  \n",
              "79     49  \n",
              "80     21  \n",
              "\n",
              "[81 rows x 12 columns]"
            ]
          },
          "execution_count": 20,
          "metadata": {},
          "output_type": "execute_result"
        }
      ],
      "source": [
        "df_principal = df_principal.rename(columns={'Idade em anos': 'Idade'}).copy()\n",
        "df_principal"
      ]
    },
    {
      "cell_type": "code",
      "execution_count": 21,
      "metadata": {},
      "outputs": [
        {
          "data": {
            "text/html": [
              "<div>\n",
              "<style scoped>\n",
              "    .dataframe tbody tr th:only-of-type {\n",
              "        vertical-align: middle;\n",
              "    }\n",
              "\n",
              "    .dataframe tbody tr th {\n",
              "        vertical-align: top;\n",
              "    }\n",
              "\n",
              "    .dataframe thead th {\n",
              "        text-align: right;\n",
              "    }\n",
              "</style>\n",
              "<table border=\"1\" class=\"dataframe\">\n",
              "  <thead>\n",
              "    <tr style=\"text-align: right;\">\n",
              "      <th></th>\n",
              "      <th>Ativo</th>\n",
              "      <th>Data</th>\n",
              "      <th>Valor_Final</th>\n",
              "      <th>Var_dia_pct</th>\n",
              "      <th>Var_pct</th>\n",
              "      <th>Valor_Inicial</th>\n",
              "      <th>Qtd_teorica</th>\n",
              "      <th>Variacao_rs</th>\n",
              "      <th>Resultado</th>\n",
              "      <th>Nome</th>\n",
              "      <th>Segmento</th>\n",
              "      <th>Idade</th>\n",
              "      <th>Cat_Idade</th>\n",
              "    </tr>\n",
              "  </thead>\n",
              "  <tbody>\n",
              "    <tr>\n",
              "      <th>0</th>\n",
              "      <td>USIM5</td>\n",
              "      <td>2024-01-26</td>\n",
              "      <td>9.50</td>\n",
              "      <td>5.20</td>\n",
              "      <td>0.05</td>\n",
              "      <td>9.03</td>\n",
              "      <td>515117391</td>\n",
              "      <td>241889725.43</td>\n",
              "      <td>Subiu</td>\n",
              "      <td>Usiminas</td>\n",
              "      <td>Siderurgia</td>\n",
              "      <td>59</td>\n",
              "      <td>Entre 50 e 100</td>\n",
              "    </tr>\n",
              "    <tr>\n",
              "      <th>1</th>\n",
              "      <td>CMIN3</td>\n",
              "      <td>2024-01-26</td>\n",
              "      <td>6.82</td>\n",
              "      <td>2.40</td>\n",
              "      <td>0.02</td>\n",
              "      <td>6.66</td>\n",
              "      <td>1110559345</td>\n",
              "      <td>177515970.30</td>\n",
              "      <td>Subiu</td>\n",
              "      <td>CSN Mineração</td>\n",
              "      <td>Mineração</td>\n",
              "      <td>6</td>\n",
              "      <td>Menos de 50</td>\n",
              "    </tr>\n",
              "    <tr>\n",
              "      <th>2</th>\n",
              "      <td>PETR3</td>\n",
              "      <td>2024-01-26</td>\n",
              "      <td>41.96</td>\n",
              "      <td>2.19</td>\n",
              "      <td>0.02</td>\n",
              "      <td>41.06</td>\n",
              "      <td>2379877655</td>\n",
              "      <td>2140059393.53</td>\n",
              "      <td>Subiu</td>\n",
              "      <td>Petrobras</td>\n",
              "      <td>Petróleo e Gás</td>\n",
              "      <td>69</td>\n",
              "      <td>Entre 50 e 100</td>\n",
              "    </tr>\n",
              "    <tr>\n",
              "      <th>3</th>\n",
              "      <td>SUZB3</td>\n",
              "      <td>2024-01-26</td>\n",
              "      <td>52.91</td>\n",
              "      <td>2.04</td>\n",
              "      <td>0.02</td>\n",
              "      <td>51.85</td>\n",
              "      <td>683452836</td>\n",
              "      <td>722946282.71</td>\n",
              "      <td>Subiu</td>\n",
              "      <td>Suzano</td>\n",
              "      <td>Papel e Celulose</td>\n",
              "      <td>96</td>\n",
              "      <td>Entre 50 e 100</td>\n",
              "    </tr>\n",
              "    <tr>\n",
              "      <th>4</th>\n",
              "      <td>CPFE3</td>\n",
              "      <td>2024-01-26</td>\n",
              "      <td>37.10</td>\n",
              "      <td>2.03</td>\n",
              "      <td>0.02</td>\n",
              "      <td>36.36</td>\n",
              "      <td>187732538</td>\n",
              "      <td>138573955.06</td>\n",
              "      <td>Subiu</td>\n",
              "      <td>CPFL Energia</td>\n",
              "      <td>Energia</td>\n",
              "      <td>109</td>\n",
              "      <td>Mais de 100</td>\n",
              "    </tr>\n",
              "    <tr>\n",
              "      <th>...</th>\n",
              "      <td>...</td>\n",
              "      <td>...</td>\n",
              "      <td>...</td>\n",
              "      <td>...</td>\n",
              "      <td>...</td>\n",
              "      <td>...</td>\n",
              "      <td>...</td>\n",
              "      <td>...</td>\n",
              "      <td>...</td>\n",
              "      <td>...</td>\n",
              "      <td>...</td>\n",
              "      <td>...</td>\n",
              "      <td>...</td>\n",
              "    </tr>\n",
              "    <tr>\n",
              "      <th>76</th>\n",
              "      <td>CRFB3</td>\n",
              "      <td>2024-01-26</td>\n",
              "      <td>10.71</td>\n",
              "      <td>-2.45</td>\n",
              "      <td>-0.02</td>\n",
              "      <td>10.98</td>\n",
              "      <td>533990587</td>\n",
              "      <td>-143635530.57</td>\n",
              "      <td>Desceu</td>\n",
              "      <td>Carrefour Brasil</td>\n",
              "      <td>Varejo</td>\n",
              "      <td>36</td>\n",
              "      <td>Menos de 50</td>\n",
              "    </tr>\n",
              "    <tr>\n",
              "      <th>77</th>\n",
              "      <td>BHIA3</td>\n",
              "      <td>2024-01-26</td>\n",
              "      <td>8.70</td>\n",
              "      <td>-2.46</td>\n",
              "      <td>-0.02</td>\n",
              "      <td>8.92</td>\n",
              "      <td>94843047</td>\n",
              "      <td>-20810240.84</td>\n",
              "      <td>Desceu</td>\n",
              "      <td>Casas Bahia</td>\n",
              "      <td>Varejo</td>\n",
              "      <td>71</td>\n",
              "      <td>Entre 50 e 100</td>\n",
              "    </tr>\n",
              "    <tr>\n",
              "      <th>78</th>\n",
              "      <td>RENT3</td>\n",
              "      <td>2024-01-26</td>\n",
              "      <td>56.24</td>\n",
              "      <td>-3.63</td>\n",
              "      <td>-0.04</td>\n",
              "      <td>58.36</td>\n",
              "      <td>853202347</td>\n",
              "      <td>-1807432634.46</td>\n",
              "      <td>Desceu</td>\n",
              "      <td>Localiza</td>\n",
              "      <td>Aluguel de Carros</td>\n",
              "      <td>48</td>\n",
              "      <td>Menos de 50</td>\n",
              "    </tr>\n",
              "    <tr>\n",
              "      <th>79</th>\n",
              "      <td>CVCB3</td>\n",
              "      <td>2024-01-26</td>\n",
              "      <td>3.07</td>\n",
              "      <td>-4.36</td>\n",
              "      <td>-0.04</td>\n",
              "      <td>3.21</td>\n",
              "      <td>525582771</td>\n",
              "      <td>-73557408.06</td>\n",
              "      <td>Desceu</td>\n",
              "      <td>CVC</td>\n",
              "      <td>Turismo</td>\n",
              "      <td>49</td>\n",
              "      <td>Menos de 50</td>\n",
              "    </tr>\n",
              "    <tr>\n",
              "      <th>80</th>\n",
              "      <td>GOLL4</td>\n",
              "      <td>2024-01-26</td>\n",
              "      <td>5.92</td>\n",
              "      <td>-8.07</td>\n",
              "      <td>-0.08</td>\n",
              "      <td>6.44</td>\n",
              "      <td>198184909</td>\n",
              "      <td>-102993202.62</td>\n",
              "      <td>Desceu</td>\n",
              "      <td>GOL</td>\n",
              "      <td>Aviação</td>\n",
              "      <td>21</td>\n",
              "      <td>Menos de 50</td>\n",
              "    </tr>\n",
              "  </tbody>\n",
              "</table>\n",
              "<p>81 rows × 13 columns</p>\n",
              "</div>"
            ],
            "text/plain": [
              "    Ativo       Data  Valor_Final  Var_dia_pct  Var_pct  Valor_Inicial  \\\n",
              "0   USIM5 2024-01-26         9.50         5.20     0.05           9.03   \n",
              "1   CMIN3 2024-01-26         6.82         2.40     0.02           6.66   \n",
              "2   PETR3 2024-01-26        41.96         2.19     0.02          41.06   \n",
              "3   SUZB3 2024-01-26        52.91         2.04     0.02          51.85   \n",
              "4   CPFE3 2024-01-26        37.10         2.03     0.02          36.36   \n",
              "..    ...        ...          ...          ...      ...            ...   \n",
              "76  CRFB3 2024-01-26        10.71        -2.45    -0.02          10.98   \n",
              "77  BHIA3 2024-01-26         8.70        -2.46    -0.02           8.92   \n",
              "78  RENT3 2024-01-26        56.24        -3.63    -0.04          58.36   \n",
              "79  CVCB3 2024-01-26         3.07        -4.36    -0.04           3.21   \n",
              "80  GOLL4 2024-01-26         5.92        -8.07    -0.08           6.44   \n",
              "\n",
              "    Qtd_teorica    Variacao_rs Resultado              Nome           Segmento  \\\n",
              "0     515117391   241889725.43     Subiu          Usiminas         Siderurgia   \n",
              "1    1110559345   177515970.30     Subiu     CSN Mineração          Mineração   \n",
              "2    2379877655  2140059393.53     Subiu         Petrobras     Petróleo e Gás   \n",
              "3     683452836   722946282.71     Subiu            Suzano   Papel e Celulose   \n",
              "4     187732538   138573955.06     Subiu      CPFL Energia            Energia   \n",
              "..          ...            ...       ...               ...                ...   \n",
              "76    533990587  -143635530.57    Desceu  Carrefour Brasil             Varejo   \n",
              "77     94843047   -20810240.84    Desceu       Casas Bahia             Varejo   \n",
              "78    853202347 -1807432634.46    Desceu          Localiza  Aluguel de Carros   \n",
              "79    525582771   -73557408.06    Desceu               CVC            Turismo   \n",
              "80    198184909  -102993202.62    Desceu               GOL            Aviação   \n",
              "\n",
              "    Idade       Cat_Idade  \n",
              "0      59  Entre 50 e 100  \n",
              "1       6     Menos de 50  \n",
              "2      69  Entre 50 e 100  \n",
              "3      96  Entre 50 e 100  \n",
              "4     109     Mais de 100  \n",
              "..    ...             ...  \n",
              "76     36     Menos de 50  \n",
              "77     71  Entre 50 e 100  \n",
              "78     48     Menos de 50  \n",
              "79     49     Menos de 50  \n",
              "80     21     Menos de 50  \n",
              "\n",
              "[81 rows x 13 columns]"
            ]
          },
          "execution_count": 21,
          "metadata": {},
          "output_type": "execute_result"
        }
      ],
      "source": [
        "df_principal['Cat_Idade'] = df_principal['Idade'].apply(lambda x: 'Mais de 100' if x > 100 else ('Menos de 50' if x < 50 else 'Entre 50 e 100'))\n",
        "df_principal"
      ]
    },
    {
      "cell_type": "code",
      "execution_count": 22,
      "metadata": {},
      "outputs": [
        {
          "name": "stdout",
          "output_type": "stream",
          "text": [
            "Maior\tR$ 4,762,926,995.25\n",
            "Menor\tR$ -1,807,432,634.46\n",
            "Média\tR$ 165,190,210.48\n",
            "Média de quem subiu\tR$ 448,164,250.23\n",
            "Média de quem desceu\tR$ -181,109,141.75\n"
          ]
        }
      ],
      "source": [
        "maior = df_principal['Variacao_rs'].max()\n",
        "\n",
        "menor = df_principal['Variacao_rs'].min()\n",
        "\n",
        "media = df_principal['Variacao_rs'].mean()\n",
        "\n",
        "media_subiu = df_principal[df_principal['Resultado'] == 'Subiu']['Variacao_rs'].mean()\n",
        "\n",
        "media_desceu = df_principal[df_principal['Resultado'] == 'Desceu']['Variacao_rs'].mean()\n",
        "\n",
        "print(f\"Maior\\tR$ {maior:,.2f}\")\n",
        "print(f\"Menor\\tR$ {menor:,.2f}\")\n",
        "print(f\"Média\\tR$ {media:,.2f}\")\n",
        "print(f\"Média de quem subiu\\tR$ {media_subiu:,.2f}\")\n",
        "print(f\"Média de quem desceu\\tR$ {media_desceu:,.2f}\")"
      ]
    },
    {
      "cell_type": "code",
      "execution_count": 23,
      "metadata": {},
      "outputs": [
        {
          "data": {
            "text/html": [
              "<div>\n",
              "<style scoped>\n",
              "    .dataframe tbody tr th:only-of-type {\n",
              "        vertical-align: middle;\n",
              "    }\n",
              "\n",
              "    .dataframe tbody tr th {\n",
              "        vertical-align: top;\n",
              "    }\n",
              "\n",
              "    .dataframe thead th {\n",
              "        text-align: right;\n",
              "    }\n",
              "</style>\n",
              "<table border=\"1\" class=\"dataframe\">\n",
              "  <thead>\n",
              "    <tr style=\"text-align: right;\">\n",
              "      <th></th>\n",
              "      <th>Ativo</th>\n",
              "      <th>Data</th>\n",
              "      <th>Valor_Final</th>\n",
              "      <th>Var_dia_pct</th>\n",
              "      <th>Var_pct</th>\n",
              "      <th>Valor_Inicial</th>\n",
              "      <th>Qtd_teorica</th>\n",
              "      <th>Variacao_rs</th>\n",
              "      <th>Resultado</th>\n",
              "      <th>Nome</th>\n",
              "      <th>Segmento</th>\n",
              "      <th>Idade</th>\n",
              "      <th>Cat_Idade</th>\n",
              "    </tr>\n",
              "  </thead>\n",
              "  <tbody>\n",
              "    <tr>\n",
              "      <th>0</th>\n",
              "      <td>USIM5</td>\n",
              "      <td>2024-01-26</td>\n",
              "      <td>9.50</td>\n",
              "      <td>5.20</td>\n",
              "      <td>0.05</td>\n",
              "      <td>9.03</td>\n",
              "      <td>515117391</td>\n",
              "      <td>241889725.43</td>\n",
              "      <td>Subiu</td>\n",
              "      <td>Usiminas</td>\n",
              "      <td>Siderurgia</td>\n",
              "      <td>59</td>\n",
              "      <td>Entre 50 e 100</td>\n",
              "    </tr>\n",
              "    <tr>\n",
              "      <th>1</th>\n",
              "      <td>CMIN3</td>\n",
              "      <td>2024-01-26</td>\n",
              "      <td>6.82</td>\n",
              "      <td>2.40</td>\n",
              "      <td>0.02</td>\n",
              "      <td>6.66</td>\n",
              "      <td>1110559345</td>\n",
              "      <td>177515970.30</td>\n",
              "      <td>Subiu</td>\n",
              "      <td>CSN Mineração</td>\n",
              "      <td>Mineração</td>\n",
              "      <td>6</td>\n",
              "      <td>Menos de 50</td>\n",
              "    </tr>\n",
              "    <tr>\n",
              "      <th>2</th>\n",
              "      <td>PETR3</td>\n",
              "      <td>2024-01-26</td>\n",
              "      <td>41.96</td>\n",
              "      <td>2.19</td>\n",
              "      <td>0.02</td>\n",
              "      <td>41.06</td>\n",
              "      <td>2379877655</td>\n",
              "      <td>2140059393.53</td>\n",
              "      <td>Subiu</td>\n",
              "      <td>Petrobras</td>\n",
              "      <td>Petróleo e Gás</td>\n",
              "      <td>69</td>\n",
              "      <td>Entre 50 e 100</td>\n",
              "    </tr>\n",
              "    <tr>\n",
              "      <th>3</th>\n",
              "      <td>SUZB3</td>\n",
              "      <td>2024-01-26</td>\n",
              "      <td>52.91</td>\n",
              "      <td>2.04</td>\n",
              "      <td>0.02</td>\n",
              "      <td>51.85</td>\n",
              "      <td>683452836</td>\n",
              "      <td>722946282.71</td>\n",
              "      <td>Subiu</td>\n",
              "      <td>Suzano</td>\n",
              "      <td>Papel e Celulose</td>\n",
              "      <td>96</td>\n",
              "      <td>Entre 50 e 100</td>\n",
              "    </tr>\n",
              "    <tr>\n",
              "      <th>4</th>\n",
              "      <td>CPFE3</td>\n",
              "      <td>2024-01-26</td>\n",
              "      <td>37.10</td>\n",
              "      <td>2.03</td>\n",
              "      <td>0.02</td>\n",
              "      <td>36.36</td>\n",
              "      <td>187732538</td>\n",
              "      <td>138573955.06</td>\n",
              "      <td>Subiu</td>\n",
              "      <td>CPFL Energia</td>\n",
              "      <td>Energia</td>\n",
              "      <td>109</td>\n",
              "      <td>Mais de 100</td>\n",
              "    </tr>\n",
              "    <tr>\n",
              "      <th>5</th>\n",
              "      <td>PRIO3</td>\n",
              "      <td>2024-01-26</td>\n",
              "      <td>45.69</td>\n",
              "      <td>1.98</td>\n",
              "      <td>0.02</td>\n",
              "      <td>44.80</td>\n",
              "      <td>800010734</td>\n",
              "      <td>709687498.18</td>\n",
              "      <td>Subiu</td>\n",
              "      <td>PetroRio</td>\n",
              "      <td>Petróleo e Gás</td>\n",
              "      <td>10</td>\n",
              "      <td>Menos de 50</td>\n",
              "    </tr>\n",
              "    <tr>\n",
              "      <th>6</th>\n",
              "      <td>PETR4</td>\n",
              "      <td>2024-01-26</td>\n",
              "      <td>39.96</td>\n",
              "      <td>1.73</td>\n",
              "      <td>0.02</td>\n",
              "      <td>39.28</td>\n",
              "      <td>4566445852</td>\n",
              "      <td>3103136291.22</td>\n",
              "      <td>Subiu</td>\n",
              "      <td>Petrobras</td>\n",
              "      <td>Petróleo e Gás</td>\n",
              "      <td>69</td>\n",
              "      <td>Entre 50 e 100</td>\n",
              "    </tr>\n",
              "    <tr>\n",
              "      <th>7</th>\n",
              "      <td>VALE3</td>\n",
              "      <td>2024-01-26</td>\n",
              "      <td>69.50</td>\n",
              "      <td>1.66</td>\n",
              "      <td>0.02</td>\n",
              "      <td>68.37</td>\n",
              "      <td>4196924316</td>\n",
              "      <td>4762926995.25</td>\n",
              "      <td>Subiu</td>\n",
              "      <td>Vale</td>\n",
              "      <td>Mineração</td>\n",
              "      <td>80</td>\n",
              "      <td>Entre 50 e 100</td>\n",
              "    </tr>\n",
              "    <tr>\n",
              "      <th>8</th>\n",
              "      <td>MULT3</td>\n",
              "      <td>2024-01-26</td>\n",
              "      <td>28.19</td>\n",
              "      <td>1.58</td>\n",
              "      <td>0.02</td>\n",
              "      <td>27.75</td>\n",
              "      <td>268505432</td>\n",
              "      <td>117732680.08</td>\n",
              "      <td>Subiu</td>\n",
              "      <td>Multiplan</td>\n",
              "      <td>Shopping Center</td>\n",
              "      <td>47</td>\n",
              "      <td>Menos de 50</td>\n",
              "    </tr>\n",
              "    <tr>\n",
              "      <th>9</th>\n",
              "      <td>ITUB4</td>\n",
              "      <td>2024-01-26</td>\n",
              "      <td>32.81</td>\n",
              "      <td>1.48</td>\n",
              "      <td>0.01</td>\n",
              "      <td>32.33</td>\n",
              "      <td>4801593832</td>\n",
              "      <td>2297591984.33</td>\n",
              "      <td>Subiu</td>\n",
              "      <td>Itaú Unibanco</td>\n",
              "      <td>Banco</td>\n",
              "      <td>13</td>\n",
              "      <td>Menos de 50</td>\n",
              "    </tr>\n",
              "    <tr>\n",
              "      <th>10</th>\n",
              "      <td>RDOR3</td>\n",
              "      <td>2024-01-26</td>\n",
              "      <td>27.56</td>\n",
              "      <td>1.43</td>\n",
              "      <td>0.01</td>\n",
              "      <td>27.17</td>\n",
              "      <td>1168230366</td>\n",
              "      <td>453917907.01</td>\n",
              "      <td>Subiu</td>\n",
              "      <td>Rede D'Or</td>\n",
              "      <td>Saúde</td>\n",
              "      <td>51</td>\n",
              "      <td>Entre 50 e 100</td>\n",
              "    </tr>\n",
              "    <tr>\n",
              "      <th>11</th>\n",
              "      <td>BRKM5</td>\n",
              "      <td>2024-01-26</td>\n",
              "      <td>18.55</td>\n",
              "      <td>1.42</td>\n",
              "      <td>0.01</td>\n",
              "      <td>18.29</td>\n",
              "      <td>265877867</td>\n",
              "      <td>69054317.64</td>\n",
              "      <td>Subiu</td>\n",
              "      <td>Braskem</td>\n",
              "      <td>Petroquímica</td>\n",
              "      <td>12</td>\n",
              "      <td>Menos de 50</td>\n",
              "    </tr>\n",
              "    <tr>\n",
              "      <th>12</th>\n",
              "      <td>AZUL4</td>\n",
              "      <td>2024-01-26</td>\n",
              "      <td>14.27</td>\n",
              "      <td>1.42</td>\n",
              "      <td>0.01</td>\n",
              "      <td>14.07</td>\n",
              "      <td>327593725</td>\n",
              "      <td>65452205.55</td>\n",
              "      <td>Subiu</td>\n",
              "      <td>Azul</td>\n",
              "      <td>Aviação</td>\n",
              "      <td>14</td>\n",
              "      <td>Menos de 50</td>\n",
              "    </tr>\n",
              "    <tr>\n",
              "      <th>13</th>\n",
              "      <td>RRRP3</td>\n",
              "      <td>2024-01-26</td>\n",
              "      <td>28.75</td>\n",
              "      <td>1.41</td>\n",
              "      <td>0.01</td>\n",
              "      <td>28.35</td>\n",
              "      <td>235665566</td>\n",
              "      <td>94204643.35</td>\n",
              "      <td>Subiu</td>\n",
              "      <td>3R Petroleum</td>\n",
              "      <td>Petróleo e Gás</td>\n",
              "      <td>5</td>\n",
              "      <td>Menos de 50</td>\n",
              "    </tr>\n",
              "    <tr>\n",
              "      <th>14</th>\n",
              "      <td>EQTL3</td>\n",
              "      <td>2024-01-26</td>\n",
              "      <td>35.32</td>\n",
              "      <td>1.34</td>\n",
              "      <td>0.01</td>\n",
              "      <td>34.85</td>\n",
              "      <td>1095587251</td>\n",
              "      <td>511671895.45</td>\n",
              "      <td>Subiu</td>\n",
              "      <td>Equatorial Energia</td>\n",
              "      <td>Energia</td>\n",
              "      <td>23</td>\n",
              "      <td>Menos de 50</td>\n",
              "    </tr>\n",
              "    <tr>\n",
              "      <th>15</th>\n",
              "      <td>CSNA3</td>\n",
              "      <td>2024-01-26</td>\n",
              "      <td>18.16</td>\n",
              "      <td>1.33</td>\n",
              "      <td>0.01</td>\n",
              "      <td>17.92</td>\n",
              "      <td>600865451</td>\n",
              "      <td>143220991.46</td>\n",
              "      <td>Subiu</td>\n",
              "      <td>Siderúrgica Nacional</td>\n",
              "      <td>Siderurgia</td>\n",
              "      <td>78</td>\n",
              "      <td>Entre 50 e 100</td>\n",
              "    </tr>\n",
              "    <tr>\n",
              "      <th>16</th>\n",
              "      <td>YDUQ3</td>\n",
              "      <td>2024-01-26</td>\n",
              "      <td>19.77</td>\n",
              "      <td>1.28</td>\n",
              "      <td>0.01</td>\n",
              "      <td>19.52</td>\n",
              "      <td>289347914</td>\n",
              "      <td>72295838.99</td>\n",
              "      <td>Subiu</td>\n",
              "      <td>YDUQS</td>\n",
              "      <td>Educação</td>\n",
              "      <td>53</td>\n",
              "      <td>Entre 50 e 100</td>\n",
              "    </tr>\n",
              "    <tr>\n",
              "      <th>17</th>\n",
              "      <td>UGPA3</td>\n",
              "      <td>2024-01-26</td>\n",
              "      <td>28.31</td>\n",
              "      <td>1.28</td>\n",
              "      <td>0.01</td>\n",
              "      <td>27.95</td>\n",
              "      <td>1086411192</td>\n",
              "      <td>388705223.96</td>\n",
              "      <td>Subiu</td>\n",
              "      <td>Ultrapar</td>\n",
              "      <td>Energia</td>\n",
              "      <td>86</td>\n",
              "      <td>Entre 50 e 100</td>\n",
              "    </tr>\n",
              "    <tr>\n",
              "      <th>18</th>\n",
              "      <td>MRVE3</td>\n",
              "      <td>2024-01-26</td>\n",
              "      <td>8.08</td>\n",
              "      <td>1.25</td>\n",
              "      <td>0.01</td>\n",
              "      <td>7.98</td>\n",
              "      <td>376187582</td>\n",
              "      <td>37525872.38</td>\n",
              "      <td>Subiu</td>\n",
              "      <td>MRV</td>\n",
              "      <td>Construção Civil</td>\n",
              "      <td>41</td>\n",
              "      <td>Menos de 50</td>\n",
              "    </tr>\n",
              "    <tr>\n",
              "      <th>19</th>\n",
              "      <td>ARZZ3</td>\n",
              "      <td>2024-01-26</td>\n",
              "      <td>57.91</td>\n",
              "      <td>1.15</td>\n",
              "      <td>0.01</td>\n",
              "      <td>57.25</td>\n",
              "      <td>62305891</td>\n",
              "      <td>41021792.09</td>\n",
              "      <td>Subiu</td>\n",
              "      <td>Arezzo</td>\n",
              "      <td>Moda</td>\n",
              "      <td>49</td>\n",
              "      <td>Menos de 50</td>\n",
              "    </tr>\n",
              "    <tr>\n",
              "      <th>20</th>\n",
              "      <td>BBDC4</td>\n",
              "      <td>2024-01-26</td>\n",
              "      <td>15.52</td>\n",
              "      <td>1.04</td>\n",
              "      <td>0.01</td>\n",
              "      <td>15.36</td>\n",
              "      <td>5146576868</td>\n",
              "      <td>822148336.41</td>\n",
              "      <td>Subiu</td>\n",
              "      <td>Banco Bradesco</td>\n",
              "      <td>Banco</td>\n",
              "      <td>78</td>\n",
              "      <td>Entre 50 e 100</td>\n",
              "    </tr>\n",
              "    <tr>\n",
              "      <th>21</th>\n",
              "      <td>BEEF3</td>\n",
              "      <td>2024-01-26</td>\n",
              "      <td>7.19</td>\n",
              "      <td>0.98</td>\n",
              "      <td>0.01</td>\n",
              "      <td>7.12</td>\n",
              "      <td>261036182</td>\n",
              "      <td>18214628.10</td>\n",
              "      <td>Subiu</td>\n",
              "      <td>Minerva</td>\n",
              "      <td>Alimentos</td>\n",
              "      <td>28</td>\n",
              "      <td>Menos de 50</td>\n",
              "    </tr>\n",
              "    <tr>\n",
              "      <th>22</th>\n",
              "      <td>PCAR3</td>\n",
              "      <td>2024-01-26</td>\n",
              "      <td>4.14</td>\n",
              "      <td>0.97</td>\n",
              "      <td>0.01</td>\n",
              "      <td>4.10</td>\n",
              "      <td>159430826</td>\n",
              "      <td>6340916.22</td>\n",
              "      <td>Subiu</td>\n",
              "      <td>Grupo Pão de Açúcar</td>\n",
              "      <td>Varejo</td>\n",
              "      <td>61</td>\n",
              "      <td>Entre 50 e 100</td>\n",
              "    </tr>\n",
              "    <tr>\n",
              "      <th>23</th>\n",
              "      <td>BRFS3</td>\n",
              "      <td>2024-01-26</td>\n",
              "      <td>14.61</td>\n",
              "      <td>0.96</td>\n",
              "      <td>0.01</td>\n",
              "      <td>14.47</td>\n",
              "      <td>1677525446</td>\n",
              "      <td>233045769.57</td>\n",
              "      <td>Subiu</td>\n",
              "      <td>BRF</td>\n",
              "      <td>Alimentos</td>\n",
              "      <td>9</td>\n",
              "      <td>Menos de 50</td>\n",
              "    </tr>\n",
              "    <tr>\n",
              "      <th>24</th>\n",
              "      <td>VIVT3</td>\n",
              "      <td>2024-01-26</td>\n",
              "      <td>51.20</td>\n",
              "      <td>0.88</td>\n",
              "      <td>0.01</td>\n",
              "      <td>50.75</td>\n",
              "      <td>423091712</td>\n",
              "      <td>188965307.06</td>\n",
              "      <td>Subiu</td>\n",
              "      <td>Vivo</td>\n",
              "      <td>Telecomunicações</td>\n",
              "      <td>21</td>\n",
              "      <td>Menos de 50</td>\n",
              "    </tr>\n",
              "    <tr>\n",
              "      <th>25</th>\n",
              "      <td>RAIL3</td>\n",
              "      <td>2024-01-26</td>\n",
              "      <td>22.64</td>\n",
              "      <td>0.84</td>\n",
              "      <td>0.01</td>\n",
              "      <td>22.45</td>\n",
              "      <td>1218352541</td>\n",
              "      <td>229771333.63</td>\n",
              "      <td>Subiu</td>\n",
              "      <td>Rumo</td>\n",
              "      <td>Logística</td>\n",
              "      <td>7</td>\n",
              "      <td>Menos de 50</td>\n",
              "    </tr>\n",
              "    <tr>\n",
              "      <th>26</th>\n",
              "      <td>CIEL3</td>\n",
              "      <td>2024-01-26</td>\n",
              "      <td>4.90</td>\n",
              "      <td>0.82</td>\n",
              "      <td>0.01</td>\n",
              "      <td>4.86</td>\n",
              "      <td>1095462329</td>\n",
              "      <td>43657683.38</td>\n",
              "      <td>Subiu</td>\n",
              "      <td>Cielo</td>\n",
              "      <td>Pagamentos</td>\n",
              "      <td>12</td>\n",
              "      <td>Menos de 50</td>\n",
              "    </tr>\n",
              "    <tr>\n",
              "      <th>27</th>\n",
              "      <td>DXCO3</td>\n",
              "      <td>2024-01-26</td>\n",
              "      <td>7.81</td>\n",
              "      <td>0.77</td>\n",
              "      <td>0.01</td>\n",
              "      <td>7.75</td>\n",
              "      <td>302768240</td>\n",
              "      <td>18068446.61</td>\n",
              "      <td>Subiu</td>\n",
              "      <td>Dexco</td>\n",
              "      <td>Energia</td>\n",
              "      <td>33</td>\n",
              "      <td>Menos de 50</td>\n",
              "    </tr>\n",
              "    <tr>\n",
              "      <th>28</th>\n",
              "      <td>TIMS3</td>\n",
              "      <td>2024-01-26</td>\n",
              "      <td>17.52</td>\n",
              "      <td>0.74</td>\n",
              "      <td>0.01</td>\n",
              "      <td>17.39</td>\n",
              "      <td>807896814</td>\n",
              "      <td>103972807.37</td>\n",
              "      <td>Subiu</td>\n",
              "      <td>TIM</td>\n",
              "      <td>Telecomunicações</td>\n",
              "      <td>28</td>\n",
              "      <td>Menos de 50</td>\n",
              "    </tr>\n",
              "    <tr>\n",
              "      <th>29</th>\n",
              "      <td>BRAP4</td>\n",
              "      <td>2024-01-26</td>\n",
              "      <td>23.22</td>\n",
              "      <td>0.73</td>\n",
              "      <td>0.01</td>\n",
              "      <td>23.05</td>\n",
              "      <td>251003438</td>\n",
              "      <td>42238249.54</td>\n",
              "      <td>Subiu</td>\n",
              "      <td>Bradespar</td>\n",
              "      <td>Investimentos</td>\n",
              "      <td>31</td>\n",
              "      <td>Menos de 50</td>\n",
              "    </tr>\n",
              "    <tr>\n",
              "      <th>30</th>\n",
              "      <td>LWSA3</td>\n",
              "      <td>2024-01-26</td>\n",
              "      <td>5.55</td>\n",
              "      <td>0.72</td>\n",
              "      <td>0.01</td>\n",
              "      <td>5.51</td>\n",
              "      <td>393173139</td>\n",
              "      <td>15598886.65</td>\n",
              "      <td>Subiu</td>\n",
              "      <td>Locaweb</td>\n",
              "      <td>Tecnologia</td>\n",
              "      <td>24</td>\n",
              "      <td>Menos de 50</td>\n",
              "    </tr>\n",
              "    <tr>\n",
              "      <th>31</th>\n",
              "      <td>RECV3</td>\n",
              "      <td>2024-01-26</td>\n",
              "      <td>23.83</td>\n",
              "      <td>0.71</td>\n",
              "      <td>0.01</td>\n",
              "      <td>23.66</td>\n",
              "      <td>275005663</td>\n",
              "      <td>46201006.00</td>\n",
              "      <td>Subiu</td>\n",
              "      <td>PetroRecôncavo</td>\n",
              "      <td>Petróleo e Gás</td>\n",
              "      <td>6</td>\n",
              "      <td>Menos de 50</td>\n",
              "    </tr>\n",
              "    <tr>\n",
              "      <th>32</th>\n",
              "      <td>ITSA4</td>\n",
              "      <td>2024-01-26</td>\n",
              "      <td>10.01</td>\n",
              "      <td>0.70</td>\n",
              "      <td>0.01</td>\n",
              "      <td>9.94</td>\n",
              "      <td>5372783971</td>\n",
              "      <td>373853994.88</td>\n",
              "      <td>Subiu</td>\n",
              "      <td>Itaúsa</td>\n",
              "      <td>Investimentos</td>\n",
              "      <td>55</td>\n",
              "      <td>Entre 50 e 100</td>\n",
              "    </tr>\n",
              "    <tr>\n",
              "      <th>33</th>\n",
              "      <td>BBAS3</td>\n",
              "      <td>2024-01-26</td>\n",
              "      <td>56.97</td>\n",
              "      <td>0.68</td>\n",
              "      <td>0.01</td>\n",
              "      <td>56.59</td>\n",
              "      <td>1420949112</td>\n",
              "      <td>546752087.99</td>\n",
              "      <td>Subiu</td>\n",
              "      <td>Banco do Brasil</td>\n",
              "      <td>Banco</td>\n",
              "      <td>213</td>\n",
              "      <td>Mais de 100</td>\n",
              "    </tr>\n",
              "    <tr>\n",
              "      <th>34</th>\n",
              "      <td>RADL3</td>\n",
              "      <td>2024-01-26</td>\n",
              "      <td>26.16</td>\n",
              "      <td>0.61</td>\n",
              "      <td>0.01</td>\n",
              "      <td>26.00</td>\n",
              "      <td>1275798515</td>\n",
              "      <td>202352473.74</td>\n",
              "      <td>Subiu</td>\n",
              "      <td>RaiaDrogasil</td>\n",
              "      <td>Varejo</td>\n",
              "      <td>116</td>\n",
              "      <td>Mais de 100</td>\n",
              "    </tr>\n",
              "    <tr>\n",
              "      <th>35</th>\n",
              "      <td>GOAU4</td>\n",
              "      <td>2024-01-26</td>\n",
              "      <td>10.08</td>\n",
              "      <td>0.59</td>\n",
              "      <td>0.01</td>\n",
              "      <td>10.02</td>\n",
              "      <td>660411219</td>\n",
              "      <td>39045606.94</td>\n",
              "      <td>Subiu</td>\n",
              "      <td>Metalúrgica Gerdau</td>\n",
              "      <td>Siderurgia</td>\n",
              "      <td>120</td>\n",
              "      <td>Mais de 100</td>\n",
              "    </tr>\n",
              "    <tr>\n",
              "      <th>36</th>\n",
              "      <td>CSAN3</td>\n",
              "      <td>2024-01-26</td>\n",
              "      <td>18.57</td>\n",
              "      <td>0.59</td>\n",
              "      <td>0.01</td>\n",
              "      <td>18.46</td>\n",
              "      <td>1168097881</td>\n",
              "      <td>127229653.18</td>\n",
              "      <td>Subiu</td>\n",
              "      <td>Cosan</td>\n",
              "      <td>Energia</td>\n",
              "      <td>19</td>\n",
              "      <td>Menos de 50</td>\n",
              "    </tr>\n",
              "    <tr>\n",
              "      <th>37</th>\n",
              "      <td>JBSS3</td>\n",
              "      <td>2024-01-26</td>\n",
              "      <td>24.34</td>\n",
              "      <td>0.57</td>\n",
              "      <td>0.01</td>\n",
              "      <td>24.20</td>\n",
              "      <td>1134986472</td>\n",
              "      <td>156573285.43</td>\n",
              "      <td>Subiu</td>\n",
              "      <td>JBS</td>\n",
              "      <td>Alimentos</td>\n",
              "      <td>68</td>\n",
              "      <td>Entre 50 e 100</td>\n",
              "    </tr>\n",
              "    <tr>\n",
              "      <th>38</th>\n",
              "      <td>MGLU3</td>\n",
              "      <td>2024-01-26</td>\n",
              "      <td>2.08</td>\n",
              "      <td>0.48</td>\n",
              "      <td>0.00</td>\n",
              "      <td>2.07</td>\n",
              "      <td>2867627068</td>\n",
              "      <td>28493619.27</td>\n",
              "      <td>Subiu</td>\n",
              "      <td>Magazine Luiza</td>\n",
              "      <td>Varejo</td>\n",
              "      <td>64</td>\n",
              "      <td>Entre 50 e 100</td>\n",
              "    </tr>\n",
              "    <tr>\n",
              "      <th>39</th>\n",
              "      <td>BBDC3</td>\n",
              "      <td>2024-01-26</td>\n",
              "      <td>13.75</td>\n",
              "      <td>0.36</td>\n",
              "      <td>0.00</td>\n",
              "      <td>13.70</td>\n",
              "      <td>1500728902</td>\n",
              "      <td>74019610.05</td>\n",
              "      <td>Subiu</td>\n",
              "      <td>Banco Bradesco</td>\n",
              "      <td>Banco</td>\n",
              "      <td>78</td>\n",
              "      <td>Entre 50 e 100</td>\n",
              "    </tr>\n",
              "    <tr>\n",
              "      <th>40</th>\n",
              "      <td>GGBR4</td>\n",
              "      <td>2024-01-26</td>\n",
              "      <td>21.84</td>\n",
              "      <td>0.27</td>\n",
              "      <td>0.00</td>\n",
              "      <td>21.78</td>\n",
              "      <td>1118525506</td>\n",
              "      <td>65779607.10</td>\n",
              "      <td>Subiu</td>\n",
              "      <td>Gerdau</td>\n",
              "      <td>Siderurgia</td>\n",
              "      <td>120</td>\n",
              "      <td>Mais de 100</td>\n",
              "    </tr>\n",
              "    <tr>\n",
              "      <th>41</th>\n",
              "      <td>RAIZ4</td>\n",
              "      <td>2024-01-26</td>\n",
              "      <td>3.74</td>\n",
              "      <td>0.26</td>\n",
              "      <td>0.00</td>\n",
              "      <td>3.73</td>\n",
              "      <td>1193047233</td>\n",
              "      <td>11571106.42</td>\n",
              "      <td>Subiu</td>\n",
              "      <td>Raízen</td>\n",
              "      <td>Energia</td>\n",
              "      <td>11</td>\n",
              "      <td>Menos de 50</td>\n",
              "    </tr>\n",
              "    <tr>\n",
              "      <th>42</th>\n",
              "      <td>CPLE6</td>\n",
              "      <td>2024-01-26</td>\n",
              "      <td>10.07</td>\n",
              "      <td>0.19</td>\n",
              "      <td>0.00</td>\n",
              "      <td>10.05</td>\n",
              "      <td>1679335290</td>\n",
              "      <td>32069789.50</td>\n",
              "      <td>Subiu</td>\n",
              "      <td>Copel</td>\n",
              "      <td>Energia</td>\n",
              "      <td>65</td>\n",
              "      <td>Entre 50 e 100</td>\n",
              "    </tr>\n",
              "    <tr>\n",
              "      <th>43</th>\n",
              "      <td>VAMO3</td>\n",
              "      <td>2024-01-26</td>\n",
              "      <td>8.18</td>\n",
              "      <td>0.12</td>\n",
              "      <td>0.00</td>\n",
              "      <td>8.17</td>\n",
              "      <td>421383330</td>\n",
              "      <td>4131341.16</td>\n",
              "      <td>Subiu</td>\n",
              "      <td>Grupo Vamos</td>\n",
              "      <td>Logística</td>\n",
              "      <td>22</td>\n",
              "      <td>Menos de 50</td>\n",
              "    </tr>\n",
              "  </tbody>\n",
              "</table>\n",
              "</div>"
            ],
            "text/plain": [
              "    Ativo       Data  Valor_Final  Var_dia_pct  Var_pct  Valor_Inicial  \\\n",
              "0   USIM5 2024-01-26         9.50         5.20     0.05           9.03   \n",
              "1   CMIN3 2024-01-26         6.82         2.40     0.02           6.66   \n",
              "2   PETR3 2024-01-26        41.96         2.19     0.02          41.06   \n",
              "3   SUZB3 2024-01-26        52.91         2.04     0.02          51.85   \n",
              "4   CPFE3 2024-01-26        37.10         2.03     0.02          36.36   \n",
              "5   PRIO3 2024-01-26        45.69         1.98     0.02          44.80   \n",
              "6   PETR4 2024-01-26        39.96         1.73     0.02          39.28   \n",
              "7   VALE3 2024-01-26        69.50         1.66     0.02          68.37   \n",
              "8   MULT3 2024-01-26        28.19         1.58     0.02          27.75   \n",
              "9   ITUB4 2024-01-26        32.81         1.48     0.01          32.33   \n",
              "10  RDOR3 2024-01-26        27.56         1.43     0.01          27.17   \n",
              "11  BRKM5 2024-01-26        18.55         1.42     0.01          18.29   \n",
              "12  AZUL4 2024-01-26        14.27         1.42     0.01          14.07   \n",
              "13  RRRP3 2024-01-26        28.75         1.41     0.01          28.35   \n",
              "14  EQTL3 2024-01-26        35.32         1.34     0.01          34.85   \n",
              "15  CSNA3 2024-01-26        18.16         1.33     0.01          17.92   \n",
              "16  YDUQ3 2024-01-26        19.77         1.28     0.01          19.52   \n",
              "17  UGPA3 2024-01-26        28.31         1.28     0.01          27.95   \n",
              "18  MRVE3 2024-01-26         8.08         1.25     0.01           7.98   \n",
              "19  ARZZ3 2024-01-26        57.91         1.15     0.01          57.25   \n",
              "20  BBDC4 2024-01-26        15.52         1.04     0.01          15.36   \n",
              "21  BEEF3 2024-01-26         7.19         0.98     0.01           7.12   \n",
              "22  PCAR3 2024-01-26         4.14         0.97     0.01           4.10   \n",
              "23  BRFS3 2024-01-26        14.61         0.96     0.01          14.47   \n",
              "24  VIVT3 2024-01-26        51.20         0.88     0.01          50.75   \n",
              "25  RAIL3 2024-01-26        22.64         0.84     0.01          22.45   \n",
              "26  CIEL3 2024-01-26         4.90         0.82     0.01           4.86   \n",
              "27  DXCO3 2024-01-26         7.81         0.77     0.01           7.75   \n",
              "28  TIMS3 2024-01-26        17.52         0.74     0.01          17.39   \n",
              "29  BRAP4 2024-01-26        23.22         0.73     0.01          23.05   \n",
              "30  LWSA3 2024-01-26         5.55         0.72     0.01           5.51   \n",
              "31  RECV3 2024-01-26        23.83         0.71     0.01          23.66   \n",
              "32  ITSA4 2024-01-26        10.01         0.70     0.01           9.94   \n",
              "33  BBAS3 2024-01-26        56.97         0.68     0.01          56.59   \n",
              "34  RADL3 2024-01-26        26.16         0.61     0.01          26.00   \n",
              "35  GOAU4 2024-01-26        10.08         0.59     0.01          10.02   \n",
              "36  CSAN3 2024-01-26        18.57         0.59     0.01          18.46   \n",
              "37  JBSS3 2024-01-26        24.34         0.57     0.01          24.20   \n",
              "38  MGLU3 2024-01-26         2.08         0.48     0.00           2.07   \n",
              "39  BBDC3 2024-01-26        13.75         0.36     0.00          13.70   \n",
              "40  GGBR4 2024-01-26        21.84         0.27     0.00          21.78   \n",
              "41  RAIZ4 2024-01-26         3.74         0.26     0.00           3.73   \n",
              "42  CPLE6 2024-01-26        10.07         0.19     0.00          10.05   \n",
              "43  VAMO3 2024-01-26         8.18         0.12     0.00           8.17   \n",
              "\n",
              "    Qtd_teorica   Variacao_rs Resultado                  Nome  \\\n",
              "0     515117391  241889725.43     Subiu              Usiminas   \n",
              "1    1110559345  177515970.30     Subiu         CSN Mineração   \n",
              "2    2379877655 2140059393.53     Subiu             Petrobras   \n",
              "3     683452836  722946282.71     Subiu                Suzano   \n",
              "4     187732538  138573955.06     Subiu          CPFL Energia   \n",
              "5     800010734  709687498.18     Subiu              PetroRio   \n",
              "6    4566445852 3103136291.22     Subiu             Petrobras   \n",
              "7    4196924316 4762926995.25     Subiu                  Vale   \n",
              "8     268505432  117732680.08     Subiu             Multiplan   \n",
              "9    4801593832 2297591984.33     Subiu         Itaú Unibanco   \n",
              "10   1168230366  453917907.01     Subiu             Rede D'Or   \n",
              "11    265877867   69054317.64     Subiu               Braskem   \n",
              "12    327593725   65452205.55     Subiu                  Azul   \n",
              "13    235665566   94204643.35     Subiu          3R Petroleum   \n",
              "14   1095587251  511671895.45     Subiu    Equatorial Energia   \n",
              "15    600865451  143220991.46     Subiu  Siderúrgica Nacional   \n",
              "16    289347914   72295838.99     Subiu                 YDUQS   \n",
              "17   1086411192  388705223.96     Subiu              Ultrapar   \n",
              "18    376187582   37525872.38     Subiu                   MRV   \n",
              "19     62305891   41021792.09     Subiu                Arezzo   \n",
              "20   5146576868  822148336.41     Subiu        Banco Bradesco   \n",
              "21    261036182   18214628.10     Subiu               Minerva   \n",
              "22    159430826    6340916.22     Subiu   Grupo Pão de Açúcar   \n",
              "23   1677525446  233045769.57     Subiu                   BRF   \n",
              "24    423091712  188965307.06     Subiu                  Vivo   \n",
              "25   1218352541  229771333.63     Subiu                  Rumo   \n",
              "26   1095462329   43657683.38     Subiu                 Cielo   \n",
              "27    302768240   18068446.61     Subiu                 Dexco   \n",
              "28    807896814  103972807.37     Subiu                   TIM   \n",
              "29    251003438   42238249.54     Subiu             Bradespar   \n",
              "30    393173139   15598886.65     Subiu               Locaweb   \n",
              "31    275005663   46201006.00     Subiu        PetroRecôncavo   \n",
              "32   5372783971  373853994.88     Subiu                Itaúsa   \n",
              "33   1420949112  546752087.99     Subiu       Banco do Brasil   \n",
              "34   1275798515  202352473.74     Subiu          RaiaDrogasil   \n",
              "35    660411219   39045606.94     Subiu    Metalúrgica Gerdau   \n",
              "36   1168097881  127229653.18     Subiu                 Cosan   \n",
              "37   1134986472  156573285.43     Subiu                   JBS   \n",
              "38   2867627068   28493619.27     Subiu        Magazine Luiza   \n",
              "39   1500728902   74019610.05     Subiu        Banco Bradesco   \n",
              "40   1118525506   65779607.10     Subiu                Gerdau   \n",
              "41   1193047233   11571106.42     Subiu                Raízen   \n",
              "42   1679335290   32069789.50     Subiu                 Copel   \n",
              "43    421383330    4131341.16     Subiu           Grupo Vamos   \n",
              "\n",
              "            Segmento  Idade       Cat_Idade  \n",
              "0         Siderurgia     59  Entre 50 e 100  \n",
              "1          Mineração      6     Menos de 50  \n",
              "2     Petróleo e Gás     69  Entre 50 e 100  \n",
              "3   Papel e Celulose     96  Entre 50 e 100  \n",
              "4            Energia    109     Mais de 100  \n",
              "5     Petróleo e Gás     10     Menos de 50  \n",
              "6     Petróleo e Gás     69  Entre 50 e 100  \n",
              "7          Mineração     80  Entre 50 e 100  \n",
              "8    Shopping Center     47     Menos de 50  \n",
              "9              Banco     13     Menos de 50  \n",
              "10             Saúde     51  Entre 50 e 100  \n",
              "11      Petroquímica     12     Menos de 50  \n",
              "12           Aviação     14     Menos de 50  \n",
              "13    Petróleo e Gás      5     Menos de 50  \n",
              "14           Energia     23     Menos de 50  \n",
              "15        Siderurgia     78  Entre 50 e 100  \n",
              "16          Educação     53  Entre 50 e 100  \n",
              "17           Energia     86  Entre 50 e 100  \n",
              "18  Construção Civil     41     Menos de 50  \n",
              "19              Moda     49     Menos de 50  \n",
              "20             Banco     78  Entre 50 e 100  \n",
              "21         Alimentos     28     Menos de 50  \n",
              "22            Varejo     61  Entre 50 e 100  \n",
              "23         Alimentos      9     Menos de 50  \n",
              "24  Telecomunicações     21     Menos de 50  \n",
              "25         Logística      7     Menos de 50  \n",
              "26        Pagamentos     12     Menos de 50  \n",
              "27           Energia     33     Menos de 50  \n",
              "28  Telecomunicações     28     Menos de 50  \n",
              "29     Investimentos     31     Menos de 50  \n",
              "30        Tecnologia     24     Menos de 50  \n",
              "31    Petróleo e Gás      6     Menos de 50  \n",
              "32     Investimentos     55  Entre 50 e 100  \n",
              "33             Banco    213     Mais de 100  \n",
              "34            Varejo    116     Mais de 100  \n",
              "35        Siderurgia    120     Mais de 100  \n",
              "36           Energia     19     Menos de 50  \n",
              "37         Alimentos     68  Entre 50 e 100  \n",
              "38            Varejo     64  Entre 50 e 100  \n",
              "39             Banco     78  Entre 50 e 100  \n",
              "40        Siderurgia    120     Mais de 100  \n",
              "41           Energia     11     Menos de 50  \n",
              "42           Energia     65  Entre 50 e 100  \n",
              "43         Logística     22     Menos de 50  "
            ]
          },
          "execution_count": 23,
          "metadata": {},
          "output_type": "execute_result"
        }
      ],
      "source": [
        "df_principal_subiu = df_principal[df_principal['Resultado'] == 'Subiu']\n",
        "df_principal_subiu"
      ]
    },
    {
      "cell_type": "code",
      "execution_count": 24,
      "metadata": {},
      "outputs": [
        {
          "data": {
            "text/html": [
              "<div>\n",
              "<style scoped>\n",
              "    .dataframe tbody tr th:only-of-type {\n",
              "        vertical-align: middle;\n",
              "    }\n",
              "\n",
              "    .dataframe tbody tr th {\n",
              "        vertical-align: top;\n",
              "    }\n",
              "\n",
              "    .dataframe thead th {\n",
              "        text-align: right;\n",
              "    }\n",
              "</style>\n",
              "<table border=\"1\" class=\"dataframe\">\n",
              "  <thead>\n",
              "    <tr style=\"text-align: right;\">\n",
              "      <th></th>\n",
              "      <th>Segmento</th>\n",
              "      <th>Variacao_rs</th>\n",
              "    </tr>\n",
              "  </thead>\n",
              "  <tbody>\n",
              "    <tr>\n",
              "      <th>0</th>\n",
              "      <td>Alimentos</td>\n",
              "      <td>407833683.09</td>\n",
              "    </tr>\n",
              "    <tr>\n",
              "      <th>1</th>\n",
              "      <td>Aviação</td>\n",
              "      <td>65452205.55</td>\n",
              "    </tr>\n",
              "    <tr>\n",
              "      <th>2</th>\n",
              "      <td>Banco</td>\n",
              "      <td>3740512018.78</td>\n",
              "    </tr>\n",
              "    <tr>\n",
              "      <th>3</th>\n",
              "      <td>Construção Civil</td>\n",
              "      <td>37525872.38</td>\n",
              "    </tr>\n",
              "    <tr>\n",
              "      <th>4</th>\n",
              "      <td>Educação</td>\n",
              "      <td>72295838.99</td>\n",
              "    </tr>\n",
              "    <tr>\n",
              "      <th>5</th>\n",
              "      <td>Energia</td>\n",
              "      <td>1227890070.18</td>\n",
              "    </tr>\n",
              "    <tr>\n",
              "      <th>6</th>\n",
              "      <td>Investimentos</td>\n",
              "      <td>416092244.42</td>\n",
              "    </tr>\n",
              "    <tr>\n",
              "      <th>7</th>\n",
              "      <td>Logística</td>\n",
              "      <td>233902674.79</td>\n",
              "    </tr>\n",
              "    <tr>\n",
              "      <th>8</th>\n",
              "      <td>Mineração</td>\n",
              "      <td>4940442965.55</td>\n",
              "    </tr>\n",
              "    <tr>\n",
              "      <th>9</th>\n",
              "      <td>Moda</td>\n",
              "      <td>41021792.09</td>\n",
              "    </tr>\n",
              "    <tr>\n",
              "      <th>10</th>\n",
              "      <td>Pagamentos</td>\n",
              "      <td>43657683.38</td>\n",
              "    </tr>\n",
              "    <tr>\n",
              "      <th>11</th>\n",
              "      <td>Papel e Celulose</td>\n",
              "      <td>722946282.71</td>\n",
              "    </tr>\n",
              "    <tr>\n",
              "      <th>12</th>\n",
              "      <td>Petroquímica</td>\n",
              "      <td>69054317.64</td>\n",
              "    </tr>\n",
              "    <tr>\n",
              "      <th>13</th>\n",
              "      <td>Petróleo e Gás</td>\n",
              "      <td>6093288832.26</td>\n",
              "    </tr>\n",
              "    <tr>\n",
              "      <th>14</th>\n",
              "      <td>Saúde</td>\n",
              "      <td>453917907.01</td>\n",
              "    </tr>\n",
              "    <tr>\n",
              "      <th>15</th>\n",
              "      <td>Shopping Center</td>\n",
              "      <td>117732680.08</td>\n",
              "    </tr>\n",
              "    <tr>\n",
              "      <th>16</th>\n",
              "      <td>Siderurgia</td>\n",
              "      <td>489935930.93</td>\n",
              "    </tr>\n",
              "    <tr>\n",
              "      <th>17</th>\n",
              "      <td>Tecnologia</td>\n",
              "      <td>15598886.65</td>\n",
              "    </tr>\n",
              "    <tr>\n",
              "      <th>18</th>\n",
              "      <td>Telecomunicações</td>\n",
              "      <td>292938114.42</td>\n",
              "    </tr>\n",
              "    <tr>\n",
              "      <th>19</th>\n",
              "      <td>Varejo</td>\n",
              "      <td>237187009.24</td>\n",
              "    </tr>\n",
              "  </tbody>\n",
              "</table>\n",
              "</div>"
            ],
            "text/plain": [
              "            Segmento   Variacao_rs\n",
              "0          Alimentos  407833683.09\n",
              "1            Aviação   65452205.55\n",
              "2              Banco 3740512018.78\n",
              "3   Construção Civil   37525872.38\n",
              "4           Educação   72295838.99\n",
              "5            Energia 1227890070.18\n",
              "6      Investimentos  416092244.42\n",
              "7          Logística  233902674.79\n",
              "8          Mineração 4940442965.55\n",
              "9               Moda   41021792.09\n",
              "10        Pagamentos   43657683.38\n",
              "11  Papel e Celulose  722946282.71\n",
              "12      Petroquímica   69054317.64\n",
              "13    Petróleo e Gás 6093288832.26\n",
              "14             Saúde  453917907.01\n",
              "15   Shopping Center  117732680.08\n",
              "16        Siderurgia  489935930.93\n",
              "17        Tecnologia   15598886.65\n",
              "18  Telecomunicações  292938114.42\n",
              "19            Varejo  237187009.24"
            ]
          },
          "execution_count": 24,
          "metadata": {},
          "output_type": "execute_result"
        }
      ],
      "source": [
        "df_analise_segmento = df_principal_subiu.groupby('Segmento')['Variacao_rs'].sum().reset_index()\n",
        "df_analise_segmento"
      ]
    },
    {
      "cell_type": "code",
      "execution_count": 25,
      "metadata": {},
      "outputs": [
        {
          "data": {
            "text/html": [
              "<div>\n",
              "<style scoped>\n",
              "    .dataframe tbody tr th:only-of-type {\n",
              "        vertical-align: middle;\n",
              "    }\n",
              "\n",
              "    .dataframe tbody tr th {\n",
              "        vertical-align: top;\n",
              "    }\n",
              "\n",
              "    .dataframe thead th {\n",
              "        text-align: right;\n",
              "    }\n",
              "</style>\n",
              "<table border=\"1\" class=\"dataframe\">\n",
              "  <thead>\n",
              "    <tr style=\"text-align: right;\">\n",
              "      <th></th>\n",
              "      <th>Resultado</th>\n",
              "      <th>Variacao_rs</th>\n",
              "    </tr>\n",
              "  </thead>\n",
              "  <tbody>\n",
              "    <tr>\n",
              "      <th>0</th>\n",
              "      <td>Desceu</td>\n",
              "      <td>-6338819961.32</td>\n",
              "    </tr>\n",
              "    <tr>\n",
              "      <th>1</th>\n",
              "      <td>Estável</td>\n",
              "      <td>0.00</td>\n",
              "    </tr>\n",
              "    <tr>\n",
              "      <th>2</th>\n",
              "      <td>Subiu</td>\n",
              "      <td>19719227010.14</td>\n",
              "    </tr>\n",
              "  </tbody>\n",
              "</table>\n",
              "</div>"
            ],
            "text/plain": [
              "  Resultado    Variacao_rs\n",
              "0    Desceu -6338819961.32\n",
              "1   Estável           0.00\n",
              "2     Subiu 19719227010.14"
            ]
          },
          "execution_count": 25,
          "metadata": {},
          "output_type": "execute_result"
        }
      ],
      "source": [
        "df_analise_saldo = df_principal.groupby('Resultado')['Variacao_rs'].sum().reset_index()\n",
        "df_analise_saldo"
      ]
    },
    {
      "cell_type": "code",
      "execution_count": 36,
      "metadata": {},
      "outputs": [
        {
          "data": {
            "application/vnd.plotly.v1+json": {
              "config": {
                "plotlyServerURL": "https://plot.ly"
              },
              "data": [
                {
                  "alignmentgroup": "True",
                  "hovertemplate": "Resultado=%{x}<br>Variacao_rs=%{text}<extra></extra>",
                  "legendgroup": "",
                  "marker": {
                    "color": "#636efa",
                    "pattern": {
                      "shape": ""
                    }
                  },
                  "name": "",
                  "offsetgroup": "",
                  "orientation": "v",
                  "showlegend": false,
                  "text": [
                    -6338819961.31535,
                    0,
                    19719227010.14191
                  ],
                  "textposition": "outside",
                  "texttemplate": "%{text:.2f}",
                  "type": "bar",
                  "x": [
                    "Desceu",
                    "Estável",
                    "Subiu"
                  ],
                  "xaxis": "x",
                  "y": [
                    -6338819961.31535,
                    0,
                    19719227010.14191
                  ],
                  "yaxis": "y"
                }
              ],
              "layout": {
                "barmode": "relative",
                "legend": {
                  "tracegroupgap": 0
                },
                "template": {
                  "data": {
                    "bar": [
                      {
                        "error_x": {
                          "color": "#2a3f5f"
                        },
                        "error_y": {
                          "color": "#2a3f5f"
                        },
                        "marker": {
                          "line": {
                            "color": "#E5ECF6",
                            "width": 0.5
                          },
                          "pattern": {
                            "fillmode": "overlay",
                            "size": 10,
                            "solidity": 0.2
                          }
                        },
                        "type": "bar"
                      }
                    ],
                    "barpolar": [
                      {
                        "marker": {
                          "line": {
                            "color": "#E5ECF6",
                            "width": 0.5
                          },
                          "pattern": {
                            "fillmode": "overlay",
                            "size": 10,
                            "solidity": 0.2
                          }
                        },
                        "type": "barpolar"
                      }
                    ],
                    "carpet": [
                      {
                        "aaxis": {
                          "endlinecolor": "#2a3f5f",
                          "gridcolor": "white",
                          "linecolor": "white",
                          "minorgridcolor": "white",
                          "startlinecolor": "#2a3f5f"
                        },
                        "baxis": {
                          "endlinecolor": "#2a3f5f",
                          "gridcolor": "white",
                          "linecolor": "white",
                          "minorgridcolor": "white",
                          "startlinecolor": "#2a3f5f"
                        },
                        "type": "carpet"
                      }
                    ],
                    "choropleth": [
                      {
                        "colorbar": {
                          "outlinewidth": 0,
                          "ticks": ""
                        },
                        "type": "choropleth"
                      }
                    ],
                    "contour": [
                      {
                        "colorbar": {
                          "outlinewidth": 0,
                          "ticks": ""
                        },
                        "colorscale": [
                          [
                            0,
                            "#0d0887"
                          ],
                          [
                            0.1111111111111111,
                            "#46039f"
                          ],
                          [
                            0.2222222222222222,
                            "#7201a8"
                          ],
                          [
                            0.3333333333333333,
                            "#9c179e"
                          ],
                          [
                            0.4444444444444444,
                            "#bd3786"
                          ],
                          [
                            0.5555555555555556,
                            "#d8576b"
                          ],
                          [
                            0.6666666666666666,
                            "#ed7953"
                          ],
                          [
                            0.7777777777777778,
                            "#fb9f3a"
                          ],
                          [
                            0.8888888888888888,
                            "#fdca26"
                          ],
                          [
                            1,
                            "#f0f921"
                          ]
                        ],
                        "type": "contour"
                      }
                    ],
                    "contourcarpet": [
                      {
                        "colorbar": {
                          "outlinewidth": 0,
                          "ticks": ""
                        },
                        "type": "contourcarpet"
                      }
                    ],
                    "heatmap": [
                      {
                        "colorbar": {
                          "outlinewidth": 0,
                          "ticks": ""
                        },
                        "colorscale": [
                          [
                            0,
                            "#0d0887"
                          ],
                          [
                            0.1111111111111111,
                            "#46039f"
                          ],
                          [
                            0.2222222222222222,
                            "#7201a8"
                          ],
                          [
                            0.3333333333333333,
                            "#9c179e"
                          ],
                          [
                            0.4444444444444444,
                            "#bd3786"
                          ],
                          [
                            0.5555555555555556,
                            "#d8576b"
                          ],
                          [
                            0.6666666666666666,
                            "#ed7953"
                          ],
                          [
                            0.7777777777777778,
                            "#fb9f3a"
                          ],
                          [
                            0.8888888888888888,
                            "#fdca26"
                          ],
                          [
                            1,
                            "#f0f921"
                          ]
                        ],
                        "type": "heatmap"
                      }
                    ],
                    "heatmapgl": [
                      {
                        "colorbar": {
                          "outlinewidth": 0,
                          "ticks": ""
                        },
                        "colorscale": [
                          [
                            0,
                            "#0d0887"
                          ],
                          [
                            0.1111111111111111,
                            "#46039f"
                          ],
                          [
                            0.2222222222222222,
                            "#7201a8"
                          ],
                          [
                            0.3333333333333333,
                            "#9c179e"
                          ],
                          [
                            0.4444444444444444,
                            "#bd3786"
                          ],
                          [
                            0.5555555555555556,
                            "#d8576b"
                          ],
                          [
                            0.6666666666666666,
                            "#ed7953"
                          ],
                          [
                            0.7777777777777778,
                            "#fb9f3a"
                          ],
                          [
                            0.8888888888888888,
                            "#fdca26"
                          ],
                          [
                            1,
                            "#f0f921"
                          ]
                        ],
                        "type": "heatmapgl"
                      }
                    ],
                    "histogram": [
                      {
                        "marker": {
                          "pattern": {
                            "fillmode": "overlay",
                            "size": 10,
                            "solidity": 0.2
                          }
                        },
                        "type": "histogram"
                      }
                    ],
                    "histogram2d": [
                      {
                        "colorbar": {
                          "outlinewidth": 0,
                          "ticks": ""
                        },
                        "colorscale": [
                          [
                            0,
                            "#0d0887"
                          ],
                          [
                            0.1111111111111111,
                            "#46039f"
                          ],
                          [
                            0.2222222222222222,
                            "#7201a8"
                          ],
                          [
                            0.3333333333333333,
                            "#9c179e"
                          ],
                          [
                            0.4444444444444444,
                            "#bd3786"
                          ],
                          [
                            0.5555555555555556,
                            "#d8576b"
                          ],
                          [
                            0.6666666666666666,
                            "#ed7953"
                          ],
                          [
                            0.7777777777777778,
                            "#fb9f3a"
                          ],
                          [
                            0.8888888888888888,
                            "#fdca26"
                          ],
                          [
                            1,
                            "#f0f921"
                          ]
                        ],
                        "type": "histogram2d"
                      }
                    ],
                    "histogram2dcontour": [
                      {
                        "colorbar": {
                          "outlinewidth": 0,
                          "ticks": ""
                        },
                        "colorscale": [
                          [
                            0,
                            "#0d0887"
                          ],
                          [
                            0.1111111111111111,
                            "#46039f"
                          ],
                          [
                            0.2222222222222222,
                            "#7201a8"
                          ],
                          [
                            0.3333333333333333,
                            "#9c179e"
                          ],
                          [
                            0.4444444444444444,
                            "#bd3786"
                          ],
                          [
                            0.5555555555555556,
                            "#d8576b"
                          ],
                          [
                            0.6666666666666666,
                            "#ed7953"
                          ],
                          [
                            0.7777777777777778,
                            "#fb9f3a"
                          ],
                          [
                            0.8888888888888888,
                            "#fdca26"
                          ],
                          [
                            1,
                            "#f0f921"
                          ]
                        ],
                        "type": "histogram2dcontour"
                      }
                    ],
                    "mesh3d": [
                      {
                        "colorbar": {
                          "outlinewidth": 0,
                          "ticks": ""
                        },
                        "type": "mesh3d"
                      }
                    ],
                    "parcoords": [
                      {
                        "line": {
                          "colorbar": {
                            "outlinewidth": 0,
                            "ticks": ""
                          }
                        },
                        "type": "parcoords"
                      }
                    ],
                    "pie": [
                      {
                        "automargin": true,
                        "type": "pie"
                      }
                    ],
                    "scatter": [
                      {
                        "fillpattern": {
                          "fillmode": "overlay",
                          "size": 10,
                          "solidity": 0.2
                        },
                        "type": "scatter"
                      }
                    ],
                    "scatter3d": [
                      {
                        "line": {
                          "colorbar": {
                            "outlinewidth": 0,
                            "ticks": ""
                          }
                        },
                        "marker": {
                          "colorbar": {
                            "outlinewidth": 0,
                            "ticks": ""
                          }
                        },
                        "type": "scatter3d"
                      }
                    ],
                    "scattercarpet": [
                      {
                        "marker": {
                          "colorbar": {
                            "outlinewidth": 0,
                            "ticks": ""
                          }
                        },
                        "type": "scattercarpet"
                      }
                    ],
                    "scattergeo": [
                      {
                        "marker": {
                          "colorbar": {
                            "outlinewidth": 0,
                            "ticks": ""
                          }
                        },
                        "type": "scattergeo"
                      }
                    ],
                    "scattergl": [
                      {
                        "marker": {
                          "colorbar": {
                            "outlinewidth": 0,
                            "ticks": ""
                          }
                        },
                        "type": "scattergl"
                      }
                    ],
                    "scattermapbox": [
                      {
                        "marker": {
                          "colorbar": {
                            "outlinewidth": 0,
                            "ticks": ""
                          }
                        },
                        "type": "scattermapbox"
                      }
                    ],
                    "scatterpolar": [
                      {
                        "marker": {
                          "colorbar": {
                            "outlinewidth": 0,
                            "ticks": ""
                          }
                        },
                        "type": "scatterpolar"
                      }
                    ],
                    "scatterpolargl": [
                      {
                        "marker": {
                          "colorbar": {
                            "outlinewidth": 0,
                            "ticks": ""
                          }
                        },
                        "type": "scatterpolargl"
                      }
                    ],
                    "scatterternary": [
                      {
                        "marker": {
                          "colorbar": {
                            "outlinewidth": 0,
                            "ticks": ""
                          }
                        },
                        "type": "scatterternary"
                      }
                    ],
                    "surface": [
                      {
                        "colorbar": {
                          "outlinewidth": 0,
                          "ticks": ""
                        },
                        "colorscale": [
                          [
                            0,
                            "#0d0887"
                          ],
                          [
                            0.1111111111111111,
                            "#46039f"
                          ],
                          [
                            0.2222222222222222,
                            "#7201a8"
                          ],
                          [
                            0.3333333333333333,
                            "#9c179e"
                          ],
                          [
                            0.4444444444444444,
                            "#bd3786"
                          ],
                          [
                            0.5555555555555556,
                            "#d8576b"
                          ],
                          [
                            0.6666666666666666,
                            "#ed7953"
                          ],
                          [
                            0.7777777777777778,
                            "#fb9f3a"
                          ],
                          [
                            0.8888888888888888,
                            "#fdca26"
                          ],
                          [
                            1,
                            "#f0f921"
                          ]
                        ],
                        "type": "surface"
                      }
                    ],
                    "table": [
                      {
                        "cells": {
                          "fill": {
                            "color": "#EBF0F8"
                          },
                          "line": {
                            "color": "white"
                          }
                        },
                        "header": {
                          "fill": {
                            "color": "#C8D4E3"
                          },
                          "line": {
                            "color": "white"
                          }
                        },
                        "type": "table"
                      }
                    ]
                  },
                  "layout": {
                    "annotationdefaults": {
                      "arrowcolor": "#2a3f5f",
                      "arrowhead": 0,
                      "arrowwidth": 1
                    },
                    "autotypenumbers": "strict",
                    "coloraxis": {
                      "colorbar": {
                        "outlinewidth": 0,
                        "ticks": ""
                      }
                    },
                    "colorscale": {
                      "diverging": [
                        [
                          0,
                          "#8e0152"
                        ],
                        [
                          0.1,
                          "#c51b7d"
                        ],
                        [
                          0.2,
                          "#de77ae"
                        ],
                        [
                          0.3,
                          "#f1b6da"
                        ],
                        [
                          0.4,
                          "#fde0ef"
                        ],
                        [
                          0.5,
                          "#f7f7f7"
                        ],
                        [
                          0.6,
                          "#e6f5d0"
                        ],
                        [
                          0.7,
                          "#b8e186"
                        ],
                        [
                          0.8,
                          "#7fbc41"
                        ],
                        [
                          0.9,
                          "#4d9221"
                        ],
                        [
                          1,
                          "#276419"
                        ]
                      ],
                      "sequential": [
                        [
                          0,
                          "#0d0887"
                        ],
                        [
                          0.1111111111111111,
                          "#46039f"
                        ],
                        [
                          0.2222222222222222,
                          "#7201a8"
                        ],
                        [
                          0.3333333333333333,
                          "#9c179e"
                        ],
                        [
                          0.4444444444444444,
                          "#bd3786"
                        ],
                        [
                          0.5555555555555556,
                          "#d8576b"
                        ],
                        [
                          0.6666666666666666,
                          "#ed7953"
                        ],
                        [
                          0.7777777777777778,
                          "#fb9f3a"
                        ],
                        [
                          0.8888888888888888,
                          "#fdca26"
                        ],
                        [
                          1,
                          "#f0f921"
                        ]
                      ],
                      "sequentialminus": [
                        [
                          0,
                          "#0d0887"
                        ],
                        [
                          0.1111111111111111,
                          "#46039f"
                        ],
                        [
                          0.2222222222222222,
                          "#7201a8"
                        ],
                        [
                          0.3333333333333333,
                          "#9c179e"
                        ],
                        [
                          0.4444444444444444,
                          "#bd3786"
                        ],
                        [
                          0.5555555555555556,
                          "#d8576b"
                        ],
                        [
                          0.6666666666666666,
                          "#ed7953"
                        ],
                        [
                          0.7777777777777778,
                          "#fb9f3a"
                        ],
                        [
                          0.8888888888888888,
                          "#fdca26"
                        ],
                        [
                          1,
                          "#f0f921"
                        ]
                      ]
                    },
                    "colorway": [
                      "#636efa",
                      "#EF553B",
                      "#00cc96",
                      "#ab63fa",
                      "#FFA15A",
                      "#19d3f3",
                      "#FF6692",
                      "#B6E880",
                      "#FF97FF",
                      "#FECB52"
                    ],
                    "font": {
                      "color": "#2a3f5f"
                    },
                    "geo": {
                      "bgcolor": "white",
                      "lakecolor": "white",
                      "landcolor": "#E5ECF6",
                      "showlakes": true,
                      "showland": true,
                      "subunitcolor": "white"
                    },
                    "hoverlabel": {
                      "align": "left"
                    },
                    "hovermode": "closest",
                    "mapbox": {
                      "style": "light"
                    },
                    "paper_bgcolor": "white",
                    "plot_bgcolor": "#E5ECF6",
                    "polar": {
                      "angularaxis": {
                        "gridcolor": "white",
                        "linecolor": "white",
                        "ticks": ""
                      },
                      "bgcolor": "#E5ECF6",
                      "radialaxis": {
                        "gridcolor": "white",
                        "linecolor": "white",
                        "ticks": ""
                      }
                    },
                    "scene": {
                      "xaxis": {
                        "backgroundcolor": "#E5ECF6",
                        "gridcolor": "white",
                        "gridwidth": 2,
                        "linecolor": "white",
                        "showbackground": true,
                        "ticks": "",
                        "zerolinecolor": "white"
                      },
                      "yaxis": {
                        "backgroundcolor": "#E5ECF6",
                        "gridcolor": "white",
                        "gridwidth": 2,
                        "linecolor": "white",
                        "showbackground": true,
                        "ticks": "",
                        "zerolinecolor": "white"
                      },
                      "zaxis": {
                        "backgroundcolor": "#E5ECF6",
                        "gridcolor": "white",
                        "gridwidth": 2,
                        "linecolor": "white",
                        "showbackground": true,
                        "ticks": "",
                        "zerolinecolor": "white"
                      }
                    },
                    "shapedefaults": {
                      "line": {
                        "color": "#2a3f5f"
                      }
                    },
                    "ternary": {
                      "aaxis": {
                        "gridcolor": "white",
                        "linecolor": "white",
                        "ticks": ""
                      },
                      "baxis": {
                        "gridcolor": "white",
                        "linecolor": "white",
                        "ticks": ""
                      },
                      "bgcolor": "#E5ECF6",
                      "caxis": {
                        "gridcolor": "white",
                        "linecolor": "white",
                        "ticks": ""
                      }
                    },
                    "title": {
                      "x": 0.05
                    },
                    "xaxis": {
                      "automargin": true,
                      "gridcolor": "white",
                      "linecolor": "white",
                      "ticks": "",
                      "title": {
                        "standoff": 15
                      },
                      "zerolinecolor": "white",
                      "zerolinewidth": 2
                    },
                    "yaxis": {
                      "automargin": true,
                      "gridcolor": "white",
                      "linecolor": "white",
                      "ticks": "",
                      "title": {
                        "standoff": 15
                      },
                      "zerolinecolor": "white",
                      "zerolinewidth": 2
                    }
                  }
                },
                "title": {
                  "text": "Variação Reais por Resultado"
                },
                "xaxis": {
                  "anchor": "y",
                  "domain": [
                    0,
                    1
                  ],
                  "title": {
                    "text": "Resultado"
                  }
                },
                "yaxis": {
                  "anchor": "x",
                  "domain": [
                    0,
                    1
                  ],
                  "title": {
                    "text": "Variacao_rs"
                  }
                }
              }
            },
            "text/html": [
              "<div>                            <div id=\"45a5a4c0-c6c0-4ae2-9c05-761fb4f67d77\" class=\"plotly-graph-div\" style=\"height:525px; width:100%;\"></div>            <script type=\"text/javascript\">                require([\"plotly\"], function(Plotly) {                    window.PLOTLYENV=window.PLOTLYENV || {};                                    if (document.getElementById(\"45a5a4c0-c6c0-4ae2-9c05-761fb4f67d77\")) {                    Plotly.newPlot(                        \"45a5a4c0-c6c0-4ae2-9c05-761fb4f67d77\",                        [{\"alignmentgroup\":\"True\",\"hovertemplate\":\"Resultado=%{x}\\u003cbr\\u003eVariacao_rs=%{text}\\u003cextra\\u003e\\u003c\\u002fextra\\u003e\",\"legendgroup\":\"\",\"marker\":{\"color\":\"#636efa\",\"pattern\":{\"shape\":\"\"}},\"name\":\"\",\"offsetgroup\":\"\",\"orientation\":\"v\",\"showlegend\":false,\"text\":[-6338819961.31535,0.0,19719227010.14191],\"textposition\":\"outside\",\"x\":[\"Desceu\",\"Est\\u00e1vel\",\"Subiu\"],\"xaxis\":\"x\",\"y\":[-6338819961.31535,0.0,19719227010.14191],\"yaxis\":\"y\",\"type\":\"bar\",\"texttemplate\":\"%{text:.2f}\"}],                        {\"template\":{\"data\":{\"histogram2dcontour\":[{\"type\":\"histogram2dcontour\",\"colorbar\":{\"outlinewidth\":0,\"ticks\":\"\"},\"colorscale\":[[0.0,\"#0d0887\"],[0.1111111111111111,\"#46039f\"],[0.2222222222222222,\"#7201a8\"],[0.3333333333333333,\"#9c179e\"],[0.4444444444444444,\"#bd3786\"],[0.5555555555555556,\"#d8576b\"],[0.6666666666666666,\"#ed7953\"],[0.7777777777777778,\"#fb9f3a\"],[0.8888888888888888,\"#fdca26\"],[1.0,\"#f0f921\"]]}],\"choropleth\":[{\"type\":\"choropleth\",\"colorbar\":{\"outlinewidth\":0,\"ticks\":\"\"}}],\"histogram2d\":[{\"type\":\"histogram2d\",\"colorbar\":{\"outlinewidth\":0,\"ticks\":\"\"},\"colorscale\":[[0.0,\"#0d0887\"],[0.1111111111111111,\"#46039f\"],[0.2222222222222222,\"#7201a8\"],[0.3333333333333333,\"#9c179e\"],[0.4444444444444444,\"#bd3786\"],[0.5555555555555556,\"#d8576b\"],[0.6666666666666666,\"#ed7953\"],[0.7777777777777778,\"#fb9f3a\"],[0.8888888888888888,\"#fdca26\"],[1.0,\"#f0f921\"]]}],\"heatmap\":[{\"type\":\"heatmap\",\"colorbar\":{\"outlinewidth\":0,\"ticks\":\"\"},\"colorscale\":[[0.0,\"#0d0887\"],[0.1111111111111111,\"#46039f\"],[0.2222222222222222,\"#7201a8\"],[0.3333333333333333,\"#9c179e\"],[0.4444444444444444,\"#bd3786\"],[0.5555555555555556,\"#d8576b\"],[0.6666666666666666,\"#ed7953\"],[0.7777777777777778,\"#fb9f3a\"],[0.8888888888888888,\"#fdca26\"],[1.0,\"#f0f921\"]]}],\"heatmapgl\":[{\"type\":\"heatmapgl\",\"colorbar\":{\"outlinewidth\":0,\"ticks\":\"\"},\"colorscale\":[[0.0,\"#0d0887\"],[0.1111111111111111,\"#46039f\"],[0.2222222222222222,\"#7201a8\"],[0.3333333333333333,\"#9c179e\"],[0.4444444444444444,\"#bd3786\"],[0.5555555555555556,\"#d8576b\"],[0.6666666666666666,\"#ed7953\"],[0.7777777777777778,\"#fb9f3a\"],[0.8888888888888888,\"#fdca26\"],[1.0,\"#f0f921\"]]}],\"contourcarpet\":[{\"type\":\"contourcarpet\",\"colorbar\":{\"outlinewidth\":0,\"ticks\":\"\"}}],\"contour\":[{\"type\":\"contour\",\"colorbar\":{\"outlinewidth\":0,\"ticks\":\"\"},\"colorscale\":[[0.0,\"#0d0887\"],[0.1111111111111111,\"#46039f\"],[0.2222222222222222,\"#7201a8\"],[0.3333333333333333,\"#9c179e\"],[0.4444444444444444,\"#bd3786\"],[0.5555555555555556,\"#d8576b\"],[0.6666666666666666,\"#ed7953\"],[0.7777777777777778,\"#fb9f3a\"],[0.8888888888888888,\"#fdca26\"],[1.0,\"#f0f921\"]]}],\"surface\":[{\"type\":\"surface\",\"colorbar\":{\"outlinewidth\":0,\"ticks\":\"\"},\"colorscale\":[[0.0,\"#0d0887\"],[0.1111111111111111,\"#46039f\"],[0.2222222222222222,\"#7201a8\"],[0.3333333333333333,\"#9c179e\"],[0.4444444444444444,\"#bd3786\"],[0.5555555555555556,\"#d8576b\"],[0.6666666666666666,\"#ed7953\"],[0.7777777777777778,\"#fb9f3a\"],[0.8888888888888888,\"#fdca26\"],[1.0,\"#f0f921\"]]}],\"mesh3d\":[{\"type\":\"mesh3d\",\"colorbar\":{\"outlinewidth\":0,\"ticks\":\"\"}}],\"scatter\":[{\"fillpattern\":{\"fillmode\":\"overlay\",\"size\":10,\"solidity\":0.2},\"type\":\"scatter\"}],\"parcoords\":[{\"type\":\"parcoords\",\"line\":{\"colorbar\":{\"outlinewidth\":0,\"ticks\":\"\"}}}],\"scatterpolargl\":[{\"type\":\"scatterpolargl\",\"marker\":{\"colorbar\":{\"outlinewidth\":0,\"ticks\":\"\"}}}],\"bar\":[{\"error_x\":{\"color\":\"#2a3f5f\"},\"error_y\":{\"color\":\"#2a3f5f\"},\"marker\":{\"line\":{\"color\":\"#E5ECF6\",\"width\":0.5},\"pattern\":{\"fillmode\":\"overlay\",\"size\":10,\"solidity\":0.2}},\"type\":\"bar\"}],\"scattergeo\":[{\"type\":\"scattergeo\",\"marker\":{\"colorbar\":{\"outlinewidth\":0,\"ticks\":\"\"}}}],\"scatterpolar\":[{\"type\":\"scatterpolar\",\"marker\":{\"colorbar\":{\"outlinewidth\":0,\"ticks\":\"\"}}}],\"histogram\":[{\"marker\":{\"pattern\":{\"fillmode\":\"overlay\",\"size\":10,\"solidity\":0.2}},\"type\":\"histogram\"}],\"scattergl\":[{\"type\":\"scattergl\",\"marker\":{\"colorbar\":{\"outlinewidth\":0,\"ticks\":\"\"}}}],\"scatter3d\":[{\"type\":\"scatter3d\",\"line\":{\"colorbar\":{\"outlinewidth\":0,\"ticks\":\"\"}},\"marker\":{\"colorbar\":{\"outlinewidth\":0,\"ticks\":\"\"}}}],\"scattermapbox\":[{\"type\":\"scattermapbox\",\"marker\":{\"colorbar\":{\"outlinewidth\":0,\"ticks\":\"\"}}}],\"scatterternary\":[{\"type\":\"scatterternary\",\"marker\":{\"colorbar\":{\"outlinewidth\":0,\"ticks\":\"\"}}}],\"scattercarpet\":[{\"type\":\"scattercarpet\",\"marker\":{\"colorbar\":{\"outlinewidth\":0,\"ticks\":\"\"}}}],\"carpet\":[{\"aaxis\":{\"endlinecolor\":\"#2a3f5f\",\"gridcolor\":\"white\",\"linecolor\":\"white\",\"minorgridcolor\":\"white\",\"startlinecolor\":\"#2a3f5f\"},\"baxis\":{\"endlinecolor\":\"#2a3f5f\",\"gridcolor\":\"white\",\"linecolor\":\"white\",\"minorgridcolor\":\"white\",\"startlinecolor\":\"#2a3f5f\"},\"type\":\"carpet\"}],\"table\":[{\"cells\":{\"fill\":{\"color\":\"#EBF0F8\"},\"line\":{\"color\":\"white\"}},\"header\":{\"fill\":{\"color\":\"#C8D4E3\"},\"line\":{\"color\":\"white\"}},\"type\":\"table\"}],\"barpolar\":[{\"marker\":{\"line\":{\"color\":\"#E5ECF6\",\"width\":0.5},\"pattern\":{\"fillmode\":\"overlay\",\"size\":10,\"solidity\":0.2}},\"type\":\"barpolar\"}],\"pie\":[{\"automargin\":true,\"type\":\"pie\"}]},\"layout\":{\"autotypenumbers\":\"strict\",\"colorway\":[\"#636efa\",\"#EF553B\",\"#00cc96\",\"#ab63fa\",\"#FFA15A\",\"#19d3f3\",\"#FF6692\",\"#B6E880\",\"#FF97FF\",\"#FECB52\"],\"font\":{\"color\":\"#2a3f5f\"},\"hovermode\":\"closest\",\"hoverlabel\":{\"align\":\"left\"},\"paper_bgcolor\":\"white\",\"plot_bgcolor\":\"#E5ECF6\",\"polar\":{\"bgcolor\":\"#E5ECF6\",\"angularaxis\":{\"gridcolor\":\"white\",\"linecolor\":\"white\",\"ticks\":\"\"},\"radialaxis\":{\"gridcolor\":\"white\",\"linecolor\":\"white\",\"ticks\":\"\"}},\"ternary\":{\"bgcolor\":\"#E5ECF6\",\"aaxis\":{\"gridcolor\":\"white\",\"linecolor\":\"white\",\"ticks\":\"\"},\"baxis\":{\"gridcolor\":\"white\",\"linecolor\":\"white\",\"ticks\":\"\"},\"caxis\":{\"gridcolor\":\"white\",\"linecolor\":\"white\",\"ticks\":\"\"}},\"coloraxis\":{\"colorbar\":{\"outlinewidth\":0,\"ticks\":\"\"}},\"colorscale\":{\"sequential\":[[0.0,\"#0d0887\"],[0.1111111111111111,\"#46039f\"],[0.2222222222222222,\"#7201a8\"],[0.3333333333333333,\"#9c179e\"],[0.4444444444444444,\"#bd3786\"],[0.5555555555555556,\"#d8576b\"],[0.6666666666666666,\"#ed7953\"],[0.7777777777777778,\"#fb9f3a\"],[0.8888888888888888,\"#fdca26\"],[1.0,\"#f0f921\"]],\"sequentialminus\":[[0.0,\"#0d0887\"],[0.1111111111111111,\"#46039f\"],[0.2222222222222222,\"#7201a8\"],[0.3333333333333333,\"#9c179e\"],[0.4444444444444444,\"#bd3786\"],[0.5555555555555556,\"#d8576b\"],[0.6666666666666666,\"#ed7953\"],[0.7777777777777778,\"#fb9f3a\"],[0.8888888888888888,\"#fdca26\"],[1.0,\"#f0f921\"]],\"diverging\":[[0,\"#8e0152\"],[0.1,\"#c51b7d\"],[0.2,\"#de77ae\"],[0.3,\"#f1b6da\"],[0.4,\"#fde0ef\"],[0.5,\"#f7f7f7\"],[0.6,\"#e6f5d0\"],[0.7,\"#b8e186\"],[0.8,\"#7fbc41\"],[0.9,\"#4d9221\"],[1,\"#276419\"]]},\"xaxis\":{\"gridcolor\":\"white\",\"linecolor\":\"white\",\"ticks\":\"\",\"title\":{\"standoff\":15},\"zerolinecolor\":\"white\",\"automargin\":true,\"zerolinewidth\":2},\"yaxis\":{\"gridcolor\":\"white\",\"linecolor\":\"white\",\"ticks\":\"\",\"title\":{\"standoff\":15},\"zerolinecolor\":\"white\",\"automargin\":true,\"zerolinewidth\":2},\"scene\":{\"xaxis\":{\"backgroundcolor\":\"#E5ECF6\",\"gridcolor\":\"white\",\"linecolor\":\"white\",\"showbackground\":true,\"ticks\":\"\",\"zerolinecolor\":\"white\",\"gridwidth\":2},\"yaxis\":{\"backgroundcolor\":\"#E5ECF6\",\"gridcolor\":\"white\",\"linecolor\":\"white\",\"showbackground\":true,\"ticks\":\"\",\"zerolinecolor\":\"white\",\"gridwidth\":2},\"zaxis\":{\"backgroundcolor\":\"#E5ECF6\",\"gridcolor\":\"white\",\"linecolor\":\"white\",\"showbackground\":true,\"ticks\":\"\",\"zerolinecolor\":\"white\",\"gridwidth\":2}},\"shapedefaults\":{\"line\":{\"color\":\"#2a3f5f\"}},\"annotationdefaults\":{\"arrowcolor\":\"#2a3f5f\",\"arrowhead\":0,\"arrowwidth\":1},\"geo\":{\"bgcolor\":\"white\",\"landcolor\":\"#E5ECF6\",\"subunitcolor\":\"white\",\"showland\":true,\"showlakes\":true,\"lakecolor\":\"white\"},\"title\":{\"x\":0.05},\"mapbox\":{\"style\":\"light\"}}},\"xaxis\":{\"anchor\":\"y\",\"domain\":[0.0,1.0],\"title\":{\"text\":\"Resultado\"}},\"yaxis\":{\"anchor\":\"x\",\"domain\":[0.0,1.0],\"title\":{\"text\":\"Variacao_rs\"}},\"legend\":{\"tracegroupgap\":0},\"title\":{\"text\":\"Varia\\u00e7\\u00e3o Reais por Resultado\"},\"barmode\":\"relative\"},                        {\"responsive\": true}                    ).then(function(){\n",
              "                            \n",
              "var gd = document.getElementById('45a5a4c0-c6c0-4ae2-9c05-761fb4f67d77');\n",
              "var x = new MutationObserver(function (mutations, observer) {{\n",
              "        var display = window.getComputedStyle(gd).display;\n",
              "        if (!display || display === 'none') {{\n",
              "            console.log([gd, 'removed!']);\n",
              "            Plotly.purge(gd);\n",
              "            observer.disconnect();\n",
              "        }}\n",
              "}});\n",
              "\n",
              "// Listen for the removal of the full notebook cells\n",
              "var notebookContainer = gd.closest('#notebook-container');\n",
              "if (notebookContainer) {{\n",
              "    x.observe(notebookContainer, {childList: true});\n",
              "}}\n",
              "\n",
              "// Listen for the clearing of the current output cell\n",
              "var outputEl = gd.closest('.output');\n",
              "if (outputEl) {{\n",
              "    x.observe(outputEl, {childList: true});\n",
              "}}\n",
              "\n",
              "                        })                };                });            </script>        </div>"
            ]
          },
          "metadata": {},
          "output_type": "display_data"
        }
      ],
      "source": [
        "fig = px.bar(df_analise_saldo, x = 'Resultado', y = 'Variacao_rs', text = 'Variacao_rs', title = 'Variação Reais por Resultado')\n",
        "fig.update_traces(texttemplate='%{text:.2f}', textposition='outside')\n",
        "fig.show()"
      ]
    },
    {
      "cell_type": "code",
      "execution_count": 31,
      "metadata": {},
      "outputs": [
        {
          "data": {
            "application/vnd.plotly.v1+json": {
              "config": {
                "plotlyServerURL": "https://plot.ly"
              },
              "data": [
                {
                  "domain": {
                    "x": [
                      0,
                      1
                    ],
                    "y": [
                      0,
                      1
                    ]
                  },
                  "hovertemplate": "Segmento=%{label}<br>Variacao_rs=%{value}<extra></extra>",
                  "labels": [
                    "Alimentos",
                    "Aviação",
                    "Banco",
                    "Construção Civil",
                    "Educação",
                    "Energia",
                    "Investimentos",
                    "Logística",
                    "Mineração",
                    "Moda",
                    "Pagamentos",
                    "Papel e Celulose",
                    "Petroquímica",
                    "Petróleo e Gás",
                    "Saúde",
                    "Shopping Center",
                    "Siderurgia",
                    "Tecnologia",
                    "Telecomunicações",
                    "Varejo"
                  ],
                  "legendgroup": "",
                  "name": "",
                  "showlegend": true,
                  "type": "pie",
                  "values": [
                    407833683.0924499,
                    65452205.552800186,
                    3740512018.7834516,
                    37525872.37728388,
                    72295838.98616095,
                    1227890070.1772797,
                    416092244.423763,
                    233902674.79257408,
                    4940442965.550434,
                    41021792.09077153,
                    43657683.37554085,
                    722946282.7090385,
                    69054317.63603853,
                    6093288832.2628355,
                    453917907.01324,
                    117732680.0784251,
                    489935930.9283229,
                    15598886.650556229,
                    292938114.42357796,
                    237187009.23736662
                  ]
                }
              ],
              "layout": {
                "legend": {
                  "tracegroupgap": 0
                },
                "template": {
                  "data": {
                    "bar": [
                      {
                        "error_x": {
                          "color": "#2a3f5f"
                        },
                        "error_y": {
                          "color": "#2a3f5f"
                        },
                        "marker": {
                          "line": {
                            "color": "#E5ECF6",
                            "width": 0.5
                          },
                          "pattern": {
                            "fillmode": "overlay",
                            "size": 10,
                            "solidity": 0.2
                          }
                        },
                        "type": "bar"
                      }
                    ],
                    "barpolar": [
                      {
                        "marker": {
                          "line": {
                            "color": "#E5ECF6",
                            "width": 0.5
                          },
                          "pattern": {
                            "fillmode": "overlay",
                            "size": 10,
                            "solidity": 0.2
                          }
                        },
                        "type": "barpolar"
                      }
                    ],
                    "carpet": [
                      {
                        "aaxis": {
                          "endlinecolor": "#2a3f5f",
                          "gridcolor": "white",
                          "linecolor": "white",
                          "minorgridcolor": "white",
                          "startlinecolor": "#2a3f5f"
                        },
                        "baxis": {
                          "endlinecolor": "#2a3f5f",
                          "gridcolor": "white",
                          "linecolor": "white",
                          "minorgridcolor": "white",
                          "startlinecolor": "#2a3f5f"
                        },
                        "type": "carpet"
                      }
                    ],
                    "choropleth": [
                      {
                        "colorbar": {
                          "outlinewidth": 0,
                          "ticks": ""
                        },
                        "type": "choropleth"
                      }
                    ],
                    "contour": [
                      {
                        "colorbar": {
                          "outlinewidth": 0,
                          "ticks": ""
                        },
                        "colorscale": [
                          [
                            0,
                            "#0d0887"
                          ],
                          [
                            0.1111111111111111,
                            "#46039f"
                          ],
                          [
                            0.2222222222222222,
                            "#7201a8"
                          ],
                          [
                            0.3333333333333333,
                            "#9c179e"
                          ],
                          [
                            0.4444444444444444,
                            "#bd3786"
                          ],
                          [
                            0.5555555555555556,
                            "#d8576b"
                          ],
                          [
                            0.6666666666666666,
                            "#ed7953"
                          ],
                          [
                            0.7777777777777778,
                            "#fb9f3a"
                          ],
                          [
                            0.8888888888888888,
                            "#fdca26"
                          ],
                          [
                            1,
                            "#f0f921"
                          ]
                        ],
                        "type": "contour"
                      }
                    ],
                    "contourcarpet": [
                      {
                        "colorbar": {
                          "outlinewidth": 0,
                          "ticks": ""
                        },
                        "type": "contourcarpet"
                      }
                    ],
                    "heatmap": [
                      {
                        "colorbar": {
                          "outlinewidth": 0,
                          "ticks": ""
                        },
                        "colorscale": [
                          [
                            0,
                            "#0d0887"
                          ],
                          [
                            0.1111111111111111,
                            "#46039f"
                          ],
                          [
                            0.2222222222222222,
                            "#7201a8"
                          ],
                          [
                            0.3333333333333333,
                            "#9c179e"
                          ],
                          [
                            0.4444444444444444,
                            "#bd3786"
                          ],
                          [
                            0.5555555555555556,
                            "#d8576b"
                          ],
                          [
                            0.6666666666666666,
                            "#ed7953"
                          ],
                          [
                            0.7777777777777778,
                            "#fb9f3a"
                          ],
                          [
                            0.8888888888888888,
                            "#fdca26"
                          ],
                          [
                            1,
                            "#f0f921"
                          ]
                        ],
                        "type": "heatmap"
                      }
                    ],
                    "heatmapgl": [
                      {
                        "colorbar": {
                          "outlinewidth": 0,
                          "ticks": ""
                        },
                        "colorscale": [
                          [
                            0,
                            "#0d0887"
                          ],
                          [
                            0.1111111111111111,
                            "#46039f"
                          ],
                          [
                            0.2222222222222222,
                            "#7201a8"
                          ],
                          [
                            0.3333333333333333,
                            "#9c179e"
                          ],
                          [
                            0.4444444444444444,
                            "#bd3786"
                          ],
                          [
                            0.5555555555555556,
                            "#d8576b"
                          ],
                          [
                            0.6666666666666666,
                            "#ed7953"
                          ],
                          [
                            0.7777777777777778,
                            "#fb9f3a"
                          ],
                          [
                            0.8888888888888888,
                            "#fdca26"
                          ],
                          [
                            1,
                            "#f0f921"
                          ]
                        ],
                        "type": "heatmapgl"
                      }
                    ],
                    "histogram": [
                      {
                        "marker": {
                          "pattern": {
                            "fillmode": "overlay",
                            "size": 10,
                            "solidity": 0.2
                          }
                        },
                        "type": "histogram"
                      }
                    ],
                    "histogram2d": [
                      {
                        "colorbar": {
                          "outlinewidth": 0,
                          "ticks": ""
                        },
                        "colorscale": [
                          [
                            0,
                            "#0d0887"
                          ],
                          [
                            0.1111111111111111,
                            "#46039f"
                          ],
                          [
                            0.2222222222222222,
                            "#7201a8"
                          ],
                          [
                            0.3333333333333333,
                            "#9c179e"
                          ],
                          [
                            0.4444444444444444,
                            "#bd3786"
                          ],
                          [
                            0.5555555555555556,
                            "#d8576b"
                          ],
                          [
                            0.6666666666666666,
                            "#ed7953"
                          ],
                          [
                            0.7777777777777778,
                            "#fb9f3a"
                          ],
                          [
                            0.8888888888888888,
                            "#fdca26"
                          ],
                          [
                            1,
                            "#f0f921"
                          ]
                        ],
                        "type": "histogram2d"
                      }
                    ],
                    "histogram2dcontour": [
                      {
                        "colorbar": {
                          "outlinewidth": 0,
                          "ticks": ""
                        },
                        "colorscale": [
                          [
                            0,
                            "#0d0887"
                          ],
                          [
                            0.1111111111111111,
                            "#46039f"
                          ],
                          [
                            0.2222222222222222,
                            "#7201a8"
                          ],
                          [
                            0.3333333333333333,
                            "#9c179e"
                          ],
                          [
                            0.4444444444444444,
                            "#bd3786"
                          ],
                          [
                            0.5555555555555556,
                            "#d8576b"
                          ],
                          [
                            0.6666666666666666,
                            "#ed7953"
                          ],
                          [
                            0.7777777777777778,
                            "#fb9f3a"
                          ],
                          [
                            0.8888888888888888,
                            "#fdca26"
                          ],
                          [
                            1,
                            "#f0f921"
                          ]
                        ],
                        "type": "histogram2dcontour"
                      }
                    ],
                    "mesh3d": [
                      {
                        "colorbar": {
                          "outlinewidth": 0,
                          "ticks": ""
                        },
                        "type": "mesh3d"
                      }
                    ],
                    "parcoords": [
                      {
                        "line": {
                          "colorbar": {
                            "outlinewidth": 0,
                            "ticks": ""
                          }
                        },
                        "type": "parcoords"
                      }
                    ],
                    "pie": [
                      {
                        "automargin": true,
                        "type": "pie"
                      }
                    ],
                    "scatter": [
                      {
                        "fillpattern": {
                          "fillmode": "overlay",
                          "size": 10,
                          "solidity": 0.2
                        },
                        "type": "scatter"
                      }
                    ],
                    "scatter3d": [
                      {
                        "line": {
                          "colorbar": {
                            "outlinewidth": 0,
                            "ticks": ""
                          }
                        },
                        "marker": {
                          "colorbar": {
                            "outlinewidth": 0,
                            "ticks": ""
                          }
                        },
                        "type": "scatter3d"
                      }
                    ],
                    "scattercarpet": [
                      {
                        "marker": {
                          "colorbar": {
                            "outlinewidth": 0,
                            "ticks": ""
                          }
                        },
                        "type": "scattercarpet"
                      }
                    ],
                    "scattergeo": [
                      {
                        "marker": {
                          "colorbar": {
                            "outlinewidth": 0,
                            "ticks": ""
                          }
                        },
                        "type": "scattergeo"
                      }
                    ],
                    "scattergl": [
                      {
                        "marker": {
                          "colorbar": {
                            "outlinewidth": 0,
                            "ticks": ""
                          }
                        },
                        "type": "scattergl"
                      }
                    ],
                    "scattermapbox": [
                      {
                        "marker": {
                          "colorbar": {
                            "outlinewidth": 0,
                            "ticks": ""
                          }
                        },
                        "type": "scattermapbox"
                      }
                    ],
                    "scatterpolar": [
                      {
                        "marker": {
                          "colorbar": {
                            "outlinewidth": 0,
                            "ticks": ""
                          }
                        },
                        "type": "scatterpolar"
                      }
                    ],
                    "scatterpolargl": [
                      {
                        "marker": {
                          "colorbar": {
                            "outlinewidth": 0,
                            "ticks": ""
                          }
                        },
                        "type": "scatterpolargl"
                      }
                    ],
                    "scatterternary": [
                      {
                        "marker": {
                          "colorbar": {
                            "outlinewidth": 0,
                            "ticks": ""
                          }
                        },
                        "type": "scatterternary"
                      }
                    ],
                    "surface": [
                      {
                        "colorbar": {
                          "outlinewidth": 0,
                          "ticks": ""
                        },
                        "colorscale": [
                          [
                            0,
                            "#0d0887"
                          ],
                          [
                            0.1111111111111111,
                            "#46039f"
                          ],
                          [
                            0.2222222222222222,
                            "#7201a8"
                          ],
                          [
                            0.3333333333333333,
                            "#9c179e"
                          ],
                          [
                            0.4444444444444444,
                            "#bd3786"
                          ],
                          [
                            0.5555555555555556,
                            "#d8576b"
                          ],
                          [
                            0.6666666666666666,
                            "#ed7953"
                          ],
                          [
                            0.7777777777777778,
                            "#fb9f3a"
                          ],
                          [
                            0.8888888888888888,
                            "#fdca26"
                          ],
                          [
                            1,
                            "#f0f921"
                          ]
                        ],
                        "type": "surface"
                      }
                    ],
                    "table": [
                      {
                        "cells": {
                          "fill": {
                            "color": "#EBF0F8"
                          },
                          "line": {
                            "color": "white"
                          }
                        },
                        "header": {
                          "fill": {
                            "color": "#C8D4E3"
                          },
                          "line": {
                            "color": "white"
                          }
                        },
                        "type": "table"
                      }
                    ]
                  },
                  "layout": {
                    "annotationdefaults": {
                      "arrowcolor": "#2a3f5f",
                      "arrowhead": 0,
                      "arrowwidth": 1
                    },
                    "autotypenumbers": "strict",
                    "coloraxis": {
                      "colorbar": {
                        "outlinewidth": 0,
                        "ticks": ""
                      }
                    },
                    "colorscale": {
                      "diverging": [
                        [
                          0,
                          "#8e0152"
                        ],
                        [
                          0.1,
                          "#c51b7d"
                        ],
                        [
                          0.2,
                          "#de77ae"
                        ],
                        [
                          0.3,
                          "#f1b6da"
                        ],
                        [
                          0.4,
                          "#fde0ef"
                        ],
                        [
                          0.5,
                          "#f7f7f7"
                        ],
                        [
                          0.6,
                          "#e6f5d0"
                        ],
                        [
                          0.7,
                          "#b8e186"
                        ],
                        [
                          0.8,
                          "#7fbc41"
                        ],
                        [
                          0.9,
                          "#4d9221"
                        ],
                        [
                          1,
                          "#276419"
                        ]
                      ],
                      "sequential": [
                        [
                          0,
                          "#0d0887"
                        ],
                        [
                          0.1111111111111111,
                          "#46039f"
                        ],
                        [
                          0.2222222222222222,
                          "#7201a8"
                        ],
                        [
                          0.3333333333333333,
                          "#9c179e"
                        ],
                        [
                          0.4444444444444444,
                          "#bd3786"
                        ],
                        [
                          0.5555555555555556,
                          "#d8576b"
                        ],
                        [
                          0.6666666666666666,
                          "#ed7953"
                        ],
                        [
                          0.7777777777777778,
                          "#fb9f3a"
                        ],
                        [
                          0.8888888888888888,
                          "#fdca26"
                        ],
                        [
                          1,
                          "#f0f921"
                        ]
                      ],
                      "sequentialminus": [
                        [
                          0,
                          "#0d0887"
                        ],
                        [
                          0.1111111111111111,
                          "#46039f"
                        ],
                        [
                          0.2222222222222222,
                          "#7201a8"
                        ],
                        [
                          0.3333333333333333,
                          "#9c179e"
                        ],
                        [
                          0.4444444444444444,
                          "#bd3786"
                        ],
                        [
                          0.5555555555555556,
                          "#d8576b"
                        ],
                        [
                          0.6666666666666666,
                          "#ed7953"
                        ],
                        [
                          0.7777777777777778,
                          "#fb9f3a"
                        ],
                        [
                          0.8888888888888888,
                          "#fdca26"
                        ],
                        [
                          1,
                          "#f0f921"
                        ]
                      ]
                    },
                    "colorway": [
                      "#636efa",
                      "#EF553B",
                      "#00cc96",
                      "#ab63fa",
                      "#FFA15A",
                      "#19d3f3",
                      "#FF6692",
                      "#B6E880",
                      "#FF97FF",
                      "#FECB52"
                    ],
                    "font": {
                      "color": "#2a3f5f"
                    },
                    "geo": {
                      "bgcolor": "white",
                      "lakecolor": "white",
                      "landcolor": "#E5ECF6",
                      "showlakes": true,
                      "showland": true,
                      "subunitcolor": "white"
                    },
                    "hoverlabel": {
                      "align": "left"
                    },
                    "hovermode": "closest",
                    "mapbox": {
                      "style": "light"
                    },
                    "paper_bgcolor": "white",
                    "plot_bgcolor": "#E5ECF6",
                    "polar": {
                      "angularaxis": {
                        "gridcolor": "white",
                        "linecolor": "white",
                        "ticks": ""
                      },
                      "bgcolor": "#E5ECF6",
                      "radialaxis": {
                        "gridcolor": "white",
                        "linecolor": "white",
                        "ticks": ""
                      }
                    },
                    "scene": {
                      "xaxis": {
                        "backgroundcolor": "#E5ECF6",
                        "gridcolor": "white",
                        "gridwidth": 2,
                        "linecolor": "white",
                        "showbackground": true,
                        "ticks": "",
                        "zerolinecolor": "white"
                      },
                      "yaxis": {
                        "backgroundcolor": "#E5ECF6",
                        "gridcolor": "white",
                        "gridwidth": 2,
                        "linecolor": "white",
                        "showbackground": true,
                        "ticks": "",
                        "zerolinecolor": "white"
                      },
                      "zaxis": {
                        "backgroundcolor": "#E5ECF6",
                        "gridcolor": "white",
                        "gridwidth": 2,
                        "linecolor": "white",
                        "showbackground": true,
                        "ticks": "",
                        "zerolinecolor": "white"
                      }
                    },
                    "shapedefaults": {
                      "line": {
                        "color": "#2a3f5f"
                      }
                    },
                    "ternary": {
                      "aaxis": {
                        "gridcolor": "white",
                        "linecolor": "white",
                        "ticks": ""
                      },
                      "baxis": {
                        "gridcolor": "white",
                        "linecolor": "white",
                        "ticks": ""
                      },
                      "bgcolor": "#E5ECF6",
                      "caxis": {
                        "gridcolor": "white",
                        "linecolor": "white",
                        "ticks": ""
                      }
                    },
                    "title": {
                      "x": 0.05
                    },
                    "xaxis": {
                      "automargin": true,
                      "gridcolor": "white",
                      "linecolor": "white",
                      "ticks": "",
                      "title": {
                        "standoff": 15
                      },
                      "zerolinecolor": "white",
                      "zerolinewidth": 2
                    },
                    "yaxis": {
                      "automargin": true,
                      "gridcolor": "white",
                      "linecolor": "white",
                      "ticks": "",
                      "title": {
                        "standoff": 15
                      },
                      "zerolinecolor": "white",
                      "zerolinewidth": 2
                    }
                  }
                },
                "title": {
                  "text": "Variação Reais por Segmento"
                }
              }
            },
            "text/html": [
              "<div>                            <div id=\"95abccb9-e7bc-4775-b438-a8d134277dbd\" class=\"plotly-graph-div\" style=\"height:525px; width:100%;\"></div>            <script type=\"text/javascript\">                require([\"plotly\"], function(Plotly) {                    window.PLOTLYENV=window.PLOTLYENV || {};                                    if (document.getElementById(\"95abccb9-e7bc-4775-b438-a8d134277dbd\")) {                    Plotly.newPlot(                        \"95abccb9-e7bc-4775-b438-a8d134277dbd\",                        [{\"domain\":{\"x\":[0.0,1.0],\"y\":[0.0,1.0]},\"hovertemplate\":\"Segmento=%{label}\\u003cbr\\u003eVariacao_rs=%{value}\\u003cextra\\u003e\\u003c\\u002fextra\\u003e\",\"labels\":[\"Alimentos\",\"Avia\\u00e7\\u00e3o\",\"Banco\",\"Constru\\u00e7\\u00e3o Civil\",\"Educa\\u00e7\\u00e3o\",\"Energia\",\"Investimentos\",\"Log\\u00edstica\",\"Minera\\u00e7\\u00e3o\",\"Moda\",\"Pagamentos\",\"Papel e Celulose\",\"Petroqu\\u00edmica\",\"Petr\\u00f3leo e G\\u00e1s\",\"Sa\\u00fade\",\"Shopping Center\",\"Siderurgia\",\"Tecnologia\",\"Telecomunica\\u00e7\\u00f5es\",\"Varejo\"],\"legendgroup\":\"\",\"name\":\"\",\"showlegend\":true,\"values\":[407833683.0924499,65452205.552800186,3740512018.7834516,37525872.37728388,72295838.98616095,1227890070.1772797,416092244.423763,233902674.79257408,4940442965.550434,41021792.09077153,43657683.37554085,722946282.7090385,69054317.63603853,6093288832.2628355,453917907.01324,117732680.0784251,489935930.9283229,15598886.650556229,292938114.42357796,237187009.23736662],\"type\":\"pie\"}],                        {\"template\":{\"data\":{\"histogram2dcontour\":[{\"type\":\"histogram2dcontour\",\"colorbar\":{\"outlinewidth\":0,\"ticks\":\"\"},\"colorscale\":[[0.0,\"#0d0887\"],[0.1111111111111111,\"#46039f\"],[0.2222222222222222,\"#7201a8\"],[0.3333333333333333,\"#9c179e\"],[0.4444444444444444,\"#bd3786\"],[0.5555555555555556,\"#d8576b\"],[0.6666666666666666,\"#ed7953\"],[0.7777777777777778,\"#fb9f3a\"],[0.8888888888888888,\"#fdca26\"],[1.0,\"#f0f921\"]]}],\"choropleth\":[{\"type\":\"choropleth\",\"colorbar\":{\"outlinewidth\":0,\"ticks\":\"\"}}],\"histogram2d\":[{\"type\":\"histogram2d\",\"colorbar\":{\"outlinewidth\":0,\"ticks\":\"\"},\"colorscale\":[[0.0,\"#0d0887\"],[0.1111111111111111,\"#46039f\"],[0.2222222222222222,\"#7201a8\"],[0.3333333333333333,\"#9c179e\"],[0.4444444444444444,\"#bd3786\"],[0.5555555555555556,\"#d8576b\"],[0.6666666666666666,\"#ed7953\"],[0.7777777777777778,\"#fb9f3a\"],[0.8888888888888888,\"#fdca26\"],[1.0,\"#f0f921\"]]}],\"heatmap\":[{\"type\":\"heatmap\",\"colorbar\":{\"outlinewidth\":0,\"ticks\":\"\"},\"colorscale\":[[0.0,\"#0d0887\"],[0.1111111111111111,\"#46039f\"],[0.2222222222222222,\"#7201a8\"],[0.3333333333333333,\"#9c179e\"],[0.4444444444444444,\"#bd3786\"],[0.5555555555555556,\"#d8576b\"],[0.6666666666666666,\"#ed7953\"],[0.7777777777777778,\"#fb9f3a\"],[0.8888888888888888,\"#fdca26\"],[1.0,\"#f0f921\"]]}],\"heatmapgl\":[{\"type\":\"heatmapgl\",\"colorbar\":{\"outlinewidth\":0,\"ticks\":\"\"},\"colorscale\":[[0.0,\"#0d0887\"],[0.1111111111111111,\"#46039f\"],[0.2222222222222222,\"#7201a8\"],[0.3333333333333333,\"#9c179e\"],[0.4444444444444444,\"#bd3786\"],[0.5555555555555556,\"#d8576b\"],[0.6666666666666666,\"#ed7953\"],[0.7777777777777778,\"#fb9f3a\"],[0.8888888888888888,\"#fdca26\"],[1.0,\"#f0f921\"]]}],\"contourcarpet\":[{\"type\":\"contourcarpet\",\"colorbar\":{\"outlinewidth\":0,\"ticks\":\"\"}}],\"contour\":[{\"type\":\"contour\",\"colorbar\":{\"outlinewidth\":0,\"ticks\":\"\"},\"colorscale\":[[0.0,\"#0d0887\"],[0.1111111111111111,\"#46039f\"],[0.2222222222222222,\"#7201a8\"],[0.3333333333333333,\"#9c179e\"],[0.4444444444444444,\"#bd3786\"],[0.5555555555555556,\"#d8576b\"],[0.6666666666666666,\"#ed7953\"],[0.7777777777777778,\"#fb9f3a\"],[0.8888888888888888,\"#fdca26\"],[1.0,\"#f0f921\"]]}],\"surface\":[{\"type\":\"surface\",\"colorbar\":{\"outlinewidth\":0,\"ticks\":\"\"},\"colorscale\":[[0.0,\"#0d0887\"],[0.1111111111111111,\"#46039f\"],[0.2222222222222222,\"#7201a8\"],[0.3333333333333333,\"#9c179e\"],[0.4444444444444444,\"#bd3786\"],[0.5555555555555556,\"#d8576b\"],[0.6666666666666666,\"#ed7953\"],[0.7777777777777778,\"#fb9f3a\"],[0.8888888888888888,\"#fdca26\"],[1.0,\"#f0f921\"]]}],\"mesh3d\":[{\"type\":\"mesh3d\",\"colorbar\":{\"outlinewidth\":0,\"ticks\":\"\"}}],\"scatter\":[{\"fillpattern\":{\"fillmode\":\"overlay\",\"size\":10,\"solidity\":0.2},\"type\":\"scatter\"}],\"parcoords\":[{\"type\":\"parcoords\",\"line\":{\"colorbar\":{\"outlinewidth\":0,\"ticks\":\"\"}}}],\"scatterpolargl\":[{\"type\":\"scatterpolargl\",\"marker\":{\"colorbar\":{\"outlinewidth\":0,\"ticks\":\"\"}}}],\"bar\":[{\"error_x\":{\"color\":\"#2a3f5f\"},\"error_y\":{\"color\":\"#2a3f5f\"},\"marker\":{\"line\":{\"color\":\"#E5ECF6\",\"width\":0.5},\"pattern\":{\"fillmode\":\"overlay\",\"size\":10,\"solidity\":0.2}},\"type\":\"bar\"}],\"scattergeo\":[{\"type\":\"scattergeo\",\"marker\":{\"colorbar\":{\"outlinewidth\":0,\"ticks\":\"\"}}}],\"scatterpolar\":[{\"type\":\"scatterpolar\",\"marker\":{\"colorbar\":{\"outlinewidth\":0,\"ticks\":\"\"}}}],\"histogram\":[{\"marker\":{\"pattern\":{\"fillmode\":\"overlay\",\"size\":10,\"solidity\":0.2}},\"type\":\"histogram\"}],\"scattergl\":[{\"type\":\"scattergl\",\"marker\":{\"colorbar\":{\"outlinewidth\":0,\"ticks\":\"\"}}}],\"scatter3d\":[{\"type\":\"scatter3d\",\"line\":{\"colorbar\":{\"outlinewidth\":0,\"ticks\":\"\"}},\"marker\":{\"colorbar\":{\"outlinewidth\":0,\"ticks\":\"\"}}}],\"scattermapbox\":[{\"type\":\"scattermapbox\",\"marker\":{\"colorbar\":{\"outlinewidth\":0,\"ticks\":\"\"}}}],\"scatterternary\":[{\"type\":\"scatterternary\",\"marker\":{\"colorbar\":{\"outlinewidth\":0,\"ticks\":\"\"}}}],\"scattercarpet\":[{\"type\":\"scattercarpet\",\"marker\":{\"colorbar\":{\"outlinewidth\":0,\"ticks\":\"\"}}}],\"carpet\":[{\"aaxis\":{\"endlinecolor\":\"#2a3f5f\",\"gridcolor\":\"white\",\"linecolor\":\"white\",\"minorgridcolor\":\"white\",\"startlinecolor\":\"#2a3f5f\"},\"baxis\":{\"endlinecolor\":\"#2a3f5f\",\"gridcolor\":\"white\",\"linecolor\":\"white\",\"minorgridcolor\":\"white\",\"startlinecolor\":\"#2a3f5f\"},\"type\":\"carpet\"}],\"table\":[{\"cells\":{\"fill\":{\"color\":\"#EBF0F8\"},\"line\":{\"color\":\"white\"}},\"header\":{\"fill\":{\"color\":\"#C8D4E3\"},\"line\":{\"color\":\"white\"}},\"type\":\"table\"}],\"barpolar\":[{\"marker\":{\"line\":{\"color\":\"#E5ECF6\",\"width\":0.5},\"pattern\":{\"fillmode\":\"overlay\",\"size\":10,\"solidity\":0.2}},\"type\":\"barpolar\"}],\"pie\":[{\"automargin\":true,\"type\":\"pie\"}]},\"layout\":{\"autotypenumbers\":\"strict\",\"colorway\":[\"#636efa\",\"#EF553B\",\"#00cc96\",\"#ab63fa\",\"#FFA15A\",\"#19d3f3\",\"#FF6692\",\"#B6E880\",\"#FF97FF\",\"#FECB52\"],\"font\":{\"color\":\"#2a3f5f\"},\"hovermode\":\"closest\",\"hoverlabel\":{\"align\":\"left\"},\"paper_bgcolor\":\"white\",\"plot_bgcolor\":\"#E5ECF6\",\"polar\":{\"bgcolor\":\"#E5ECF6\",\"angularaxis\":{\"gridcolor\":\"white\",\"linecolor\":\"white\",\"ticks\":\"\"},\"radialaxis\":{\"gridcolor\":\"white\",\"linecolor\":\"white\",\"ticks\":\"\"}},\"ternary\":{\"bgcolor\":\"#E5ECF6\",\"aaxis\":{\"gridcolor\":\"white\",\"linecolor\":\"white\",\"ticks\":\"\"},\"baxis\":{\"gridcolor\":\"white\",\"linecolor\":\"white\",\"ticks\":\"\"},\"caxis\":{\"gridcolor\":\"white\",\"linecolor\":\"white\",\"ticks\":\"\"}},\"coloraxis\":{\"colorbar\":{\"outlinewidth\":0,\"ticks\":\"\"}},\"colorscale\":{\"sequential\":[[0.0,\"#0d0887\"],[0.1111111111111111,\"#46039f\"],[0.2222222222222222,\"#7201a8\"],[0.3333333333333333,\"#9c179e\"],[0.4444444444444444,\"#bd3786\"],[0.5555555555555556,\"#d8576b\"],[0.6666666666666666,\"#ed7953\"],[0.7777777777777778,\"#fb9f3a\"],[0.8888888888888888,\"#fdca26\"],[1.0,\"#f0f921\"]],\"sequentialminus\":[[0.0,\"#0d0887\"],[0.1111111111111111,\"#46039f\"],[0.2222222222222222,\"#7201a8\"],[0.3333333333333333,\"#9c179e\"],[0.4444444444444444,\"#bd3786\"],[0.5555555555555556,\"#d8576b\"],[0.6666666666666666,\"#ed7953\"],[0.7777777777777778,\"#fb9f3a\"],[0.8888888888888888,\"#fdca26\"],[1.0,\"#f0f921\"]],\"diverging\":[[0,\"#8e0152\"],[0.1,\"#c51b7d\"],[0.2,\"#de77ae\"],[0.3,\"#f1b6da\"],[0.4,\"#fde0ef\"],[0.5,\"#f7f7f7\"],[0.6,\"#e6f5d0\"],[0.7,\"#b8e186\"],[0.8,\"#7fbc41\"],[0.9,\"#4d9221\"],[1,\"#276419\"]]},\"xaxis\":{\"gridcolor\":\"white\",\"linecolor\":\"white\",\"ticks\":\"\",\"title\":{\"standoff\":15},\"zerolinecolor\":\"white\",\"automargin\":true,\"zerolinewidth\":2},\"yaxis\":{\"gridcolor\":\"white\",\"linecolor\":\"white\",\"ticks\":\"\",\"title\":{\"standoff\":15},\"zerolinecolor\":\"white\",\"automargin\":true,\"zerolinewidth\":2},\"scene\":{\"xaxis\":{\"backgroundcolor\":\"#E5ECF6\",\"gridcolor\":\"white\",\"linecolor\":\"white\",\"showbackground\":true,\"ticks\":\"\",\"zerolinecolor\":\"white\",\"gridwidth\":2},\"yaxis\":{\"backgroundcolor\":\"#E5ECF6\",\"gridcolor\":\"white\",\"linecolor\":\"white\",\"showbackground\":true,\"ticks\":\"\",\"zerolinecolor\":\"white\",\"gridwidth\":2},\"zaxis\":{\"backgroundcolor\":\"#E5ECF6\",\"gridcolor\":\"white\",\"linecolor\":\"white\",\"showbackground\":true,\"ticks\":\"\",\"zerolinecolor\":\"white\",\"gridwidth\":2}},\"shapedefaults\":{\"line\":{\"color\":\"#2a3f5f\"}},\"annotationdefaults\":{\"arrowcolor\":\"#2a3f5f\",\"arrowhead\":0,\"arrowwidth\":1},\"geo\":{\"bgcolor\":\"white\",\"landcolor\":\"#E5ECF6\",\"subunitcolor\":\"white\",\"showland\":true,\"showlakes\":true,\"lakecolor\":\"white\"},\"title\":{\"x\":0.05},\"mapbox\":{\"style\":\"light\"}}},\"legend\":{\"tracegroupgap\":0},\"title\":{\"text\":\"Varia\\u00e7\\u00e3o Reais por Segmento\"}},                        {\"responsive\": true}                    ).then(function(){\n",
              "                            \n",
              "var gd = document.getElementById('95abccb9-e7bc-4775-b438-a8d134277dbd');\n",
              "var x = new MutationObserver(function (mutations, observer) {{\n",
              "        var display = window.getComputedStyle(gd).display;\n",
              "        if (!display || display === 'none') {{\n",
              "            console.log([gd, 'removed!']);\n",
              "            Plotly.purge(gd);\n",
              "            observer.disconnect();\n",
              "        }}\n",
              "}});\n",
              "\n",
              "// Listen for the removal of the full notebook cells\n",
              "var notebookContainer = gd.closest('#notebook-container');\n",
              "if (notebookContainer) {{\n",
              "    x.observe(notebookContainer, {childList: true});\n",
              "}}\n",
              "\n",
              "// Listen for the clearing of the current output cell\n",
              "var outputEl = gd.closest('.output');\n",
              "if (outputEl) {{\n",
              "    x.observe(outputEl, {childList: true});\n",
              "}}\n",
              "\n",
              "                        })                };                });            </script>        </div>"
            ]
          },
          "metadata": {},
          "output_type": "display_data"
        }
      ],
      "source": [
        "fig = px.pie(df_analise_segmento, values='Variacao_rs', names='Segmento', title='Variação Reais por Segmento')\n",
        "fig.show()"
      ]
    },
    {
      "cell_type": "code",
      "execution_count": 38,
      "metadata": {},
      "outputs": [
        {
          "data": {
            "application/vnd.plotly.v1+json": {
              "config": {
                "plotlyServerURL": "https://plot.ly"
              },
              "data": [
                {
                  "alignmentgroup": "True",
                  "hovertemplate": "Cat_Idade=%{x}<br>Variacao_rs=%{text}<extra></extra>",
                  "legendgroup": "",
                  "marker": {
                    "color": "#636efa",
                    "pattern": {
                      "shape": ""
                    }
                  },
                  "name": "",
                  "offsetgroup": "",
                  "orientation": "v",
                  "showlegend": false,
                  "text": [
                    11516478512.73975,
                    922970028.3436161,
                    940958507.7431945
                  ],
                  "textposition": "auto",
                  "type": "bar",
                  "x": [
                    "Entre 50 e 100",
                    "Mais de 100",
                    "Menos de 50"
                  ],
                  "xaxis": "x",
                  "y": [
                    11516478512.73975,
                    922970028.3436161,
                    940958507.7431945
                  ],
                  "yaxis": "y"
                }
              ],
              "layout": {
                "barmode": "relative",
                "legend": {
                  "tracegroupgap": 0
                },
                "template": {
                  "data": {
                    "bar": [
                      {
                        "error_x": {
                          "color": "#2a3f5f"
                        },
                        "error_y": {
                          "color": "#2a3f5f"
                        },
                        "marker": {
                          "line": {
                            "color": "#E5ECF6",
                            "width": 0.5
                          },
                          "pattern": {
                            "fillmode": "overlay",
                            "size": 10,
                            "solidity": 0.2
                          }
                        },
                        "type": "bar"
                      }
                    ],
                    "barpolar": [
                      {
                        "marker": {
                          "line": {
                            "color": "#E5ECF6",
                            "width": 0.5
                          },
                          "pattern": {
                            "fillmode": "overlay",
                            "size": 10,
                            "solidity": 0.2
                          }
                        },
                        "type": "barpolar"
                      }
                    ],
                    "carpet": [
                      {
                        "aaxis": {
                          "endlinecolor": "#2a3f5f",
                          "gridcolor": "white",
                          "linecolor": "white",
                          "minorgridcolor": "white",
                          "startlinecolor": "#2a3f5f"
                        },
                        "baxis": {
                          "endlinecolor": "#2a3f5f",
                          "gridcolor": "white",
                          "linecolor": "white",
                          "minorgridcolor": "white",
                          "startlinecolor": "#2a3f5f"
                        },
                        "type": "carpet"
                      }
                    ],
                    "choropleth": [
                      {
                        "colorbar": {
                          "outlinewidth": 0,
                          "ticks": ""
                        },
                        "type": "choropleth"
                      }
                    ],
                    "contour": [
                      {
                        "colorbar": {
                          "outlinewidth": 0,
                          "ticks": ""
                        },
                        "colorscale": [
                          [
                            0,
                            "#0d0887"
                          ],
                          [
                            0.1111111111111111,
                            "#46039f"
                          ],
                          [
                            0.2222222222222222,
                            "#7201a8"
                          ],
                          [
                            0.3333333333333333,
                            "#9c179e"
                          ],
                          [
                            0.4444444444444444,
                            "#bd3786"
                          ],
                          [
                            0.5555555555555556,
                            "#d8576b"
                          ],
                          [
                            0.6666666666666666,
                            "#ed7953"
                          ],
                          [
                            0.7777777777777778,
                            "#fb9f3a"
                          ],
                          [
                            0.8888888888888888,
                            "#fdca26"
                          ],
                          [
                            1,
                            "#f0f921"
                          ]
                        ],
                        "type": "contour"
                      }
                    ],
                    "contourcarpet": [
                      {
                        "colorbar": {
                          "outlinewidth": 0,
                          "ticks": ""
                        },
                        "type": "contourcarpet"
                      }
                    ],
                    "heatmap": [
                      {
                        "colorbar": {
                          "outlinewidth": 0,
                          "ticks": ""
                        },
                        "colorscale": [
                          [
                            0,
                            "#0d0887"
                          ],
                          [
                            0.1111111111111111,
                            "#46039f"
                          ],
                          [
                            0.2222222222222222,
                            "#7201a8"
                          ],
                          [
                            0.3333333333333333,
                            "#9c179e"
                          ],
                          [
                            0.4444444444444444,
                            "#bd3786"
                          ],
                          [
                            0.5555555555555556,
                            "#d8576b"
                          ],
                          [
                            0.6666666666666666,
                            "#ed7953"
                          ],
                          [
                            0.7777777777777778,
                            "#fb9f3a"
                          ],
                          [
                            0.8888888888888888,
                            "#fdca26"
                          ],
                          [
                            1,
                            "#f0f921"
                          ]
                        ],
                        "type": "heatmap"
                      }
                    ],
                    "heatmapgl": [
                      {
                        "colorbar": {
                          "outlinewidth": 0,
                          "ticks": ""
                        },
                        "colorscale": [
                          [
                            0,
                            "#0d0887"
                          ],
                          [
                            0.1111111111111111,
                            "#46039f"
                          ],
                          [
                            0.2222222222222222,
                            "#7201a8"
                          ],
                          [
                            0.3333333333333333,
                            "#9c179e"
                          ],
                          [
                            0.4444444444444444,
                            "#bd3786"
                          ],
                          [
                            0.5555555555555556,
                            "#d8576b"
                          ],
                          [
                            0.6666666666666666,
                            "#ed7953"
                          ],
                          [
                            0.7777777777777778,
                            "#fb9f3a"
                          ],
                          [
                            0.8888888888888888,
                            "#fdca26"
                          ],
                          [
                            1,
                            "#f0f921"
                          ]
                        ],
                        "type": "heatmapgl"
                      }
                    ],
                    "histogram": [
                      {
                        "marker": {
                          "pattern": {
                            "fillmode": "overlay",
                            "size": 10,
                            "solidity": 0.2
                          }
                        },
                        "type": "histogram"
                      }
                    ],
                    "histogram2d": [
                      {
                        "colorbar": {
                          "outlinewidth": 0,
                          "ticks": ""
                        },
                        "colorscale": [
                          [
                            0,
                            "#0d0887"
                          ],
                          [
                            0.1111111111111111,
                            "#46039f"
                          ],
                          [
                            0.2222222222222222,
                            "#7201a8"
                          ],
                          [
                            0.3333333333333333,
                            "#9c179e"
                          ],
                          [
                            0.4444444444444444,
                            "#bd3786"
                          ],
                          [
                            0.5555555555555556,
                            "#d8576b"
                          ],
                          [
                            0.6666666666666666,
                            "#ed7953"
                          ],
                          [
                            0.7777777777777778,
                            "#fb9f3a"
                          ],
                          [
                            0.8888888888888888,
                            "#fdca26"
                          ],
                          [
                            1,
                            "#f0f921"
                          ]
                        ],
                        "type": "histogram2d"
                      }
                    ],
                    "histogram2dcontour": [
                      {
                        "colorbar": {
                          "outlinewidth": 0,
                          "ticks": ""
                        },
                        "colorscale": [
                          [
                            0,
                            "#0d0887"
                          ],
                          [
                            0.1111111111111111,
                            "#46039f"
                          ],
                          [
                            0.2222222222222222,
                            "#7201a8"
                          ],
                          [
                            0.3333333333333333,
                            "#9c179e"
                          ],
                          [
                            0.4444444444444444,
                            "#bd3786"
                          ],
                          [
                            0.5555555555555556,
                            "#d8576b"
                          ],
                          [
                            0.6666666666666666,
                            "#ed7953"
                          ],
                          [
                            0.7777777777777778,
                            "#fb9f3a"
                          ],
                          [
                            0.8888888888888888,
                            "#fdca26"
                          ],
                          [
                            1,
                            "#f0f921"
                          ]
                        ],
                        "type": "histogram2dcontour"
                      }
                    ],
                    "mesh3d": [
                      {
                        "colorbar": {
                          "outlinewidth": 0,
                          "ticks": ""
                        },
                        "type": "mesh3d"
                      }
                    ],
                    "parcoords": [
                      {
                        "line": {
                          "colorbar": {
                            "outlinewidth": 0,
                            "ticks": ""
                          }
                        },
                        "type": "parcoords"
                      }
                    ],
                    "pie": [
                      {
                        "automargin": true,
                        "type": "pie"
                      }
                    ],
                    "scatter": [
                      {
                        "fillpattern": {
                          "fillmode": "overlay",
                          "size": 10,
                          "solidity": 0.2
                        },
                        "type": "scatter"
                      }
                    ],
                    "scatter3d": [
                      {
                        "line": {
                          "colorbar": {
                            "outlinewidth": 0,
                            "ticks": ""
                          }
                        },
                        "marker": {
                          "colorbar": {
                            "outlinewidth": 0,
                            "ticks": ""
                          }
                        },
                        "type": "scatter3d"
                      }
                    ],
                    "scattercarpet": [
                      {
                        "marker": {
                          "colorbar": {
                            "outlinewidth": 0,
                            "ticks": ""
                          }
                        },
                        "type": "scattercarpet"
                      }
                    ],
                    "scattergeo": [
                      {
                        "marker": {
                          "colorbar": {
                            "outlinewidth": 0,
                            "ticks": ""
                          }
                        },
                        "type": "scattergeo"
                      }
                    ],
                    "scattergl": [
                      {
                        "marker": {
                          "colorbar": {
                            "outlinewidth": 0,
                            "ticks": ""
                          }
                        },
                        "type": "scattergl"
                      }
                    ],
                    "scattermapbox": [
                      {
                        "marker": {
                          "colorbar": {
                            "outlinewidth": 0,
                            "ticks": ""
                          }
                        },
                        "type": "scattermapbox"
                      }
                    ],
                    "scatterpolar": [
                      {
                        "marker": {
                          "colorbar": {
                            "outlinewidth": 0,
                            "ticks": ""
                          }
                        },
                        "type": "scatterpolar"
                      }
                    ],
                    "scatterpolargl": [
                      {
                        "marker": {
                          "colorbar": {
                            "outlinewidth": 0,
                            "ticks": ""
                          }
                        },
                        "type": "scatterpolargl"
                      }
                    ],
                    "scatterternary": [
                      {
                        "marker": {
                          "colorbar": {
                            "outlinewidth": 0,
                            "ticks": ""
                          }
                        },
                        "type": "scatterternary"
                      }
                    ],
                    "surface": [
                      {
                        "colorbar": {
                          "outlinewidth": 0,
                          "ticks": ""
                        },
                        "colorscale": [
                          [
                            0,
                            "#0d0887"
                          ],
                          [
                            0.1111111111111111,
                            "#46039f"
                          ],
                          [
                            0.2222222222222222,
                            "#7201a8"
                          ],
                          [
                            0.3333333333333333,
                            "#9c179e"
                          ],
                          [
                            0.4444444444444444,
                            "#bd3786"
                          ],
                          [
                            0.5555555555555556,
                            "#d8576b"
                          ],
                          [
                            0.6666666666666666,
                            "#ed7953"
                          ],
                          [
                            0.7777777777777778,
                            "#fb9f3a"
                          ],
                          [
                            0.8888888888888888,
                            "#fdca26"
                          ],
                          [
                            1,
                            "#f0f921"
                          ]
                        ],
                        "type": "surface"
                      }
                    ],
                    "table": [
                      {
                        "cells": {
                          "fill": {
                            "color": "#EBF0F8"
                          },
                          "line": {
                            "color": "white"
                          }
                        },
                        "header": {
                          "fill": {
                            "color": "#C8D4E3"
                          },
                          "line": {
                            "color": "white"
                          }
                        },
                        "type": "table"
                      }
                    ]
                  },
                  "layout": {
                    "annotationdefaults": {
                      "arrowcolor": "#2a3f5f",
                      "arrowhead": 0,
                      "arrowwidth": 1
                    },
                    "autotypenumbers": "strict",
                    "coloraxis": {
                      "colorbar": {
                        "outlinewidth": 0,
                        "ticks": ""
                      }
                    },
                    "colorscale": {
                      "diverging": [
                        [
                          0,
                          "#8e0152"
                        ],
                        [
                          0.1,
                          "#c51b7d"
                        ],
                        [
                          0.2,
                          "#de77ae"
                        ],
                        [
                          0.3,
                          "#f1b6da"
                        ],
                        [
                          0.4,
                          "#fde0ef"
                        ],
                        [
                          0.5,
                          "#f7f7f7"
                        ],
                        [
                          0.6,
                          "#e6f5d0"
                        ],
                        [
                          0.7,
                          "#b8e186"
                        ],
                        [
                          0.8,
                          "#7fbc41"
                        ],
                        [
                          0.9,
                          "#4d9221"
                        ],
                        [
                          1,
                          "#276419"
                        ]
                      ],
                      "sequential": [
                        [
                          0,
                          "#0d0887"
                        ],
                        [
                          0.1111111111111111,
                          "#46039f"
                        ],
                        [
                          0.2222222222222222,
                          "#7201a8"
                        ],
                        [
                          0.3333333333333333,
                          "#9c179e"
                        ],
                        [
                          0.4444444444444444,
                          "#bd3786"
                        ],
                        [
                          0.5555555555555556,
                          "#d8576b"
                        ],
                        [
                          0.6666666666666666,
                          "#ed7953"
                        ],
                        [
                          0.7777777777777778,
                          "#fb9f3a"
                        ],
                        [
                          0.8888888888888888,
                          "#fdca26"
                        ],
                        [
                          1,
                          "#f0f921"
                        ]
                      ],
                      "sequentialminus": [
                        [
                          0,
                          "#0d0887"
                        ],
                        [
                          0.1111111111111111,
                          "#46039f"
                        ],
                        [
                          0.2222222222222222,
                          "#7201a8"
                        ],
                        [
                          0.3333333333333333,
                          "#9c179e"
                        ],
                        [
                          0.4444444444444444,
                          "#bd3786"
                        ],
                        [
                          0.5555555555555556,
                          "#d8576b"
                        ],
                        [
                          0.6666666666666666,
                          "#ed7953"
                        ],
                        [
                          0.7777777777777778,
                          "#fb9f3a"
                        ],
                        [
                          0.8888888888888888,
                          "#fdca26"
                        ],
                        [
                          1,
                          "#f0f921"
                        ]
                      ]
                    },
                    "colorway": [
                      "#636efa",
                      "#EF553B",
                      "#00cc96",
                      "#ab63fa",
                      "#FFA15A",
                      "#19d3f3",
                      "#FF6692",
                      "#B6E880",
                      "#FF97FF",
                      "#FECB52"
                    ],
                    "font": {
                      "color": "#2a3f5f"
                    },
                    "geo": {
                      "bgcolor": "white",
                      "lakecolor": "white",
                      "landcolor": "#E5ECF6",
                      "showlakes": true,
                      "showland": true,
                      "subunitcolor": "white"
                    },
                    "hoverlabel": {
                      "align": "left"
                    },
                    "hovermode": "closest",
                    "mapbox": {
                      "style": "light"
                    },
                    "paper_bgcolor": "white",
                    "plot_bgcolor": "#E5ECF6",
                    "polar": {
                      "angularaxis": {
                        "gridcolor": "white",
                        "linecolor": "white",
                        "ticks": ""
                      },
                      "bgcolor": "#E5ECF6",
                      "radialaxis": {
                        "gridcolor": "white",
                        "linecolor": "white",
                        "ticks": ""
                      }
                    },
                    "scene": {
                      "xaxis": {
                        "backgroundcolor": "#E5ECF6",
                        "gridcolor": "white",
                        "gridwidth": 2,
                        "linecolor": "white",
                        "showbackground": true,
                        "ticks": "",
                        "zerolinecolor": "white"
                      },
                      "yaxis": {
                        "backgroundcolor": "#E5ECF6",
                        "gridcolor": "white",
                        "gridwidth": 2,
                        "linecolor": "white",
                        "showbackground": true,
                        "ticks": "",
                        "zerolinecolor": "white"
                      },
                      "zaxis": {
                        "backgroundcolor": "#E5ECF6",
                        "gridcolor": "white",
                        "gridwidth": 2,
                        "linecolor": "white",
                        "showbackground": true,
                        "ticks": "",
                        "zerolinecolor": "white"
                      }
                    },
                    "shapedefaults": {
                      "line": {
                        "color": "#2a3f5f"
                      }
                    },
                    "ternary": {
                      "aaxis": {
                        "gridcolor": "white",
                        "linecolor": "white",
                        "ticks": ""
                      },
                      "baxis": {
                        "gridcolor": "white",
                        "linecolor": "white",
                        "ticks": ""
                      },
                      "bgcolor": "#E5ECF6",
                      "caxis": {
                        "gridcolor": "white",
                        "linecolor": "white",
                        "ticks": ""
                      }
                    },
                    "title": {
                      "x": 0.05
                    },
                    "xaxis": {
                      "automargin": true,
                      "gridcolor": "white",
                      "linecolor": "white",
                      "ticks": "",
                      "title": {
                        "standoff": 15
                      },
                      "zerolinecolor": "white",
                      "zerolinewidth": 2
                    },
                    "yaxis": {
                      "automargin": true,
                      "gridcolor": "white",
                      "linecolor": "white",
                      "ticks": "",
                      "title": {
                        "standoff": 15
                      },
                      "zerolinecolor": "white",
                      "zerolinewidth": 2
                    }
                  }
                },
                "title": {
                  "text": "Variação Reais por Categoria de Idade"
                },
                "xaxis": {
                  "anchor": "y",
                  "domain": [
                    0,
                    1
                  ],
                  "title": {
                    "text": "Cat_Idade"
                  }
                },
                "yaxis": {
                  "anchor": "x",
                  "domain": [
                    0,
                    1
                  ],
                  "title": {
                    "text": "Variacao_rs"
                  }
                }
              }
            },
            "text/html": [
              "<div>                            <div id=\"34ece0ab-6879-4f04-95ce-132480138258\" class=\"plotly-graph-div\" style=\"height:525px; width:100%;\"></div>            <script type=\"text/javascript\">                require([\"plotly\"], function(Plotly) {                    window.PLOTLYENV=window.PLOTLYENV || {};                                    if (document.getElementById(\"34ece0ab-6879-4f04-95ce-132480138258\")) {                    Plotly.newPlot(                        \"34ece0ab-6879-4f04-95ce-132480138258\",                        [{\"alignmentgroup\":\"True\",\"hovertemplate\":\"Cat_Idade=%{x}\\u003cbr\\u003eVariacao_rs=%{text}\\u003cextra\\u003e\\u003c\\u002fextra\\u003e\",\"legendgroup\":\"\",\"marker\":{\"color\":\"#636efa\",\"pattern\":{\"shape\":\"\"}},\"name\":\"\",\"offsetgroup\":\"\",\"orientation\":\"v\",\"showlegend\":false,\"text\":[11516478512.73975,922970028.3436161,940958507.7431945],\"textposition\":\"auto\",\"x\":[\"Entre 50 e 100\",\"Mais de 100\",\"Menos de 50\"],\"xaxis\":\"x\",\"y\":[11516478512.73975,922970028.3436161,940958507.7431945],\"yaxis\":\"y\",\"type\":\"bar\"}],                        {\"template\":{\"data\":{\"histogram2dcontour\":[{\"type\":\"histogram2dcontour\",\"colorbar\":{\"outlinewidth\":0,\"ticks\":\"\"},\"colorscale\":[[0.0,\"#0d0887\"],[0.1111111111111111,\"#46039f\"],[0.2222222222222222,\"#7201a8\"],[0.3333333333333333,\"#9c179e\"],[0.4444444444444444,\"#bd3786\"],[0.5555555555555556,\"#d8576b\"],[0.6666666666666666,\"#ed7953\"],[0.7777777777777778,\"#fb9f3a\"],[0.8888888888888888,\"#fdca26\"],[1.0,\"#f0f921\"]]}],\"choropleth\":[{\"type\":\"choropleth\",\"colorbar\":{\"outlinewidth\":0,\"ticks\":\"\"}}],\"histogram2d\":[{\"type\":\"histogram2d\",\"colorbar\":{\"outlinewidth\":0,\"ticks\":\"\"},\"colorscale\":[[0.0,\"#0d0887\"],[0.1111111111111111,\"#46039f\"],[0.2222222222222222,\"#7201a8\"],[0.3333333333333333,\"#9c179e\"],[0.4444444444444444,\"#bd3786\"],[0.5555555555555556,\"#d8576b\"],[0.6666666666666666,\"#ed7953\"],[0.7777777777777778,\"#fb9f3a\"],[0.8888888888888888,\"#fdca26\"],[1.0,\"#f0f921\"]]}],\"heatmap\":[{\"type\":\"heatmap\",\"colorbar\":{\"outlinewidth\":0,\"ticks\":\"\"},\"colorscale\":[[0.0,\"#0d0887\"],[0.1111111111111111,\"#46039f\"],[0.2222222222222222,\"#7201a8\"],[0.3333333333333333,\"#9c179e\"],[0.4444444444444444,\"#bd3786\"],[0.5555555555555556,\"#d8576b\"],[0.6666666666666666,\"#ed7953\"],[0.7777777777777778,\"#fb9f3a\"],[0.8888888888888888,\"#fdca26\"],[1.0,\"#f0f921\"]]}],\"heatmapgl\":[{\"type\":\"heatmapgl\",\"colorbar\":{\"outlinewidth\":0,\"ticks\":\"\"},\"colorscale\":[[0.0,\"#0d0887\"],[0.1111111111111111,\"#46039f\"],[0.2222222222222222,\"#7201a8\"],[0.3333333333333333,\"#9c179e\"],[0.4444444444444444,\"#bd3786\"],[0.5555555555555556,\"#d8576b\"],[0.6666666666666666,\"#ed7953\"],[0.7777777777777778,\"#fb9f3a\"],[0.8888888888888888,\"#fdca26\"],[1.0,\"#f0f921\"]]}],\"contourcarpet\":[{\"type\":\"contourcarpet\",\"colorbar\":{\"outlinewidth\":0,\"ticks\":\"\"}}],\"contour\":[{\"type\":\"contour\",\"colorbar\":{\"outlinewidth\":0,\"ticks\":\"\"},\"colorscale\":[[0.0,\"#0d0887\"],[0.1111111111111111,\"#46039f\"],[0.2222222222222222,\"#7201a8\"],[0.3333333333333333,\"#9c179e\"],[0.4444444444444444,\"#bd3786\"],[0.5555555555555556,\"#d8576b\"],[0.6666666666666666,\"#ed7953\"],[0.7777777777777778,\"#fb9f3a\"],[0.8888888888888888,\"#fdca26\"],[1.0,\"#f0f921\"]]}],\"surface\":[{\"type\":\"surface\",\"colorbar\":{\"outlinewidth\":0,\"ticks\":\"\"},\"colorscale\":[[0.0,\"#0d0887\"],[0.1111111111111111,\"#46039f\"],[0.2222222222222222,\"#7201a8\"],[0.3333333333333333,\"#9c179e\"],[0.4444444444444444,\"#bd3786\"],[0.5555555555555556,\"#d8576b\"],[0.6666666666666666,\"#ed7953\"],[0.7777777777777778,\"#fb9f3a\"],[0.8888888888888888,\"#fdca26\"],[1.0,\"#f0f921\"]]}],\"mesh3d\":[{\"type\":\"mesh3d\",\"colorbar\":{\"outlinewidth\":0,\"ticks\":\"\"}}],\"scatter\":[{\"fillpattern\":{\"fillmode\":\"overlay\",\"size\":10,\"solidity\":0.2},\"type\":\"scatter\"}],\"parcoords\":[{\"type\":\"parcoords\",\"line\":{\"colorbar\":{\"outlinewidth\":0,\"ticks\":\"\"}}}],\"scatterpolargl\":[{\"type\":\"scatterpolargl\",\"marker\":{\"colorbar\":{\"outlinewidth\":0,\"ticks\":\"\"}}}],\"bar\":[{\"error_x\":{\"color\":\"#2a3f5f\"},\"error_y\":{\"color\":\"#2a3f5f\"},\"marker\":{\"line\":{\"color\":\"#E5ECF6\",\"width\":0.5},\"pattern\":{\"fillmode\":\"overlay\",\"size\":10,\"solidity\":0.2}},\"type\":\"bar\"}],\"scattergeo\":[{\"type\":\"scattergeo\",\"marker\":{\"colorbar\":{\"outlinewidth\":0,\"ticks\":\"\"}}}],\"scatterpolar\":[{\"type\":\"scatterpolar\",\"marker\":{\"colorbar\":{\"outlinewidth\":0,\"ticks\":\"\"}}}],\"histogram\":[{\"marker\":{\"pattern\":{\"fillmode\":\"overlay\",\"size\":10,\"solidity\":0.2}},\"type\":\"histogram\"}],\"scattergl\":[{\"type\":\"scattergl\",\"marker\":{\"colorbar\":{\"outlinewidth\":0,\"ticks\":\"\"}}}],\"scatter3d\":[{\"type\":\"scatter3d\",\"line\":{\"colorbar\":{\"outlinewidth\":0,\"ticks\":\"\"}},\"marker\":{\"colorbar\":{\"outlinewidth\":0,\"ticks\":\"\"}}}],\"scattermapbox\":[{\"type\":\"scattermapbox\",\"marker\":{\"colorbar\":{\"outlinewidth\":0,\"ticks\":\"\"}}}],\"scatterternary\":[{\"type\":\"scatterternary\",\"marker\":{\"colorbar\":{\"outlinewidth\":0,\"ticks\":\"\"}}}],\"scattercarpet\":[{\"type\":\"scattercarpet\",\"marker\":{\"colorbar\":{\"outlinewidth\":0,\"ticks\":\"\"}}}],\"carpet\":[{\"aaxis\":{\"endlinecolor\":\"#2a3f5f\",\"gridcolor\":\"white\",\"linecolor\":\"white\",\"minorgridcolor\":\"white\",\"startlinecolor\":\"#2a3f5f\"},\"baxis\":{\"endlinecolor\":\"#2a3f5f\",\"gridcolor\":\"white\",\"linecolor\":\"white\",\"minorgridcolor\":\"white\",\"startlinecolor\":\"#2a3f5f\"},\"type\":\"carpet\"}],\"table\":[{\"cells\":{\"fill\":{\"color\":\"#EBF0F8\"},\"line\":{\"color\":\"white\"}},\"header\":{\"fill\":{\"color\":\"#C8D4E3\"},\"line\":{\"color\":\"white\"}},\"type\":\"table\"}],\"barpolar\":[{\"marker\":{\"line\":{\"color\":\"#E5ECF6\",\"width\":0.5},\"pattern\":{\"fillmode\":\"overlay\",\"size\":10,\"solidity\":0.2}},\"type\":\"barpolar\"}],\"pie\":[{\"automargin\":true,\"type\":\"pie\"}]},\"layout\":{\"autotypenumbers\":\"strict\",\"colorway\":[\"#636efa\",\"#EF553B\",\"#00cc96\",\"#ab63fa\",\"#FFA15A\",\"#19d3f3\",\"#FF6692\",\"#B6E880\",\"#FF97FF\",\"#FECB52\"],\"font\":{\"color\":\"#2a3f5f\"},\"hovermode\":\"closest\",\"hoverlabel\":{\"align\":\"left\"},\"paper_bgcolor\":\"white\",\"plot_bgcolor\":\"#E5ECF6\",\"polar\":{\"bgcolor\":\"#E5ECF6\",\"angularaxis\":{\"gridcolor\":\"white\",\"linecolor\":\"white\",\"ticks\":\"\"},\"radialaxis\":{\"gridcolor\":\"white\",\"linecolor\":\"white\",\"ticks\":\"\"}},\"ternary\":{\"bgcolor\":\"#E5ECF6\",\"aaxis\":{\"gridcolor\":\"white\",\"linecolor\":\"white\",\"ticks\":\"\"},\"baxis\":{\"gridcolor\":\"white\",\"linecolor\":\"white\",\"ticks\":\"\"},\"caxis\":{\"gridcolor\":\"white\",\"linecolor\":\"white\",\"ticks\":\"\"}},\"coloraxis\":{\"colorbar\":{\"outlinewidth\":0,\"ticks\":\"\"}},\"colorscale\":{\"sequential\":[[0.0,\"#0d0887\"],[0.1111111111111111,\"#46039f\"],[0.2222222222222222,\"#7201a8\"],[0.3333333333333333,\"#9c179e\"],[0.4444444444444444,\"#bd3786\"],[0.5555555555555556,\"#d8576b\"],[0.6666666666666666,\"#ed7953\"],[0.7777777777777778,\"#fb9f3a\"],[0.8888888888888888,\"#fdca26\"],[1.0,\"#f0f921\"]],\"sequentialminus\":[[0.0,\"#0d0887\"],[0.1111111111111111,\"#46039f\"],[0.2222222222222222,\"#7201a8\"],[0.3333333333333333,\"#9c179e\"],[0.4444444444444444,\"#bd3786\"],[0.5555555555555556,\"#d8576b\"],[0.6666666666666666,\"#ed7953\"],[0.7777777777777778,\"#fb9f3a\"],[0.8888888888888888,\"#fdca26\"],[1.0,\"#f0f921\"]],\"diverging\":[[0,\"#8e0152\"],[0.1,\"#c51b7d\"],[0.2,\"#de77ae\"],[0.3,\"#f1b6da\"],[0.4,\"#fde0ef\"],[0.5,\"#f7f7f7\"],[0.6,\"#e6f5d0\"],[0.7,\"#b8e186\"],[0.8,\"#7fbc41\"],[0.9,\"#4d9221\"],[1,\"#276419\"]]},\"xaxis\":{\"gridcolor\":\"white\",\"linecolor\":\"white\",\"ticks\":\"\",\"title\":{\"standoff\":15},\"zerolinecolor\":\"white\",\"automargin\":true,\"zerolinewidth\":2},\"yaxis\":{\"gridcolor\":\"white\",\"linecolor\":\"white\",\"ticks\":\"\",\"title\":{\"standoff\":15},\"zerolinecolor\":\"white\",\"automargin\":true,\"zerolinewidth\":2},\"scene\":{\"xaxis\":{\"backgroundcolor\":\"#E5ECF6\",\"gridcolor\":\"white\",\"linecolor\":\"white\",\"showbackground\":true,\"ticks\":\"\",\"zerolinecolor\":\"white\",\"gridwidth\":2},\"yaxis\":{\"backgroundcolor\":\"#E5ECF6\",\"gridcolor\":\"white\",\"linecolor\":\"white\",\"showbackground\":true,\"ticks\":\"\",\"zerolinecolor\":\"white\",\"gridwidth\":2},\"zaxis\":{\"backgroundcolor\":\"#E5ECF6\",\"gridcolor\":\"white\",\"linecolor\":\"white\",\"showbackground\":true,\"ticks\":\"\",\"zerolinecolor\":\"white\",\"gridwidth\":2}},\"shapedefaults\":{\"line\":{\"color\":\"#2a3f5f\"}},\"annotationdefaults\":{\"arrowcolor\":\"#2a3f5f\",\"arrowhead\":0,\"arrowwidth\":1},\"geo\":{\"bgcolor\":\"white\",\"landcolor\":\"#E5ECF6\",\"subunitcolor\":\"white\",\"showland\":true,\"showlakes\":true,\"lakecolor\":\"white\"},\"title\":{\"x\":0.05},\"mapbox\":{\"style\":\"light\"}}},\"xaxis\":{\"anchor\":\"y\",\"domain\":[0.0,1.0],\"title\":{\"text\":\"Cat_Idade\"}},\"yaxis\":{\"anchor\":\"x\",\"domain\":[0.0,1.0],\"title\":{\"text\":\"Variacao_rs\"}},\"legend\":{\"tracegroupgap\":0},\"title\":{\"text\":\"Varia\\u00e7\\u00e3o Reais por Categoria de Idade\"},\"barmode\":\"relative\"},                        {\"responsive\": true}                    ).then(function(){\n",
              "                            \n",
              "var gd = document.getElementById('34ece0ab-6879-4f04-95ce-132480138258');\n",
              "var x = new MutationObserver(function (mutations, observer) {{\n",
              "        var display = window.getComputedStyle(gd).display;\n",
              "        if (!display || display === 'none') {{\n",
              "            console.log([gd, 'removed!']);\n",
              "            Plotly.purge(gd);\n",
              "            observer.disconnect();\n",
              "        }}\n",
              "}});\n",
              "\n",
              "// Listen for the removal of the full notebook cells\n",
              "var notebookContainer = gd.closest('#notebook-container');\n",
              "if (notebookContainer) {{\n",
              "    x.observe(notebookContainer, {childList: true});\n",
              "}}\n",
              "\n",
              "// Listen for the clearing of the current output cell\n",
              "var outputEl = gd.closest('.output');\n",
              "if (outputEl) {{\n",
              "    x.observe(outputEl, {childList: true});\n",
              "}}\n",
              "\n",
              "                        })                };                });            </script>        </div>"
            ]
          },
          "metadata": {},
          "output_type": "display_data"
        }
      ],
      "source": [
        "df_analise_cat_idade = df_principal.groupby('Cat_Idade')['Variacao_rs'].sum().reset_index()\n",
        "df_analise_cat_idade\n",
        "\n",
        "fig = px.bar(df_analise_cat_idade, x='Cat_Idade', y='Variacao_rs', text='Variacao_rs', title='Variação Reais por Categoria de Idade')\n",
        "fig.show()"
      ]
    }
  ],
  "metadata": {
    "colab": {
      "provenance": []
    },
    "kernelspec": {
      "display_name": "Python 3",
      "name": "python3"
    },
    "language_info": {
      "codemirror_mode": {
        "name": "ipython",
        "version": 3
      },
      "file_extension": ".py",
      "mimetype": "text/x-python",
      "name": "python",
      "nbconvert_exporter": "python",
      "pygments_lexer": "ipython3",
      "version": "3.10.12"
    }
  },
  "nbformat": 4,
  "nbformat_minor": 0
}
